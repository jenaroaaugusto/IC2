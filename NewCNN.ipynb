{
  "nbformat": 4,
  "nbformat_minor": 0,
  "metadata": {
    "colab": {
      "name": "NewCNN.ipynb",
      "provenance": [],
      "collapsed_sections": [],
      "toc_visible": true,
      "authorship_tag": "ABX9TyNbCL/KCvoNIDxlxEbE0snl",
      "include_colab_link": true
    },
    "kernelspec": {
      "name": "python3",
      "display_name": "Python 3"
    }
  },
  "cells": [
    {
      "cell_type": "markdown",
      "metadata": {
        "id": "view-in-github",
        "colab_type": "text"
      },
      "source": [
        "<a href=\"https://colab.research.google.com/github/jenaroaaugusto/IC2/blob/master/NewCNN.ipynb\" target=\"_parent\"><img src=\"https://colab.research.google.com/assets/colab-badge.svg\" alt=\"Open In Colab\"/></a>"
      ]
    },
    {
      "cell_type": "code",
      "metadata": {
        "id": "GrCiEbC7lglr",
        "colab_type": "code",
        "colab": {
          "base_uri": "https://localhost:8080/",
          "height": 34
        },
        "outputId": "8f2fee34-f9e0-48cd-b870-70eddc9370cc"
      },
      "source": [
        "import tensorflow as tf \n",
        "tf.__version__"
      ],
      "execution_count": 85,
      "outputs": [
        {
          "output_type": "execute_result",
          "data": {
            "text/plain": [
              "'2.2.0-rc2'"
            ]
          },
          "metadata": {
            "tags": []
          },
          "execution_count": 85
        }
      ]
    },
    {
      "cell_type": "code",
      "metadata": {
        "id": "hSQpp5o4lwg5",
        "colab_type": "code",
        "colab": {}
      },
      "source": [
        "from __future__ import absolute_import, division, print_function, unicode_literals\n",
        "from tensorflow.keras.models import Sequential\n",
        "from tensorflow.keras.layers import Dense, Conv2D, Flatten, Dropout, MaxPooling2D\n",
        "from tensorflow.keras.preprocessing.image import ImageDataGenerator\n",
        "\n",
        "import os\n",
        "import pathlib\n",
        "import numpy as np\n",
        "import matplotlib.pyplot as plt\n",
        "\n",
        "\n"
      ],
      "execution_count": 0,
      "outputs": []
    },
    {
      "cell_type": "code",
      "metadata": {
        "id": "Hk-LKGzInBhq",
        "colab_type": "code",
        "colab": {
          "base_uri": "https://localhost:8080/",
          "height": 34
        },
        "outputId": "c9567083-a0f7-4c43-eacb-d4b2c24d1c2e"
      },
      "source": [
        "!git clone https://github.com/jenaroaaugusto/Dataset_musica_semvalidacao.git"
      ],
      "execution_count": 87,
      "outputs": [
        {
          "output_type": "stream",
          "text": [
            "fatal: destination path 'Dataset_musica_semvalidacao' already exists and is not an empty directory.\n"
          ],
          "name": "stdout"
        }
      ]
    },
    {
      "cell_type": "code",
      "metadata": {
        "id": "EPIzFO7FncBv",
        "colab_type": "code",
        "colab": {}
      },
      "source": [
        "trainDir = os.path.join('/content/Dataset_musica_semvalidacao', 'Treinamento')\n",
        "validationDir=os.path.join('/content/Dataset_musica_semvalidacao', 'Teste')\n"
      ],
      "execution_count": 0,
      "outputs": []
    },
    {
      "cell_type": "code",
      "metadata": {
        "id": "gWdWcXK6pOXr",
        "colab_type": "code",
        "colab": {
          "base_uri": "https://localhost:8080/",
          "height": 69
        },
        "outputId": "784bdd81-f26e-4e97-cfdd-fa892292e9fc"
      },
      "source": [
        "train_dir = pathlib.Path(\"\"+trainDir)\n",
        "print(train_dir)\n",
        "total_train = len(list(train_dir.glob('*/*.bmp')))\n",
        "print(total_train)\n",
        "CLASS_NAMES=np.array(os.listdir(train_dir))\n",
        "print(CLASS_NAMES)"
      ],
      "execution_count": 89,
      "outputs": [
        {
          "output_type": "stream",
          "text": [
            "/content/Dataset_musica_semvalidacao/Treinamento\n",
            "3393\n",
            "['ACCIDENTAL_Flat' 'Natural' 'DoubSharp' 'Alto' 'Bass' 'Trebble' 'Sharp']\n"
          ],
          "name": "stdout"
        }
      ]
    },
    {
      "cell_type": "code",
      "metadata": {
        "id": "3uz2G7nirBc4",
        "colab_type": "code",
        "colab": {
          "base_uri": "https://localhost:8080/",
          "height": 52
        },
        "outputId": "750548e8-8a95-42bc-969b-837b6a460870"
      },
      "source": [
        "validation_dir = pathlib.Path(\"\"+validationDir)\n",
        "print(validation_dir)\n",
        "total_val = len(list(validation_dir.glob('*/*.bmp')))\n",
        "print(total_val)"
      ],
      "execution_count": 90,
      "outputs": [
        {
          "output_type": "stream",
          "text": [
            "/content/Dataset_musica_semvalidacao/Teste\n",
            "700\n"
          ],
          "name": "stdout"
        }
      ]
    },
    {
      "cell_type": "code",
      "metadata": {
        "id": "keXG_gCEtT9R",
        "colab_type": "code",
        "colab": {}
      },
      "source": [
        "batch_size = 32\n",
        "epochs = 15\n",
        "IMG_HEIGHT = 28\n",
        "IMG_WIDTH = 28\n"
      ],
      "execution_count": 0,
      "outputs": []
    },
    {
      "cell_type": "code",
      "metadata": {
        "id": "Yyvb2t70tfkW",
        "colab_type": "code",
        "colab": {}
      },
      "source": [
        "train_image_generator = ImageDataGenerator(rescale=1./255) # Generator for our training data\n",
        "validation_image_generator = ImageDataGenerator(rescale=1./255) # Generator for our validation data\n"
      ],
      "execution_count": 0,
      "outputs": []
    },
    {
      "cell_type": "code",
      "metadata": {
        "id": "rwDUyysAti6X",
        "colab_type": "code",
        "colab": {
          "base_uri": "https://localhost:8080/",
          "height": 34
        },
        "outputId": "eaa0add7-3e7f-4ba6-d5fa-82031353a7ec"
      },
      "source": [
        "train_data_gen = train_image_generator.flow_from_directory(batch_size=batch_size,\n",
        "                                                           directory=train_dir,\n",
        "                                                           shuffle=True,\n",
        "                                                           color_mode=\"grayscale\",\n",
        "                                                           target_size=(IMG_HEIGHT, IMG_WIDTH),\n",
        "                                                           class_mode=\"categorical\")\n"
      ],
      "execution_count": 93,
      "outputs": [
        {
          "output_type": "stream",
          "text": [
            "Found 3393 images belonging to 7 classes.\n"
          ],
          "name": "stdout"
        }
      ]
    },
    {
      "cell_type": "code",
      "metadata": {
        "id": "3SK1yOFn008w",
        "colab_type": "code",
        "colab": {
          "base_uri": "https://localhost:8080/",
          "height": 34
        },
        "outputId": "2b228de6-0325-4d82-b84e-c66a0c6169de"
      },
      "source": [
        "val_data_gen = validation_image_generator.flow_from_directory(batch_size=batch_size,\n",
        "                                                              directory=validation_dir,\n",
        "                                                              target_size=(IMG_HEIGHT, IMG_WIDTH),\n",
        "                                                              shuffle=True,\n",
        "                                                              color_mode=\"grayscale\",\n",
        "                                                              class_mode=\"categorical\")\n"
      ],
      "execution_count": 94,
      "outputs": [
        {
          "output_type": "stream",
          "text": [
            "Found 700 images belonging to 7 classes.\n"
          ],
          "name": "stdout"
        }
      ]
    },
    {
      "cell_type": "code",
      "metadata": {
        "id": "mhRjMBttxWAW",
        "colab_type": "code",
        "colab": {
          "base_uri": "https://localhost:8080/",
          "height": 139
        },
        "outputId": "bb9130e5-f00e-469a-edd3-d52c1ceb882a"
      },
      "source": [
        "train_data_gen.class_indices"
      ],
      "execution_count": 95,
      "outputs": [
        {
          "output_type": "execute_result",
          "data": {
            "text/plain": [
              "{'ACCIDENTAL_Flat': 0,\n",
              " 'Alto': 1,\n",
              " 'Bass': 2,\n",
              " 'DoubSharp': 3,\n",
              " 'Natural': 4,\n",
              " 'Sharp': 5,\n",
              " 'Trebble': 6}"
            ]
          },
          "metadata": {
            "tags": []
          },
          "execution_count": 95
        }
      ]
    },
    {
      "cell_type": "code",
      "metadata": {
        "id": "L-f9ln0Vuqit",
        "colab_type": "code",
        "colab": {}
      },
      "source": [
        "x,y=next(train_data_gen)\n"
      ],
      "execution_count": 0,
      "outputs": []
    },
    {
      "cell_type": "code",
      "metadata": {
        "id": "CTLKQSo3y1Ed",
        "colab_type": "code",
        "colab": {
          "base_uri": "https://localhost:8080/",
          "height": 34
        },
        "outputId": "bcf5a939-7726-4c30-bbf5-26d22e53d1b8"
      },
      "source": [
        "fy=np.argmax(y[1])\n",
        "fy"
      ],
      "execution_count": 97,
      "outputs": [
        {
          "output_type": "execute_result",
          "data": {
            "text/plain": [
              "6"
            ]
          },
          "metadata": {
            "tags": []
          },
          "execution_count": 97
        }
      ]
    },
    {
      "cell_type": "code",
      "metadata": {
        "id": "7gnm714eu1Da",
        "colab_type": "code",
        "colab": {}
      },
      "source": [
        "ax=train_data_gen.class_indices"
      ],
      "execution_count": 0,
      "outputs": []
    },
    {
      "cell_type": "code",
      "metadata": {
        "id": "bNM20KZivRsk",
        "colab_type": "code",
        "colab": {
          "base_uri": "https://localhost:8080/",
          "height": 34
        },
        "outputId": "14b49660-e9b4-492f-96e6-067cc0f8be15"
      },
      "source": [
        "ax.keys()"
      ],
      "execution_count": 99,
      "outputs": [
        {
          "output_type": "execute_result",
          "data": {
            "text/plain": [
              "dict_keys(['ACCIDENTAL_Flat', 'Alto', 'Bass', 'DoubSharp', 'Natural', 'Sharp', 'Trebble'])"
            ]
          },
          "metadata": {
            "tags": []
          },
          "execution_count": 99
        }
      ]
    },
    {
      "cell_type": "code",
      "metadata": {
        "id": "L1zeTOEN1rmk",
        "colab_type": "code",
        "colab": {
          "base_uri": "https://localhost:8080/",
          "height": 34
        },
        "outputId": "15e1b77d-ad52-444e-b8da-60faa0295077"
      },
      "source": [
        "train_data_gen.num_classes"
      ],
      "execution_count": 100,
      "outputs": [
        {
          "output_type": "execute_result",
          "data": {
            "text/plain": [
              "7"
            ]
          },
          "metadata": {
            "tags": []
          },
          "execution_count": 100
        }
      ]
    },
    {
      "cell_type": "code",
      "metadata": {
        "id": "MzlbUnZczXMK",
        "colab_type": "code",
        "colab": {
          "base_uri": "https://localhost:8080/",
          "height": 34
        },
        "outputId": "3e8dbecb-bae9-4cd3-f661-96169303e28b"
      },
      "source": [
        "val_data_gen.num_classes"
      ],
      "execution_count": 101,
      "outputs": [
        {
          "output_type": "execute_result",
          "data": {
            "text/plain": [
              "7"
            ]
          },
          "metadata": {
            "tags": []
          },
          "execution_count": 101
        }
      ]
    },
    {
      "cell_type": "markdown",
      "metadata": {
        "id": "XQ_wo83sEO9q",
        "colab_type": "text"
      },
      "source": [
        "# Rede Neural Convolucional - CNN  "
      ]
    },
    {
      "cell_type": "code",
      "metadata": {
        "id": "W2LQEfGF7NXH",
        "colab_type": "code",
        "colab": {}
      },
      "source": [
        "from tensorflow.keras import datasets, layers, models,optimizers\n",
        "from tensorflow.keras.layers import Activation, Dense\n",
        "# from keras import "
      ],
      "execution_count": 0,
      "outputs": []
    },
    {
      "cell_type": "code",
      "metadata": {
        "id": "kMPUYrpl692r",
        "colab_type": "code",
        "colab": {
          "base_uri": "https://localhost:8080/",
          "height": 364
        },
        "outputId": "0797c65b-5089-463b-b22c-0e78836a4d9c"
      },
      "source": [
        "model = models.Sequential()\n",
        "model.add(layers.Conv2D(32, (2, 2),padding=\"same\", activation='relu', input_shape=(IMG_HEIGHT, IMG_WIDTH, 1)))\n",
        "model.add(layers.MaxPooling2D((2, 2)))\n",
        "model.add(layers.Conv2D(64, (3, 3),padding=\"same\", activation='relu'))\n",
        "model.add(layers.MaxPooling2D((2, 2)))\n",
        "model.add(layers.Conv2D(128, (3, 3),padding=\"same\", activation='relu'))\n",
        "model.add(layers.MaxPooling2D(2,2))\n",
        "model.summary()"
      ],
      "execution_count": 103,
      "outputs": [
        {
          "output_type": "stream",
          "text": [
            "Model: \"sequential_8\"\n",
            "_________________________________________________________________\n",
            "Layer (type)                 Output Shape              Param #   \n",
            "=================================================================\n",
            "conv2d_24 (Conv2D)           (None, 28, 28, 32)        160       \n",
            "_________________________________________________________________\n",
            "max_pooling2d_24 (MaxPooling (None, 14, 14, 32)        0         \n",
            "_________________________________________________________________\n",
            "conv2d_25 (Conv2D)           (None, 14, 14, 64)        18496     \n",
            "_________________________________________________________________\n",
            "max_pooling2d_25 (MaxPooling (None, 7, 7, 64)          0         \n",
            "_________________________________________________________________\n",
            "conv2d_26 (Conv2D)           (None, 7, 7, 128)         73856     \n",
            "_________________________________________________________________\n",
            "max_pooling2d_26 (MaxPooling (None, 3, 3, 128)         0         \n",
            "=================================================================\n",
            "Total params: 92,512\n",
            "Trainable params: 92,512\n",
            "Non-trainable params: 0\n",
            "_________________________________________________________________\n"
          ],
          "name": "stdout"
        }
      ]
    },
    {
      "cell_type": "code",
      "metadata": {
        "id": "sgVDZhkW7KFT",
        "colab_type": "code",
        "colab": {
          "base_uri": "https://localhost:8080/",
          "height": 607
        },
        "outputId": "396dd31c-1909-444b-9733-c4d6426238f1"
      },
      "source": [
        "model.add(layers.Flatten())\n",
        "model.add(layers.Dropout(0.1))\n",
        "model.add(layers.Dense(128, activation='relu'))\n",
        "model.add(layers.Dense(64,activation='relu'))\n",
        "model.add(layers.Dense(10, activation='relu'))\n",
        "model.add(Dense(7))\n",
        "model.add(Activation('softmax'))\n",
        "model.summary()"
      ],
      "execution_count": 104,
      "outputs": [
        {
          "output_type": "stream",
          "text": [
            "Model: \"sequential_8\"\n",
            "_________________________________________________________________\n",
            "Layer (type)                 Output Shape              Param #   \n",
            "=================================================================\n",
            "conv2d_24 (Conv2D)           (None, 28, 28, 32)        160       \n",
            "_________________________________________________________________\n",
            "max_pooling2d_24 (MaxPooling (None, 14, 14, 32)        0         \n",
            "_________________________________________________________________\n",
            "conv2d_25 (Conv2D)           (None, 14, 14, 64)        18496     \n",
            "_________________________________________________________________\n",
            "max_pooling2d_25 (MaxPooling (None, 7, 7, 64)          0         \n",
            "_________________________________________________________________\n",
            "conv2d_26 (Conv2D)           (None, 7, 7, 128)         73856     \n",
            "_________________________________________________________________\n",
            "max_pooling2d_26 (MaxPooling (None, 3, 3, 128)         0         \n",
            "_________________________________________________________________\n",
            "flatten_11 (Flatten)         (None, 1152)              0         \n",
            "_________________________________________________________________\n",
            "dropout_11 (Dropout)         (None, 1152)              0         \n",
            "_________________________________________________________________\n",
            "dense_44 (Dense)             (None, 128)               147584    \n",
            "_________________________________________________________________\n",
            "dense_45 (Dense)             (None, 64)                8256      \n",
            "_________________________________________________________________\n",
            "dense_46 (Dense)             (None, 10)                650       \n",
            "_________________________________________________________________\n",
            "dense_47 (Dense)             (None, 7)                 77        \n",
            "_________________________________________________________________\n",
            "activation_6 (Activation)    (None, 7)                 0         \n",
            "=================================================================\n",
            "Total params: 249,079\n",
            "Trainable params: 249,079\n",
            "Non-trainable params: 0\n",
            "_________________________________________________________________\n"
          ],
          "name": "stdout"
        }
      ]
    },
    {
      "cell_type": "code",
      "metadata": {
        "id": "Z-_60R4zgd_N",
        "colab_type": "code",
        "colab": {}
      },
      "source": [
        "METRICS = [\n",
        "      tf.keras.metrics.TruePositives(name='tp'),\n",
        "      tf.keras.metrics.FalsePositives(name='fp'),\n",
        "      tf.keras.metrics.TrueNegatives(name='tn'),\n",
        "      tf.keras.metrics.FalseNegatives(name='fn'), \n",
        "      tf.keras.metrics.BinaryAccuracy(name='accuracy'),\n",
        "      tf.keras.metrics.Precision(name='precision'),\n",
        "      tf.keras.metrics.Recall(name='recall'),\n",
        "      tf.keras.metrics.AUC(name='auc'),\n",
        "]\n"
      ],
      "execution_count": 0,
      "outputs": []
    },
    {
      "cell_type": "code",
      "metadata": {
        "id": "lmSjzRQc7_Wa",
        "colab_type": "code",
        "colab": {}
      },
      "source": [
        "model.compile(optimizer=\"adam\",\n",
        "              loss=\"categorical_crossentropy\",\n",
        "              metrics=METRICS)\n"
      ],
      "execution_count": 0,
      "outputs": []
    },
    {
      "cell_type": "code",
      "metadata": {
        "id": "IMnX0k30-1HF",
        "colab_type": "code",
        "colab": {
          "base_uri": "https://localhost:8080/",
          "height": 607
        },
        "outputId": "ba61f051-4dd2-49df-9191-9d6554b071ce"
      },
      "source": [
        "model.summary()\n"
      ],
      "execution_count": 108,
      "outputs": [
        {
          "output_type": "stream",
          "text": [
            "Model: \"sequential_8\"\n",
            "_________________________________________________________________\n",
            "Layer (type)                 Output Shape              Param #   \n",
            "=================================================================\n",
            "conv2d_24 (Conv2D)           (None, 28, 28, 32)        160       \n",
            "_________________________________________________________________\n",
            "max_pooling2d_24 (MaxPooling (None, 14, 14, 32)        0         \n",
            "_________________________________________________________________\n",
            "conv2d_25 (Conv2D)           (None, 14, 14, 64)        18496     \n",
            "_________________________________________________________________\n",
            "max_pooling2d_25 (MaxPooling (None, 7, 7, 64)          0         \n",
            "_________________________________________________________________\n",
            "conv2d_26 (Conv2D)           (None, 7, 7, 128)         73856     \n",
            "_________________________________________________________________\n",
            "max_pooling2d_26 (MaxPooling (None, 3, 3, 128)         0         \n",
            "_________________________________________________________________\n",
            "flatten_11 (Flatten)         (None, 1152)              0         \n",
            "_________________________________________________________________\n",
            "dropout_11 (Dropout)         (None, 1152)              0         \n",
            "_________________________________________________________________\n",
            "dense_44 (Dense)             (None, 128)               147584    \n",
            "_________________________________________________________________\n",
            "dense_45 (Dense)             (None, 64)                8256      \n",
            "_________________________________________________________________\n",
            "dense_46 (Dense)             (None, 10)                650       \n",
            "_________________________________________________________________\n",
            "dense_47 (Dense)             (None, 7)                 77        \n",
            "_________________________________________________________________\n",
            "activation_6 (Activation)    (None, 7)                 0         \n",
            "=================================================================\n",
            "Total params: 249,079\n",
            "Trainable params: 249,079\n",
            "Non-trainable params: 0\n",
            "_________________________________________________________________\n"
          ],
          "name": "stdout"
        }
      ]
    },
    {
      "cell_type": "code",
      "metadata": {
        "id": "YPgvfCv9-5CP",
        "colab_type": "code",
        "colab": {
          "base_uri": "https://localhost:8080/",
          "height": 558
        },
        "outputId": "036aec9c-4cb2-47b6-aba5-c7a7b68018b7"
      },
      "source": [
        "\n",
        "history = model.fit(\n",
        "    train_data_gen,\n",
        "    steps_per_epoch=total_train // batch_size,\n",
        "    epochs=epochs,\n",
        "    validation_data=val_data_gen,\n",
        "    validation_steps=total_val // batch_size\n",
        ")"
      ],
      "execution_count": 109,
      "outputs": [
        {
          "output_type": "stream",
          "text": [
            "Epoch 1/15\n",
            "106/106 [==============================] - 8s 73ms/step - loss: 0.7340 - tp: 2078.0000 - fp: 167.0000 - tn: 19999.0000 - fn: 1283.0000 - accuracy: 0.9384 - precision: 0.9256 - recall: 0.6183 - auc: 0.9543 - val_loss: 0.1436 - val_tp: 644.0000 - val_fp: 16.0000 - val_tn: 4016.0000 - val_fn: 28.0000 - val_accuracy: 0.9906 - val_precision: 0.9758 - val_recall: 0.9583 - val_auc: 0.9982\n",
            "Epoch 2/15\n",
            "106/106 [==============================] - 7s 67ms/step - loss: 0.1106 - tp: 3257.0000 - fp: 89.0000 - tn: 20263.0000 - fn: 135.0000 - accuracy: 0.9906 - precision: 0.9734 - recall: 0.9602 - auc: 0.9981 - val_loss: 0.0548 - val_tp: 656.0000 - val_fp: 8.0000 - val_tn: 4024.0000 - val_fn: 16.0000 - val_accuracy: 0.9949 - val_precision: 0.9880 - val_recall: 0.9762 - val_auc: 0.9998\n",
            "Epoch 3/15\n",
            "106/106 [==============================] - 7s 67ms/step - loss: 0.0729 - tp: 3276.0000 - fp: 61.0000 - tn: 20105.0000 - fn: 85.0000 - accuracy: 0.9938 - precision: 0.9817 - recall: 0.9747 - auc: 0.9991 - val_loss: 0.1334 - val_tp: 637.0000 - val_fp: 26.0000 - val_tn: 4006.0000 - val_fn: 35.0000 - val_accuracy: 0.9870 - val_precision: 0.9608 - val_recall: 0.9479 - val_auc: 0.9978\n",
            "Epoch 4/15\n",
            "106/106 [==============================] - 7s 67ms/step - loss: 0.0427 - tp: 3311.0000 - fp: 42.0000 - tn: 20124.0000 - fn: 50.0000 - accuracy: 0.9961 - precision: 0.9875 - recall: 0.9851 - auc: 0.9997 - val_loss: 0.0275 - val_tp: 664.0000 - val_fp: 6.0000 - val_tn: 4026.0000 - val_fn: 8.0000 - val_accuracy: 0.9970 - val_precision: 0.9910 - val_recall: 0.9881 - val_auc: 0.9999\n",
            "Epoch 5/15\n",
            "106/106 [==============================] - 7s 67ms/step - loss: 0.0205 - tp: 3337.0000 - fp: 20.0000 - tn: 20146.0000 - fn: 24.0000 - accuracy: 0.9981 - precision: 0.9940 - recall: 0.9929 - auc: 1.0000 - val_loss: 0.0224 - val_tp: 668.0000 - val_fp: 4.0000 - val_tn: 4028.0000 - val_fn: 4.0000 - val_accuracy: 0.9983 - val_precision: 0.9940 - val_recall: 0.9940 - val_auc: 0.9992\n",
            "Epoch 6/15\n",
            "106/106 [==============================] - 7s 67ms/step - loss: 0.0186 - tp: 3333.0000 - fp: 23.0000 - tn: 20143.0000 - fn: 28.0000 - accuracy: 0.9978 - precision: 0.9931 - recall: 0.9917 - auc: 1.0000 - val_loss: 0.0436 - val_tp: 664.0000 - val_fp: 6.0000 - val_tn: 4026.0000 - val_fn: 8.0000 - val_accuracy: 0.9970 - val_precision: 0.9910 - val_recall: 0.9881 - val_auc: 0.9991\n",
            "Epoch 7/15\n",
            "106/106 [==============================] - 7s 67ms/step - loss: 0.0071 - tp: 3355.0000 - fp: 5.0000 - tn: 20161.0000 - fn: 6.0000 - accuracy: 0.9995 - precision: 0.9985 - recall: 0.9982 - auc: 1.0000 - val_loss: 0.0442 - val_tp: 662.0000 - val_fp: 10.0000 - val_tn: 4022.0000 - val_fn: 10.0000 - val_accuracy: 0.9957 - val_precision: 0.9851 - val_recall: 0.9851 - val_auc: 0.9990\n",
            "Epoch 8/15\n",
            "106/106 [==============================] - 7s 68ms/step - loss: 0.0135 - tp: 3345.0000 - fp: 14.0000 - tn: 20152.0000 - fn: 16.0000 - accuracy: 0.9987 - precision: 0.9958 - recall: 0.9952 - auc: 1.0000 - val_loss: 0.0746 - val_tp: 662.0000 - val_fp: 9.0000 - val_tn: 4023.0000 - val_fn: 10.0000 - val_accuracy: 0.9960 - val_precision: 0.9866 - val_recall: 0.9851 - val_auc: 0.9973\n",
            "Epoch 9/15\n",
            "106/106 [==============================] - 7s 67ms/step - loss: 0.0084 - tp: 3356.0000 - fp: 4.0000 - tn: 20162.0000 - fn: 5.0000 - accuracy: 0.9996 - precision: 0.9988 - recall: 0.9985 - auc: 0.9998 - val_loss: 0.0154 - val_tp: 668.0000 - val_fp: 3.0000 - val_tn: 4029.0000 - val_fn: 4.0000 - val_accuracy: 0.9985 - val_precision: 0.9955 - val_recall: 0.9940 - val_auc: 1.0000\n",
            "Epoch 10/15\n",
            "106/106 [==============================] - 7s 66ms/step - loss: 0.0059 - tp: 3352.0000 - fp: 7.0000 - tn: 20159.0000 - fn: 9.0000 - accuracy: 0.9993 - precision: 0.9979 - recall: 0.9973 - auc: 1.0000 - val_loss: 0.0296 - val_tp: 666.0000 - val_fp: 5.0000 - val_tn: 4027.0000 - val_fn: 6.0000 - val_accuracy: 0.9977 - val_precision: 0.9925 - val_recall: 0.9911 - val_auc: 0.9991\n",
            "Epoch 11/15\n",
            "106/106 [==============================] - 7s 67ms/step - loss: 0.0019 - tp: 3360.0000 - fp: 1.0000 - tn: 20165.0000 - fn: 1.0000 - accuracy: 0.9999 - precision: 0.9997 - recall: 0.9997 - auc: 1.0000 - val_loss: 0.0426 - val_tp: 668.0000 - val_fp: 4.0000 - val_tn: 4028.0000 - val_fn: 4.0000 - val_accuracy: 0.9983 - val_precision: 0.9940 - val_recall: 0.9940 - val_auc: 0.9991\n",
            "Epoch 12/15\n",
            "106/106 [==============================] - 7s 67ms/step - loss: 0.0281 - tp: 3330.0000 - fp: 27.0000 - tn: 20139.0000 - fn: 31.0000 - accuracy: 0.9975 - precision: 0.9920 - recall: 0.9908 - auc: 0.9995 - val_loss: 0.0909 - val_tp: 658.0000 - val_fp: 11.0000 - val_tn: 4021.0000 - val_fn: 14.0000 - val_accuracy: 0.9947 - val_precision: 0.9836 - val_recall: 0.9792 - val_auc: 0.9969\n",
            "Epoch 13/15\n",
            "106/106 [==============================] - 7s 67ms/step - loss: 0.0188 - tp: 3337.0000 - fp: 22.0000 - tn: 20144.0000 - fn: 24.0000 - accuracy: 0.9980 - precision: 0.9935 - recall: 0.9929 - auc: 1.0000 - val_loss: 0.0257 - val_tp: 668.0000 - val_fp: 3.0000 - val_tn: 4029.0000 - val_fn: 4.0000 - val_accuracy: 0.9985 - val_precision: 0.9955 - val_recall: 0.9940 - val_auc: 0.9992\n",
            "Epoch 14/15\n",
            "106/106 [==============================] - 7s 66ms/step - loss: 0.0038 - tp: 3357.0000 - fp: 3.0000 - tn: 20163.0000 - fn: 4.0000 - accuracy: 0.9997 - precision: 0.9991 - recall: 0.9988 - auc: 1.0000 - val_loss: 0.0254 - val_tp: 669.0000 - val_fp: 3.0000 - val_tn: 4029.0000 - val_fn: 3.0000 - val_accuracy: 0.9987 - val_precision: 0.9955 - val_recall: 0.9955 - val_auc: 0.9991\n",
            "Epoch 15/15\n",
            "106/106 [==============================] - 7s 66ms/step - loss: 0.0062 - tp: 3352.0000 - fp: 8.0000 - tn: 20158.0000 - fn: 9.0000 - accuracy: 0.9993 - precision: 0.9976 - recall: 0.9973 - auc: 1.0000 - val_loss: 0.0131 - val_tp: 669.0000 - val_fp: 3.0000 - val_tn: 4029.0000 - val_fn: 3.0000 - val_accuracy: 0.9987 - val_precision: 0.9955 - val_recall: 0.9955 - val_auc: 1.0000\n"
          ],
          "name": "stdout"
        }
      ]
    },
    {
      "cell_type": "code",
      "metadata": {
        "id": "bj3kH0UC_DT9",
        "colab_type": "code",
        "colab": {}
      },
      "source": [
        "model.save_weights('Teste14.h5') "
      ],
      "execution_count": 0,
      "outputs": []
    },
    {
      "cell_type": "code",
      "metadata": {
        "id": "KDHJ0AmtUqki",
        "colab_type": "code",
        "colab": {
          "base_uri": "https://localhost:8080/",
          "height": 499
        },
        "outputId": "4d5c01fe-9906-4f29-dae3-12b2f938310e"
      },
      "source": [
        "acc = history.history['accuracy']\n",
        "val_acc = history.history['val_accuracy']\n",
        "\n",
        "loss=history.history['loss']\n",
        "val_loss=history.history['val_loss']\n",
        "\n",
        "epochs_range = range(epochs)\n",
        "\n",
        "plt.figure(figsize=(8, 8))\n",
        "plt.subplot(1, 2, 1)\n",
        "plt.plot(epochs_range, acc, label='Training Accuracy')\n",
        "plt.plot(epochs_range, val_acc, label='Validation Accuracy')\n",
        "plt.legend(loc='lower right')\n",
        "plt.title('Training and Validation Accuracy')\n",
        "\n",
        "plt.subplot(1, 2, 2)\n",
        "plt.plot(epochs_range, loss, label='Training Loss')\n",
        "plt.plot(epochs_range, val_loss, label='Validation Loss')\n",
        "plt.legend(loc='upper right')\n",
        "plt.title('Training and Validation Loss')\n",
        "plt.show()\n"
      ],
      "execution_count": 111,
      "outputs": [
        {
          "output_type": "display_data",
          "data": {
            "image/png": "[encoded data removed]",
            "text/plain": [
              "<Figure size 576x576 with 2 Axes>"
            ]
          },
          "metadata": {
            "tags": []
          }
        }
      ]
    },
    {
      "cell_type": "code",
      "metadata": {
        "id": "XcZoFlVOhYHG",
        "colab_type": "code",
        "colab": {}
      },
      "source": [
        ""
      ],
      "execution_count": 0,
      "outputs": []
    }
  ]
}