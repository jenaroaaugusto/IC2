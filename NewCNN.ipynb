{
  "nbformat": 4,
  "nbformat_minor": 0,
  "metadata": {
    "colab": {
      "name": "NewCNN.ipynb",
      "provenance": [],
      "collapsed_sections": [],
      "toc_visible": true,
      "authorship_tag": "ABX9TyMadJUguBHP9CBnXq1+PpqJ",
      "include_colab_link": true
    },
    "kernelspec": {
      "name": "python3",
      "display_name": "Python 3"
    }
  },
  "cells": [
    {
      "cell_type": "markdown",
      "metadata": {
        "id": "view-in-github",
        "colab_type": "text"
      },
      "source": [
        "<a href=\"https://colab.research.google.com/github/jenaroaaugusto/IC2/blob/master/NewCNN.ipynb\" target=\"_parent\"><img src=\"https://colab.research.google.com/assets/colab-badge.svg\" alt=\"Open In Colab\"/></a>"
      ]
    },
    {
      "cell_type": "code",
      "metadata": {
        "id": "GrCiEbC7lglr",
        "colab_type": "code",
        "colab": {
          "base_uri": "https://localhost:8080/",
          "height": 34
        },
        "outputId": "95f9a646-2584-4e63-e234-75edfebab23d"
      },
      "source": [
        "import tensorflow as tf \n",
        "tf.__version__"
      ],
      "execution_count": 1,
      "outputs": [
        {
          "output_type": "execute_result",
          "data": {
            "text/plain": [
              "'2.2.0-rc2'"
            ]
          },
          "metadata": {
            "tags": []
          },
          "execution_count": 1
        }
      ]
    },
    {
      "cell_type": "code",
      "metadata": {
        "id": "hSQpp5o4lwg5",
        "colab_type": "code",
        "colab": {}
      },
      "source": [
        "from __future__ import absolute_import, division, print_function, unicode_literals\n",
        "from tensorflow.keras.models import Sequential\n",
        "from tensorflow.keras.layers import Dense, Conv2D, Flatten, Dropout, MaxPooling2D\n",
        "from tensorflow.keras.preprocessing.image import ImageDataGenerator\n",
        "\n",
        "import os\n",
        "import pathlib\n",
        "import numpy as np\n",
        "import matplotlib.pyplot as plt\n",
        "\n",
        "\n"
      ],
      "execution_count": 0,
      "outputs": []
    },
    {
      "cell_type": "code",
      "metadata": {
        "id": "Hk-LKGzInBhq",
        "colab_type": "code",
        "colab": {
          "base_uri": "https://localhost:8080/",
          "height": 34
        },
        "outputId": "7709ba07-3e5d-4068-b368-a113c4ce6215"
      },
      "source": [
        "!git clone https://github.com/jenaroaaugusto/Dataset_musica_semvalidacao.git"
      ],
      "execution_count": 3,
      "outputs": [
        {
          "output_type": "stream",
          "text": [
            "fatal: destination path 'Dataset_musica_semvalidacao' already exists and is not an empty directory.\n"
          ],
          "name": "stdout"
        }
      ]
    },
    {
      "cell_type": "code",
      "metadata": {
        "id": "EPIzFO7FncBv",
        "colab_type": "code",
        "colab": {}
      },
      "source": [
        "trainDir = os.path.join('/content/Dataset_musica_semvalidacao', 'Treinamento')\n",
        "validationDir=os.path.join('/content/Dataset_musica_semvalidacao', 'Teste')\n"
      ],
      "execution_count": 0,
      "outputs": []
    },
    {
      "cell_type": "code",
      "metadata": {
        "id": "gWdWcXK6pOXr",
        "colab_type": "code",
        "colab": {
          "base_uri": "https://localhost:8080/",
          "height": 69
        },
        "outputId": "966ff20b-6f3e-4686-d03a-f3c5cd170fb2"
      },
      "source": [
        "train_dir = pathlib.Path(\"\"+trainDir)\n",
        "print(train_dir)\n",
        "total_train = len(list(train_dir.glob('*/*.bmp')))\n",
        "print(total_train)\n",
        "CLASS_NAMES=np.array(os.listdir(train_dir))\n",
        "print(CLASS_NAMES)"
      ],
      "execution_count": 4,
      "outputs": [
        {
          "output_type": "stream",
          "text": [
            "/content/Dataset_musica_semvalidacao/Treinamento\n",
            "3393\n",
            "['ACCIDENTAL_Flat' 'Natural' 'DoubSharp' 'Alto' 'Bass' 'Trebble' 'Sharp']\n"
          ],
          "name": "stdout"
        }
      ]
    },
    {
      "cell_type": "code",
      "metadata": {
        "id": "3uz2G7nirBc4",
        "colab_type": "code",
        "colab": {
          "base_uri": "https://localhost:8080/",
          "height": 52
        },
        "outputId": "3c37e2d1-4aed-4015-f2ad-0ca715285997"
      },
      "source": [
        "validation_dir = pathlib.Path(\"\"+validationDir)\n",
        "print(validation_dir)\n",
        "total_val = len(list(validation_dir.glob('*/*.bmp')))\n",
        "print(total_val)"
      ],
      "execution_count": 5,
      "outputs": [
        {
          "output_type": "stream",
          "text": [
            "/content/Dataset_musica_semvalidacao/Teste\n",
            "700\n"
          ],
          "name": "stdout"
        }
      ]
    },
    {
      "cell_type": "code",
      "metadata": {
        "id": "keXG_gCEtT9R",
        "colab_type": "code",
        "colab": {}
      },
      "source": [
        "batch_size = 32\n",
        "epochs = 15\n",
        "IMG_HEIGHT = 28\n",
        "IMG_WIDTH = 28\n"
      ],
      "execution_count": 0,
      "outputs": []
    },
    {
      "cell_type": "code",
      "metadata": {
        "id": "Yyvb2t70tfkW",
        "colab_type": "code",
        "colab": {}
      },
      "source": [
        "train_image_generator = ImageDataGenerator(rescale=1./255) # Generator for our training data\n",
        "validation_image_generator = ImageDataGenerator(rescale=1./255) # Generator for our validation data\n"
      ],
      "execution_count": 0,
      "outputs": []
    },
    {
      "cell_type": "code",
      "metadata": {
        "id": "rwDUyysAti6X",
        "colab_type": "code",
        "colab": {
          "base_uri": "https://localhost:8080/",
          "height": 34
        },
        "outputId": "fb03b06c-d1b5-46e6-faa5-f714b14884f8"
      },
      "source": [
        "train_data_gen = train_image_generator.flow_from_directory(batch_size=batch_size,\n",
        "                                                           directory=train_dir,\n",
        "                                                           shuffle=True,\n",
        "                                                           color_mode=\"grayscale\",\n",
        "                                                           target_size=(IMG_HEIGHT, IMG_WIDTH),\n",
        "                                                           class_mode=\"categorical\")\n"
      ],
      "execution_count": 10,
      "outputs": [
        {
          "output_type": "stream",
          "text": [
            "Found 3393 images belonging to 7 classes.\n"
          ],
          "name": "stdout"
        }
      ]
    },
    {
      "cell_type": "code",
      "metadata": {
        "id": "3SK1yOFn008w",
        "colab_type": "code",
        "colab": {
          "base_uri": "https://localhost:8080/",
          "height": 34
        },
        "outputId": "70e06279-82bf-4a93-f7ec-300416246c21"
      },
      "source": [
        "val_data_gen = validation_image_generator.flow_from_directory(batch_size=batch_size,\n",
        "                                                              directory=validation_dir,\n",
        "                                                              target_size=(IMG_HEIGHT, IMG_WIDTH),\n",
        "                                                              color_mode=\"grayscale\",\n",
        "                                                              class_mode=\"categorical\")\n"
      ],
      "execution_count": 11,
      "outputs": [
        {
          "output_type": "stream",
          "text": [
            "Found 700 images belonging to 7 classes.\n"
          ],
          "name": "stdout"
        }
      ]
    },
    {
      "cell_type": "code",
      "metadata": {
        "id": "mhRjMBttxWAW",
        "colab_type": "code",
        "colab": {
          "base_uri": "https://localhost:8080/",
          "height": 139
        },
        "outputId": "42d190e1-9577-43dd-97f6-53f9bf7c7d80"
      },
      "source": [
        "train_data_gen.class_indices"
      ],
      "execution_count": 12,
      "outputs": [
        {
          "output_type": "execute_result",
          "data": {
            "text/plain": [
              "{'ACCIDENTAL_Flat': 0,\n",
              " 'Alto': 1,\n",
              " 'Bass': 2,\n",
              " 'DoubSharp': 3,\n",
              " 'Natural': 4,\n",
              " 'Sharp': 5,\n",
              " 'Trebble': 6}"
            ]
          },
          "metadata": {
            "tags": []
          },
          "execution_count": 12
        }
      ]
    },
    {
      "cell_type": "code",
      "metadata": {
        "id": "L-f9ln0Vuqit",
        "colab_type": "code",
        "colab": {}
      },
      "source": [
        "x,y=next(train_data_gen)\n"
      ],
      "execution_count": 0,
      "outputs": []
    },
    {
      "cell_type": "code",
      "metadata": {
        "id": "CTLKQSo3y1Ed",
        "colab_type": "code",
        "colab": {
          "base_uri": "https://localhost:8080/",
          "height": 34
        },
        "outputId": "e7251272-9fd5-44b5-e183-392ee2a08db9"
      },
      "source": [
        "fy=np.argmax(y[1])\n",
        "fy"
      ],
      "execution_count": 14,
      "outputs": [
        {
          "output_type": "execute_result",
          "data": {
            "text/plain": [
              "1"
            ]
          },
          "metadata": {
            "tags": []
          },
          "execution_count": 14
        }
      ]
    },
    {
      "cell_type": "code",
      "metadata": {
        "id": "7gnm714eu1Da",
        "colab_type": "code",
        "colab": {}
      },
      "source": [
        "ax=train_data_gen.class_indices"
      ],
      "execution_count": 0,
      "outputs": []
    },
    {
      "cell_type": "code",
      "metadata": {
        "id": "bNM20KZivRsk",
        "colab_type": "code",
        "colab": {
          "base_uri": "https://localhost:8080/",
          "height": 34
        },
        "outputId": "ac496924-16d8-4366-cf23-3f1aecfc332e"
      },
      "source": [
        "ax.keys()"
      ],
      "execution_count": 16,
      "outputs": [
        {
          "output_type": "execute_result",
          "data": {
            "text/plain": [
              "dict_keys(['ACCIDENTAL_Flat', 'Alto', 'Bass', 'DoubSharp', 'Natural', 'Sharp', 'Trebble'])"
            ]
          },
          "metadata": {
            "tags": []
          },
          "execution_count": 16
        }
      ]
    },
    {
      "cell_type": "code",
      "metadata": {
        "id": "L1zeTOEN1rmk",
        "colab_type": "code",
        "colab": {
          "base_uri": "https://localhost:8080/",
          "height": 34
        },
        "outputId": "1a990d32-97ce-4d24-d8e0-929de1db6d83"
      },
      "source": [
        "train_data_gen.num_classes"
      ],
      "execution_count": 17,
      "outputs": [
        {
          "output_type": "execute_result",
          "data": {
            "text/plain": [
              "7"
            ]
          },
          "metadata": {
            "tags": []
          },
          "execution_count": 17
        }
      ]
    },
    {
      "cell_type": "code",
      "metadata": {
        "id": "MzlbUnZczXMK",
        "colab_type": "code",
        "colab": {
          "base_uri": "https://localhost:8080/",
          "height": 34
        },
        "outputId": "491df19b-7864-49d0-ef23-0b417aa1e800"
      },
      "source": [
        "val_data_gen.num_classes"
      ],
      "execution_count": 18,
      "outputs": [
        {
          "output_type": "execute_result",
          "data": {
            "text/plain": [
              "7"
            ]
          },
          "metadata": {
            "tags": []
          },
          "execution_count": 18
        }
      ]
    },
    {
      "cell_type": "markdown",
      "metadata": {
        "id": "XQ_wo83sEO9q",
        "colab_type": "text"
      },
      "source": [
        "# Rede Neural Convolucional - CNN  "
      ]
    },
    {
      "cell_type": "code",
      "metadata": {
        "id": "W2LQEfGF7NXH",
        "colab_type": "code",
        "colab": {}
      },
      "source": [
        "from tensorflow.keras import datasets, layers, models"
      ],
      "execution_count": 0,
      "outputs": []
    },
    {
      "cell_type": "code",
      "metadata": {
        "id": "kMPUYrpl692r",
        "colab_type": "code",
        "colab": {
          "base_uri": "https://localhost:8080/",
          "height": 364
        },
        "outputId": "05cb695e-9b57-40e7-f66f-1a0ee8faf94d"
      },
      "source": [
        "model = models.Sequential()\n",
        "model.add(layers.Conv2D(32, (2, 2),padding=\"same\", activation='relu', input_shape=(IMG_HEIGHT, IMG_WIDTH, 1)))\n",
        "model.add(layers.MaxPooling2D((2, 2)))\n",
        "model.add(layers.Conv2D(64, (3, 3),padding=\"same\", activation='relu'))\n",
        "model.add(layers.MaxPooling2D((2, 2)))\n",
        "model.add(layers.Conv2D(128, (3, 3),padding=\"same\", activation='relu'))\n",
        "model.add(layers.MaxPooling2D(2,2))\n",
        "model.summary()"
      ],
      "execution_count": 20,
      "outputs": [
        {
          "output_type": "stream",
          "text": [
            "Model: \"sequential\"\n",
            "_________________________________________________________________\n",
            "Layer (type)                 Output Shape              Param #   \n",
            "=================================================================\n",
            "conv2d (Conv2D)              (None, 28, 28, 32)        160       \n",
            "_________________________________________________________________\n",
            "max_pooling2d (MaxPooling2D) (None, 14, 14, 32)        0         \n",
            "_________________________________________________________________\n",
            "conv2d_1 (Conv2D)            (None, 14, 14, 64)        18496     \n",
            "_________________________________________________________________\n",
            "max_pooling2d_1 (MaxPooling2 (None, 7, 7, 64)          0         \n",
            "_________________________________________________________________\n",
            "conv2d_2 (Conv2D)            (None, 7, 7, 128)         73856     \n",
            "_________________________________________________________________\n",
            "max_pooling2d_2 (MaxPooling2 (None, 3, 3, 128)         0         \n",
            "=================================================================\n",
            "Total params: 92,512\n",
            "Trainable params: 92,512\n",
            "Non-trainable params: 0\n",
            "_________________________________________________________________\n"
          ],
          "name": "stdout"
        }
      ]
    },
    {
      "cell_type": "code",
      "metadata": {
        "id": "sgVDZhkW7KFT",
        "colab_type": "code",
        "colab": {
          "base_uri": "https://localhost:8080/",
          "height": 573
        },
        "outputId": "0b978dd3-8828-45b3-b7e6-681f7dfd9e5f"
      },
      "source": [
        "model.add(layers.Flatten())\n",
        "model.add(layers.Dropout(0.5))\n",
        "model.add(layers.Dense(128, activation='relu'))\n",
        "model.add(layers.Dense(64,activation='relu'))\n",
        "model.add(layers.Dense(10, activation='softmax'))\n",
        "model.add(layers.Dense(1))\n",
        "model.summary()"
      ],
      "execution_count": 21,
      "outputs": [
        {
          "output_type": "stream",
          "text": [
            "Model: \"sequential\"\n",
            "_________________________________________________________________\n",
            "Layer (type)                 Output Shape              Param #   \n",
            "=================================================================\n",
            "conv2d (Conv2D)              (None, 28, 28, 32)        160       \n",
            "_________________________________________________________________\n",
            "max_pooling2d (MaxPooling2D) (None, 14, 14, 32)        0         \n",
            "_________________________________________________________________\n",
            "conv2d_1 (Conv2D)            (None, 14, 14, 64)        18496     \n",
            "_________________________________________________________________\n",
            "max_pooling2d_1 (MaxPooling2 (None, 7, 7, 64)          0         \n",
            "_________________________________________________________________\n",
            "conv2d_2 (Conv2D)            (None, 7, 7, 128)         73856     \n",
            "_________________________________________________________________\n",
            "max_pooling2d_2 (MaxPooling2 (None, 3, 3, 128)         0         \n",
            "_________________________________________________________________\n",
            "flatten (Flatten)            (None, 1152)              0         \n",
            "_________________________________________________________________\n",
            "dropout (Dropout)            (None, 1152)              0         \n",
            "_________________________________________________________________\n",
            "dense (Dense)                (None, 128)               147584    \n",
            "_________________________________________________________________\n",
            "dense_1 (Dense)              (None, 64)                8256      \n",
            "_________________________________________________________________\n",
            "dense_2 (Dense)              (None, 10)                650       \n",
            "_________________________________________________________________\n",
            "dense_3 (Dense)              (None, 1)                 11        \n",
            "=================================================================\n",
            "Total params: 249,013\n",
            "Trainable params: 249,013\n",
            "Non-trainable params: 0\n",
            "_________________________________________________________________\n"
          ],
          "name": "stdout"
        }
      ]
    },
    {
      "cell_type": "code",
      "metadata": {
        "id": "lmSjzRQc7_Wa",
        "colab_type": "code",
        "colab": {}
      },
      "source": [
        "model.compile(optimizer='adam',\n",
        "              loss=\"categorical_crossentropy\",\n",
        "              metrics=['accuracy'])\n"
      ],
      "execution_count": 0,
      "outputs": []
    },
    {
      "cell_type": "code",
      "metadata": {
        "id": "IMnX0k30-1HF",
        "colab_type": "code",
        "colab": {
          "base_uri": "https://localhost:8080/",
          "height": 573
        },
        "outputId": "cdb9ae0b-6997-4206-acf1-3dae6e18f9f5"
      },
      "source": [
        "model.summary()\n"
      ],
      "execution_count": 23,
      "outputs": [
        {
          "output_type": "stream",
          "text": [
            "Model: \"sequential\"\n",
            "_________________________________________________________________\n",
            "Layer (type)                 Output Shape              Param #   \n",
            "=================================================================\n",
            "conv2d (Conv2D)              (None, 28, 28, 32)        160       \n",
            "_________________________________________________________________\n",
            "max_pooling2d (MaxPooling2D) (None, 14, 14, 32)        0         \n",
            "_________________________________________________________________\n",
            "conv2d_1 (Conv2D)            (None, 14, 14, 64)        18496     \n",
            "_________________________________________________________________\n",
            "max_pooling2d_1 (MaxPooling2 (None, 7, 7, 64)          0         \n",
            "_________________________________________________________________\n",
            "conv2d_2 (Conv2D)            (None, 7, 7, 128)         73856     \n",
            "_________________________________________________________________\n",
            "max_pooling2d_2 (MaxPooling2 (None, 3, 3, 128)         0         \n",
            "_________________________________________________________________\n",
            "flatten (Flatten)            (None, 1152)              0         \n",
            "_________________________________________________________________\n",
            "dropout (Dropout)            (None, 1152)              0         \n",
            "_________________________________________________________________\n",
            "dense (Dense)                (None, 128)               147584    \n",
            "_________________________________________________________________\n",
            "dense_1 (Dense)              (None, 64)                8256      \n",
            "_________________________________________________________________\n",
            "dense_2 (Dense)              (None, 10)                650       \n",
            "_________________________________________________________________\n",
            "dense_3 (Dense)              (None, 1)                 11        \n",
            "=================================================================\n",
            "Total params: 249,013\n",
            "Trainable params: 249,013\n",
            "Non-trainable params: 0\n",
            "_________________________________________________________________\n"
          ],
          "name": "stdout"
        }
      ]
    },
    {
      "cell_type": "code",
      "metadata": {
        "id": "YPgvfCv9-5CP",
        "colab_type": "code",
        "colab": {
          "base_uri": "https://localhost:8080/",
          "height": 610
        },
        "outputId": "ccb86d40-b584-431d-ae6e-ab7d3ba49758"
      },
      "source": [
        "\n",
        "history = model.fit_generator(\n",
        "    train_data_gen,\n",
        "    steps_per_epoch=total_train // batch_size,\n",
        "    epochs=epochs,\n",
        "    validation_data=val_data_gen,\n",
        "    validation_steps=total_val // batch_size\n",
        ")"
      ],
      "execution_count": 24,
      "outputs": [
        {
          "output_type": "stream",
          "text": [
            "WARNING:tensorflow:From <ipython-input-24-fc86efe74ad3>:7: Model.fit_generator (from tensorflow.python.keras.engine.training) is deprecated and will be removed in a future version.\n",
            "Instructions for updating:\n",
            "Please use Model.fit, which supports generators.\n",
            "Epoch 1/15\n",
            "106/106 [==============================] - 7s 67ms/step - loss: 1.1921e-07 - accuracy: 0.8571 - val_loss: 1.1921e-07 - val_accuracy: 0.8571\n",
            "Epoch 2/15\n",
            "106/106 [==============================] - 7s 66ms/step - loss: 1.1921e-07 - accuracy: 0.8571 - val_loss: 1.1921e-07 - val_accuracy: 0.8571\n",
            "Epoch 3/15\n",
            "106/106 [==============================] - 7s 66ms/step - loss: 1.1921e-07 - accuracy: 0.8571 - val_loss: 1.1921e-07 - val_accuracy: 0.8571\n",
            "Epoch 4/15\n",
            "106/106 [==============================] - 7s 65ms/step - loss: 1.1921e-07 - accuracy: 0.8571 - val_loss: 1.1921e-07 - val_accuracy: 0.8571\n",
            "Epoch 5/15\n",
            "106/106 [==============================] - 7s 65ms/step - loss: 1.1921e-07 - accuracy: 0.8571 - val_loss: 1.1921e-07 - val_accuracy: 0.8571\n",
            "Epoch 6/15\n",
            "106/106 [==============================] - 7s 66ms/step - loss: 1.1921e-07 - accuracy: 0.8571 - val_loss: 1.1921e-07 - val_accuracy: 0.8571\n",
            "Epoch 7/15\n",
            "106/106 [==============================] - 7s 65ms/step - loss: 1.1921e-07 - accuracy: 0.8571 - val_loss: 1.1921e-07 - val_accuracy: 0.8571\n",
            "Epoch 8/15\n",
            "106/106 [==============================] - 7s 65ms/step - loss: 1.1921e-07 - accuracy: 0.8571 - val_loss: 1.1921e-07 - val_accuracy: 0.8571\n",
            "Epoch 9/15\n",
            "106/106 [==============================] - 7s 65ms/step - loss: 1.1921e-07 - accuracy: 0.8571 - val_loss: 1.1921e-07 - val_accuracy: 0.8571\n",
            "Epoch 10/15\n",
            "106/106 [==============================] - 7s 65ms/step - loss: 1.1921e-07 - accuracy: 0.8571 - val_loss: 1.1921e-07 - val_accuracy: 0.8571\n",
            "Epoch 11/15\n",
            "106/106 [==============================] - 7s 65ms/step - loss: 1.1921e-07 - accuracy: 0.8571 - val_loss: 1.1921e-07 - val_accuracy: 0.8571\n",
            "Epoch 12/15\n",
            "106/106 [==============================] - 7s 65ms/step - loss: 1.1921e-07 - accuracy: 0.8571 - val_loss: 1.1921e-07 - val_accuracy: 0.8571\n",
            "Epoch 13/15\n",
            "106/106 [==============================] - 7s 65ms/step - loss: 1.1921e-07 - accuracy: 0.8571 - val_loss: 1.1921e-07 - val_accuracy: 0.8571\n",
            "Epoch 14/15\n",
            "106/106 [==============================] - 7s 65ms/step - loss: 1.1921e-07 - accuracy: 0.8571 - val_loss: 1.1921e-07 - val_accuracy: 0.8571\n",
            "Epoch 15/15\n",
            "106/106 [==============================] - 7s 65ms/step - loss: 1.1921e-07 - accuracy: 0.8571 - val_loss: 1.1921e-07 - val_accuracy: 0.8571\n"
          ],
          "name": "stdout"
        }
      ]
    },
    {
      "cell_type": "code",
      "metadata": {
        "id": "bj3kH0UC_DT9",
        "colab_type": "code",
        "colab": {}
      },
      "source": [
        "model.save_weights('Teste9.h5') "
      ],
      "execution_count": 0,
      "outputs": []
    },
    {
      "cell_type": "code",
      "metadata": {
        "id": "KDHJ0AmtUqki",
        "colab_type": "code",
        "colab": {
          "base_uri": "https://localhost:8080/",
          "height": 499
        },
        "outputId": "a195945e-3c74-497e-8f06-ac060184e79b"
      },
      "source": [
        "acc = history.history['accuracy']\n",
        "val_acc = history.history['val_accuracy']\n",
        "\n",
        "loss=history.history['loss']\n",
        "val_loss=history.history['val_loss']\n",
        "\n",
        "epochs_range = range(epochs)\n",
        "\n",
        "plt.figure(figsize=(8, 8))\n",
        "plt.subplot(1, 2, 1)\n",
        "plt.plot(epochs_range, acc, label='Training Accuracy')\n",
        "plt.plot(epochs_range, val_acc, label='Validation Accuracy')\n",
        "plt.legend(loc='lower right')\n",
        "plt.title('Training and Validation Accuracy')\n",
        "\n",
        "plt.subplot(1, 2, 2)\n",
        "plt.plot(epochs_range, loss, label='Training Loss')\n",
        "plt.plot(epochs_range, val_loss, label='Validation Loss')\n",
        "plt.legend(loc='upper right')\n",
        "plt.title('Training and Validation Loss')\n",
        "plt.show()\n"
      ],
      "execution_count": 26,
      "outputs": [
        {
          "output_type": "display_data",
          "data": {
            "image/png": "[encoded data removed]",
            "text/plain": [
              "<Figure size 576x576 with 2 Axes>"
            ]
          },
          "metadata": {
            "tags": []
          }
        }
      ]
    },
    {
      "cell_type": "code",
      "metadata": {
        "id": "DCk5VVbfUytQ",
        "colab_type": "code",
        "colab": {}
      },
      "source": [
        ""
      ],
      "execution_count": 0,
      "outputs": []
    }
  ]
}