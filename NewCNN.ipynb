{
  "nbformat": 4,
  "nbformat_minor": 0,
  "metadata": {
    "colab": {
      "name": "NewCNN.ipynb",
      "provenance": [],
      "collapsed_sections": [],
      "authorship_tag": "ABX9TyP9qQyA9PqKTMhLlXt/XAAx",
      "include_colab_link": true
    },
    "kernelspec": {
      "name": "python3",
      "display_name": "Python 3"
    }
  },
  "cells": [
    {
      "cell_type": "markdown",
      "metadata": {
        "id": "view-in-github",
        "colab_type": "text"
      },
      "source": [
        "<a href=\"https://colab.research.google.com/github/jenaroaaugusto/IC2/blob/master/NewCNN.ipynb\" target=\"_parent\"><img src=\"https://colab.research.google.com/assets/colab-badge.svg\" alt=\"Open In Colab\"/></a>"
      ]
    },
    {
      "cell_type": "code",
      "metadata": {
        "id": "GrCiEbC7lglr",
        "colab_type": "code",
        "outputId": "92027853-5463-4bcb-caf1-07cc384ef3d1",
        "colab": {
          "base_uri": "https://localhost:8080/",
          "height": 34
        }
      },
      "source": [
        "import tensorflow as tf \n",
        "tf.__version__"
      ],
      "execution_count": 1,
      "outputs": [
        {
          "output_type": "execute_result",
          "data": {
            "text/plain": [
              "'2.2.0-rc2'"
            ]
          },
          "metadata": {
            "tags": []
          },
          "execution_count": 1
        }
      ]
    },
    {
      "cell_type": "code",
      "metadata": {
        "id": "hSQpp5o4lwg5",
        "colab_type": "code",
        "colab": {}
      },
      "source": [
        "from __future__ import absolute_import, division, print_function, unicode_literals\n",
        "from tensorflow.keras.models import Sequential\n",
        "from tensorflow.keras.layers import Dense, Conv2D, Flatten, Dropout, MaxPooling2D\n",
        "from tensorflow.keras.preprocessing.image import ImageDataGenerator\n",
        "\n",
        "import os\n",
        "import pathlib\n",
        "import numpy as np\n",
        "import matplotlib.pyplot as plt\n",
        "\n",
        "\n"
      ],
      "execution_count": 0,
      "outputs": []
    },
    {
      "cell_type": "code",
      "metadata": {
        "id": "Hk-LKGzInBhq",
        "colab_type": "code",
        "outputId": "96b9280b-a4ca-41f2-c65d-329322c28f93",
        "colab": {
          "base_uri": "https://localhost:8080/",
          "height": 136
        }
      },
      "source": [
        "!git clone https://github.com/jenaroaaugusto/Dataset_musica_semvalidacao.git"
      ],
      "execution_count": 3,
      "outputs": [
        {
          "output_type": "stream",
          "text": [
            "Cloning into 'Dataset_musica_semvalidacao'...\n",
            "remote: Enumerating objects: 4113, done.\u001b[K\n",
            "remote: Counting objects:   0% (1/4113)\u001b[K\rremote: Counting objects:   1% (42/4113)\u001b[K\rremote: Counting objects:   2% (83/4113)\u001b[K\rremote: Counting objects:   3% (124/4113)\u001b[K\rremote: Counting objects:   4% (165/4113)\u001b[K\rremote: Counting objects:   5% (206/4113)\u001b[K\rremote: Counting objects:   6% (247/4113)\u001b[K\rremote: Counting objects:   7% (288/4113)\u001b[K\rremote: Counting objects:   8% (330/4113)\u001b[K\rremote: Counting objects:   9% (371/4113)\u001b[K\rremote: Counting objects:  10% (412/4113)\u001b[K\rremote: Counting objects:  11% (453/4113)\u001b[K\rremote: Counting objects:  12% (494/4113)\u001b[K\rremote: Counting objects:  13% (535/4113)\u001b[K\rremote: Counting objects:  14% (576/4113)\u001b[K\rremote: Counting objects:  15% (617/4113)\u001b[K\rremote: Counting objects:  16% (659/4113)\u001b[K\rremote: Counting objects:  17% (700/4113)\u001b[K\rremote: Counting objects:  18% (741/4113)\u001b[K\rremote: Counting objects:  19% (782/4113)\u001b[K\rremote: Counting objects:  20% (823/4113)\u001b[K\rremote: Counting objects:  21% (864/4113)\u001b[K\rremote: Counting objects:  22% (905/4113)\u001b[K\rremote: Counting objects:  23% (946/4113)\u001b[K\rremote: Counting objects:  24% (988/4113)\u001b[K\rremote: Counting objects:  25% (1029/4113)\u001b[K\rremote: Counting objects:  26% (1070/4113)\u001b[K\rremote: Counting objects:  27% (1111/4113)\u001b[K\rremote: Counting objects:  28% (1152/4113)\u001b[K\rremote: Counting objects:  29% (1193/4113)\u001b[K\rremote: Counting objects:  30% (1234/4113)\u001b[K\rremote: Counting objects:  31% (1276/4113)\u001b[K\rremote: Counting objects:  32% (1317/4113)\u001b[K\rremote: Counting objects:  33% (1358/4113)\u001b[K\rremote: Counting objects:  34% (1399/4113)\u001b[K\rremote: Counting objects:  35% (1440/4113)\u001b[K\rremote: Counting objects:  36% (1481/4113)\u001b[K\rremote: Counting objects:  37% (1522/4113)\u001b[K\rremote: Counting objects:  38% (1563/4113)\u001b[K\rremote: Counting objects:  39% (1605/4113)\u001b[K\rremote: Counting objects:  40% (1646/4113)\u001b[K\rremote: Counting objects:  41% (1687/4113)\u001b[K\rremote: Counting objects:  42% (1728/4113)\u001b[K\rremote: Counting objects:  43% (1769/4113)\u001b[K\rremote: Counting objects:  44% (1810/4113)\u001b[K\rremote: Counting objects:  45% (1851/4113)\u001b[K\rremote: Counting objects:  46% (1892/4113)\u001b[K\rremote: Counting objects:  47% (1934/4113)\u001b[K\rremote: Counting objects:  48% (1975/4113)\u001b[K\rremote: Counting objects:  49% (2016/4113)\u001b[K\rremote: Counting objects:  50% (2057/4113)\u001b[K\rremote: Counting objects:  51% (2098/4113)\u001b[K\rremote: Counting objects:  52% (2139/4113)\u001b[K\rremote: Counting objects:  53% (2180/4113)\u001b[K\rremote: Counting objects:  54% (2222/4113)\u001b[K\rremote: Counting objects:  55% (2263/4113)\u001b[K\rremote: Counting objects:  56% (2304/4113)\u001b[K\rremote: Counting objects:  57% (2345/4113)\u001b[K\rremote: Counting objects:  58% (2386/4113)\u001b[K\rremote: Counting objects:  59% (2427/4113)\u001b[K\rremote: Counting objects:  60% (2468/4113)\u001b[K\rremote: Counting objects:  61% (2509/4113)\u001b[K\rremote: Counting objects:  62% (2551/4113)\u001b[K\rremote: Counting objects:  63% (2592/4113)\u001b[K\rremote: Counting objects:  64% (2633/4113)\u001b[K\rremote: Counting objects:  65% (2674/4113)\u001b[K\rremote: Counting objects:  66% (2715/4113)\u001b[K\rremote: Counting objects:  67% (2756/4113)\u001b[K\rremote: Counting objects:  68% (2797/4113)\u001b[K\rremote: Counting objects:  69% (2838/4113)\u001b[K\rremote: Counting objects:  70% (2880/4113)\u001b[K\rremote: Counting objects:  71% (2921/4113)\u001b[K\rremote: Counting objects:  72% (2962/4113)\u001b[K\rremote: Counting objects:  73% (3003/4113)\u001b[K\rremote: Counting objects:  74% (3044/4113)\u001b[K\rremote: Counting objects:  75% (3085/4113)\u001b[K\rremote: Counting objects:  76% (3126/4113)\u001b[K\rremote: Counting objects:  77% (3168/4113)\u001b[K\rremote: Counting objects:  78% (3209/4113)\u001b[K\rremote: Counting objects:  79% (3250/4113)\u001b[K\rremote: Counting objects:  80% (3291/4113)\u001b[K\rremote: Counting objects:  81% (3332/4113)\u001b[K\rremote: Counting objects:  82% (3373/4113)\u001b[K\rremote: Counting objects:  83% (3414/4113)\u001b[K\rremote: Counting objects:  84% (3455/4113)\u001b[K\rremote: Counting objects:  85% (3497/4113)\u001b[K\rremote: Counting objects:  86% (3538/4113)\u001b[K\rremote: Counting objects:  87% (3579/4113)\u001b[K\rremote: Counting objects:  88% (3620/4113)\u001b[K\rremote: Counting objects:  89% (3661/4113)\u001b[K\rremote: Counting objects:  90% (3702/4113)\u001b[K\rremote: Counting objects:  91% (3743/4113)\u001b[K\rremote: Counting objects:  92% (3784/4113)\u001b[K\rremote: Counting objects:  93% (3826/4113)\u001b[K\rremote: Counting objects:  94% (3867/4113)\u001b[K\rremote: Counting objects:  95% (3908/4113)\u001b[K\rremote: Counting objects:  96% (3949/4113)\u001b[K\rremote: Counting objects:  97% (3990/4113)\u001b[K\rremote: Counting objects:  98% (4031/4113)\u001b[K\rremote: Counting objects:  99% (4072/4113)\u001b[K\rremote: Counting objects: 100% (4113/4113)\u001b[K\rremote: Counting objects: 100% (4113/4113), done.\u001b[K\n",
            "remote: Compressing objects:   0% (1/2690)\u001b[K\rremote: Compressing objects:   1% (27/2690)\u001b[K\rremote: Compressing objects:   2% (54/2690)\u001b[K\rremote: Compressing objects:   3% (81/2690)\u001b[K\rremote: Compressing objects:   4% (108/2690)\u001b[K\rremote: Compressing objects:   5% (135/2690)\u001b[K\rremote: Compressing objects:   6% (162/2690)\u001b[K\rremote: Compressing objects:   7% (189/2690)\u001b[K\rremote: Compressing objects:   8% (216/2690)\u001b[K\rremote: Compressing objects:   9% (243/2690)\u001b[K\rremote: Compressing objects:  10% (269/2690)\u001b[K\rremote: Compressing objects:  11% (296/2690)\u001b[K\rremote: Compressing objects:  12% (323/2690)\u001b[K\rremote: Compressing objects:  13% (350/2690)\u001b[K\rremote: Compressing objects:  14% (377/2690)\u001b[K\rremote: Compressing objects:  15% (404/2690)\u001b[K\rremote: Compressing objects:  16% (431/2690)\u001b[K\rremote: Compressing objects:  17% (458/2690)\u001b[K\rremote: Compressing objects:  18% (485/2690)\u001b[K\rremote: Compressing objects:  19% (512/2690)\u001b[K\rremote: Compressing objects:  20% (538/2690)\u001b[K\rremote: Compressing objects:  21% (565/2690)\u001b[K\rremote: Compressing objects:  22% (592/2690)\u001b[K\rremote: Compressing objects:  23% (619/2690)\u001b[K\rremote: Compressing objects:  24% (646/2690)\u001b[K\rremote: Compressing objects:  25% (673/2690)\u001b[K\rremote: Compressing objects:  26% (700/2690)\u001b[K\rremote: Compressing objects:  27% (727/2690)\u001b[K\rremote: Compressing objects:  28% (754/2690)\u001b[K\rremote: Compressing objects:  29% (781/2690)\u001b[K\rremote: Compressing objects:  30% (807/2690)\u001b[K\rremote: Compressing objects:  31% (834/2690)\u001b[K\rremote: Compressing objects:  32% (861/2690)\u001b[K\rremote: Compressing objects:  33% (888/2690)\u001b[K\rremote: Compressing objects:  34% (915/2690)\u001b[K\rremote: Compressing objects:  35% (942/2690)\u001b[K\rremote: Compressing objects:  36% (969/2690)\u001b[K\rremote: Compressing objects:  37% (996/2690)\u001b[K\rremote: Compressing objects:  38% (1023/2690)\u001b[K\rremote: Compressing objects:  39% (1050/2690)\u001b[K\rremote: Compressing objects:  40% (1076/2690)\u001b[K\rremote: Compressing objects:  41% (1103/2690)\u001b[K\rremote: Compressing objects:  42% (1130/2690)\u001b[K\rremote: Compressing objects:  43% (1157/2690)\u001b[K\rremote: Compressing objects:  44% (1184/2690)\u001b[K\rremote: Compressing objects:  45% (1211/2690)\u001b[K\rremote: Compressing objects:  46% (1238/2690)\u001b[K\rremote: Compressing objects:  47% (1265/2690)\u001b[K\rremote: Compressing objects:  48% (1292/2690)\u001b[K\rremote: Compressing objects:  49% (1319/2690)\u001b[K\rremote: Compressing objects:  50% (1345/2690)\u001b[K\rremote: Compressing objects:  51% (1372/2690)\u001b[K\rremote: Compressing objects:  52% (1399/2690)\u001b[K\rremote: Compressing objects:  53% (1426/2690)\u001b[K\rremote: Compressing objects:  54% (1453/2690)\u001b[K\rremote: Compressing objects:  55% (1480/2690)\u001b[K\rremote: Compressing objects:  56% (1507/2690)\u001b[K\rremote: Compressing objects:  57% (1534/2690)\u001b[K\rremote: Compressing objects:  58% (1561/2690)\u001b[K\rremote: Compressing objects:  59% (1588/2690)\u001b[K\rremote: Compressing objects:  60% (1614/2690)\u001b[K\rremote: Compressing objects:  61% (1641/2690)\u001b[K\rremote: Compressing objects:  62% (1668/2690)\u001b[K\rremote: Compressing objects:  63% (1695/2690)\u001b[K\rremote: Compressing objects:  64% (1722/2690)\u001b[K\rremote: Compressing objects:  65% (1749/2690)\u001b[K\rremote: Compressing objects:  66% (1776/2690)\u001b[K\rremote: Compressing objects:  67% (1803/2690)\u001b[K\rremote: Compressing objects:  68% (1830/2690)\u001b[K\rremote: Compressing objects:  69% (1857/2690)\u001b[K\rremote: Compressing objects:  70% (1883/2690)\u001b[K\rremote: Compressing objects:  71% (1910/2690)\u001b[K\rremote: Compressing objects:  72% (1937/2690)\u001b[K\rremote: Compressing objects:  73% (1964/2690)\u001b[K\rremote: Compressing objects:  74% (1991/2690)\u001b[K\rremote: Compressing objects:  75% (2018/2690)\u001b[K\rremote: Compressing objects:  76% (2045/2690)\u001b[K\rremote: Compressing objects:  77% (2072/2690)\u001b[K\rremote: Compressing objects:  78% (2099/2690)\u001b[K\rremote: Compressing objects:  79% (2126/2690)\u001b[K\rremote: Compressing objects:  80% (2152/2690)\u001b[K\rremote: Compressing objects:  81% (2179/2690)\u001b[K\rremote: Compressing objects:  82% (2206/2690)\u001b[K\rremote: Compressing objects:  83% (2233/2690)\u001b[K\rremote: Compressing objects:  84% (2260/2690)\u001b[K\rremote: Compressing objects:  85% (2287/2690)\u001b[K\rremote: Compressing objects:  86% (2314/2690)\u001b[K\rremote: Compressing objects:  87% (2341/2690)\u001b[K\rremote: Compressing objects:  88% (2368/2690)\u001b[K\rremote: Compressing objects:  89% (2395/2690)\u001b[K\rremote: Compressing objects:  90% (2421/2690)\u001b[K\rremote: Compressing objects:  91% (2448/2690)\u001b[K\rremote: Compressing objects:  92% (2475/2690)\u001b[K\rremote: Compressing objects:  93% (2502/2690)\u001b[K\rremote: Compressing objects:  94% (2529/2690)\u001b[K\rremote: Compressing objects:  95% (2556/2690)\u001b[K\rremote: Compressing objects:  96% (2583/2690)\u001b[K\rremote: Compressing objects:  97% (2610/2690)\u001b[K\rremote: Compressing objects:  98% (2637/2690)\u001b[K\rremote: Compressing objects:  99% (2664/2690)\u001b[K\rremote: Compressing objects: 100% (2690/2690)\u001b[K\rremote: Compressing objects: 100% (2690/2690), done.\u001b[K\n",
            "Receiving objects:   0% (1/4113)   \rReceiving objects:   1% (42/4113)   \rReceiving objects:   2% (83/4113)   \rReceiving objects:   3% (124/4113)   \rReceiving objects:   4% (165/4113)   \rReceiving objects:   5% (206/4113)   \rReceiving objects:   6% (247/4113)   \rReceiving objects:   7% (288/4113)   \rReceiving objects:   8% (330/4113)   \rReceiving objects:   9% (371/4113)   \rReceiving objects:  10% (412/4113)   \rReceiving objects:  11% (453/4113)   \rReceiving objects:  12% (494/4113)   \rReceiving objects:  13% (535/4113)   \rReceiving objects:  14% (576/4113)   \rReceiving objects:  15% (617/4113)   \rReceiving objects:  16% (659/4113)   \rReceiving objects:  17% (700/4113)   \rReceiving objects:  18% (741/4113)   \rReceiving objects:  19% (782/4113)   \rReceiving objects:  20% (823/4113)   \rReceiving objects:  21% (864/4113)   \rReceiving objects:  22% (905/4113)   \rReceiving objects:  23% (946/4113)   \rReceiving objects:  24% (988/4113)   \rReceiving objects:  25% (1029/4113)   \rReceiving objects:  26% (1070/4113)   \rReceiving objects:  27% (1111/4113)   \rReceiving objects:  28% (1152/4113)   \rReceiving objects:  29% (1193/4113)   \rReceiving objects:  30% (1234/4113)   \rReceiving objects:  31% (1276/4113)   \rReceiving objects:  32% (1317/4113)   \rReceiving objects:  33% (1358/4113)   \rReceiving objects:  34% (1399/4113)   \rReceiving objects:  35% (1440/4113)   \rReceiving objects:  36% (1481/4113)   \rReceiving objects:  37% (1522/4113)   \rReceiving objects:  38% (1563/4113)   \rReceiving objects:  39% (1605/4113)   \rReceiving objects:  40% (1646/4113)   \rReceiving objects:  41% (1687/4113)   \rReceiving objects:  42% (1728/4113)   \rReceiving objects:  43% (1769/4113)   \rReceiving objects:  44% (1810/4113)   \rReceiving objects:  45% (1851/4113)   \rReceiving objects:  46% (1892/4113)   \rReceiving objects:  47% (1934/4113)   \rReceiving objects:  48% (1975/4113)   \rReceiving objects:  49% (2016/4113)   \rReceiving objects:  50% (2057/4113)   \rReceiving objects:  51% (2098/4113)   \rReceiving objects:  52% (2139/4113)   \rReceiving objects:  53% (2180/4113)   \rReceiving objects:  54% (2222/4113)   \rReceiving objects:  55% (2263/4113)   \rReceiving objects:  56% (2304/4113)   \rReceiving objects:  57% (2345/4113)   \rReceiving objects:  58% (2386/4113)   \rReceiving objects:  59% (2427/4113)   \rReceiving objects:  60% (2468/4113)   \rReceiving objects:  61% (2509/4113)   \rReceiving objects:  62% (2551/4113)   \rReceiving objects:  63% (2592/4113)   \rReceiving objects:  64% (2633/4113)   \rReceiving objects:  65% (2674/4113)   \rReceiving objects:  66% (2715/4113)   \rReceiving objects:  67% (2756/4113)   \rReceiving objects:  68% (2797/4113)   \rReceiving objects:  69% (2838/4113)   \rReceiving objects:  70% (2880/4113)   \rReceiving objects:  71% (2921/4113)   \rReceiving objects:  72% (2962/4113)   \rReceiving objects:  73% (3003/4113)   \rReceiving objects:  74% (3044/4113)   \rReceiving objects:  75% (3085/4113)   \rReceiving objects:  76% (3126/4113)   \rReceiving objects:  77% (3168/4113)   \rReceiving objects:  78% (3209/4113)   \rReceiving objects:  79% (3250/4113)   \rReceiving objects:  80% (3291/4113)   \rReceiving objects:  81% (3332/4113)   \rReceiving objects:  82% (3373/4113)   \rReceiving objects:  83% (3414/4113)   \rReceiving objects:  84% (3455/4113)   \rReceiving objects:  85% (3497/4113)   \rReceiving objects:  86% (3538/4113)   \rReceiving objects:  87% (3579/4113)   \rReceiving objects:  88% (3620/4113)   \rReceiving objects:  89% (3661/4113)   \rReceiving objects:  90% (3702/4113)   \rReceiving objects:  91% (3743/4113)   \rReceiving objects:  92% (3784/4113)   \rReceiving objects:  93% (3826/4113)   \rReceiving objects:  94% (3867/4113)   \rReceiving objects:  95% (3908/4113)   \rReceiving objects:  96% (3949/4113)   \rReceiving objects:  97% (3990/4113)   \rremote: Total 4113 (delta 1421), reused 4113 (delta 1421), pack-reused 0\u001b[K\n",
            "Receiving objects: 100% (4113/4113), 1.44 MiB | 13.93 MiB/s, done.\n",
            "Resolving deltas: 100% (1421/1421), done.\n"
          ],
          "name": "stdout"
        }
      ]
    },
    {
      "cell_type": "code",
      "metadata": {
        "id": "xi63ZZOd0wI2",
        "colab_type": "code",
        "outputId": "d2004e38-6506-49a2-8a5e-dc32576398c0",
        "colab": {
          "base_uri": "https://localhost:8080/",
          "height": 153
        }
      },
      "source": [
        "!git clone https://github.com/jenaroaaugusto/HOMUS.git"
      ],
      "execution_count": 4,
      "outputs": [
        {
          "output_type": "stream",
          "text": [
            "Cloning into 'HOMUS'...\n",
            "remote: Enumerating objects: 30543, done.\u001b[K\n",
            "remote: Counting objects:   0% (1/30543)\u001b[K\rremote: Counting objects:   1% (306/30543)\u001b[K\rremote: Counting objects:   2% (611/30543)\u001b[K\rremote: Counting objects:   3% (917/30543)\u001b[K\rremote: Counting objects:   4% (1222/30543)\u001b[K\rremote: Counting objects:   5% (1528/30543)\u001b[K\rremote: Counting objects:   6% (1833/30543)\u001b[K\rremote: Counting objects:   7% (2139/30543)\u001b[K\rremote: Counting objects:   8% (2444/30543)\u001b[K\rremote: Counting objects:   9% (2749/30543)\u001b[K\rremote: Counting objects:  10% (3055/30543)\u001b[K\rremote: Counting objects:  11% (3360/30543)\u001b[K\rremote: Counting objects:  12% (3666/30543)\u001b[K\rremote: Counting objects:  13% (3971/30543)\u001b[K\rremote: Counting objects:  14% (4277/30543)\u001b[K\rremote: Counting objects:  15% (4582/30543)\u001b[K\rremote: Counting objects:  16% (4887/30543)\u001b[K\rremote: Counting objects:  17% (5193/30543)\u001b[K\rremote: Counting objects:  18% (5498/30543)\u001b[K\rremote: Counting objects:  19% (5804/30543)\u001b[K\rremote: Counting objects:  20% (6109/30543)\u001b[K\rremote: Counting objects:  21% (6415/30543)\u001b[K\rremote: Counting objects:  22% (6720/30543)\u001b[K\rremote: Counting objects:  23% (7025/30543)\u001b[K\rremote: Counting objects:  24% (7331/30543)\u001b[K\rremote: Counting objects:  25% (7636/30543)\u001b[K\rremote: Counting objects:  26% (7942/30543)\u001b[K\rremote: Counting objects:  27% (8247/30543)\u001b[K\rremote: Counting objects:  28% (8553/30543)\u001b[K\rremote: Counting objects:  29% (8858/30543)\u001b[K\rremote: Counting objects:  30% (9163/30543)\u001b[K\rremote: Counting objects:  31% (9469/30543)\u001b[K\rremote: Counting objects:  32% (9774/30543)\u001b[K\rremote: Counting objects:  33% (10080/30543)\u001b[K\rremote: Counting objects:  34% (10385/30543)\u001b[K\rremote: Counting objects:  35% (10691/30543)\u001b[K\rremote: Counting objects:  36% (10996/30543)\u001b[K\rremote: Counting objects:  37% (11301/30543)\u001b[K\rremote: Counting objects:  38% (11607/30543)\u001b[K\rremote: Counting objects:  39% (11912/30543)\u001b[K\rremote: Counting objects:  40% (12218/30543)\u001b[K\rremote: Counting objects:  41% (12523/30543)\u001b[K\rremote: Counting objects:  42% (12829/30543)\u001b[K\rremote: Counting objects:  43% (13134/30543)\u001b[K\rremote: Counting objects:  44% (13439/30543)\u001b[K\rremote: Counting objects:  45% (13745/30543)\u001b[K\rremote: Counting objects:  46% (14050/30543)\u001b[K\rremote: Counting objects:  47% (14356/30543)\u001b[K\rremote: Counting objects:  48% (14661/30543)\u001b[K\rremote: Counting objects:  49% (14967/30543)\u001b[K\rremote: Counting objects:  50% (15272/30543)\u001b[K\rremote: Counting objects:  51% (15577/30543)\u001b[K\rremote: Counting objects:  52% (15883/30543)\u001b[K\rremote: Counting objects:  53% (16188/30543)\u001b[K\rremote: Counting objects:  54% (16494/30543)\u001b[K\rremote: Counting objects:  55% (16799/30543)\u001b[K\rremote: Counting objects:  56% (17105/30543)\u001b[K\rremote: Counting objects:  57% (17410/30543)\u001b[K\rremote: Counting objects:  58% (17715/30543)\u001b[K\rremote: Counting objects:  59% (18021/30543)\u001b[K\rremote: Counting objects:  60% (18326/30543)\u001b[K\rremote: Counting objects:  61% (18632/30543)\u001b[K\rremote: Counting objects:  62% (18937/30543)\u001b[K\rremote: Counting objects:  63% (19243/30543)\u001b[K\rremote: Counting objects:  64% (19548/30543)\u001b[K\rremote: Counting objects:  65% (19853/30543)\u001b[K\rremote: Counting objects:  66% (20159/30543)\u001b[K\rremote: Counting objects:  67% (20464/30543)\u001b[K\rremote: Counting objects:  68% (20770/30543)\u001b[K\rremote: Counting objects:  69% (21075/30543)\u001b[K\rremote: Counting objects:  70% (21381/30543)\u001b[K\rremote: Counting objects:  71% (21686/30543)\u001b[K\rremote: Counting objects:  72% (21991/30543)\u001b[K\rremote: Counting objects:  73% (22297/30543)\u001b[K\rremote: Counting objects:  74% (22602/30543)\u001b[K\rremote: Counting objects:  75% (22908/30543)\u001b[K\rremote: Counting objects:  76% (23213/30543)\u001b[K\rremote: Counting objects:  77% (23519/30543)\u001b[K\rremote: Counting objects:  78% (23824/30543)\u001b[K\rremote: Counting objects:  79% (24129/30543)\u001b[K\rremote: Counting objects:  80% (24435/30543)\u001b[K\rremote: Counting objects:  81% (24740/30543)\u001b[K\rremote: Counting objects:  82% (25046/30543)\u001b[K\rremote: Counting objects:  83% (25351/30543)\u001b[K\rremote: Counting objects:  84% (25657/30543)\u001b[K\rremote: Counting objects:  85% (25962/30543)\u001b[K\rremote: Counting objects:  86% (26267/30543)\u001b[K\rremote: Counting objects:  87% (26573/30543)\u001b[K\rremote: Counting objects:  88% (26878/30543)\u001b[K\rremote: Counting objects:  89% (27184/30543)\u001b[K\rremote: Counting objects:  90% (27489/30543)\u001b[K\rremote: Counting objects:  91% (27795/30543)\u001b[K\rremote: Counting objects:  92% (28100/30543)\u001b[K\rremote: Counting objects:  93% (28405/30543)\u001b[K\rremote: Counting objects:  94% (28711/30543)\u001b[K\rremote: Counting objects:  95% (29016/30543)\u001b[K\rremote: Counting objects:  96% (29322/30543)\u001b[K\rremote: Counting objects:  97% (29627/30543)\u001b[K\rremote: Counting objects:  98% (29933/30543)\u001b[K\rremote: Counting objects:  99% (30238/30543)\u001b[K\rremote: Counting objects: 100% (30543/30543)\u001b[K\rremote: Counting objects: 100% (30543/30543), done.\u001b[K\n",
            "remote: Compressing objects: 100% (30448/30448), done.\u001b[K\n",
            "remote: Total 30543 (delta 85), reused 30537 (delta 83), pack-reused 0\u001b[K\n",
            "Receiving objects: 100% (30543/30543), 10.62 MiB | 21.37 MiB/s, done.\n",
            "Resolving deltas: 100% (85/85), done.\n",
            "Checking out files: 100% (33200/33200), done.\n"
          ],
          "name": "stdout"
        }
      ]
    },
    {
      "cell_type": "code",
      "metadata": {
        "id": "EPIzFO7FncBv",
        "colab_type": "code",
        "colab": {}
      },
      "source": [
        "trainDir = os.path.join('/content/Dataset_musica_semvalidacao', 'Treinamento')\n",
        "validationDir=os.path.join('/content/Dataset_musica_semvalidacao', 'Teste')\n",
        "testDir= os.path.join('/content/HOMUS/','Dataset-Teste')\n"
      ],
      "execution_count": 0,
      "outputs": []
    },
    {
      "cell_type": "code",
      "metadata": {
        "id": "gWdWcXK6pOXr",
        "colab_type": "code",
        "outputId": "b90313d0-ebd8-4ccb-ac25-d66f912ca156",
        "colab": {
          "base_uri": "https://localhost:8080/",
          "height": 68
        }
      },
      "source": [
        "train_dir = pathlib.Path(\"\"+trainDir)\n",
        "print(train_dir)\n",
        "total_train = len(list(train_dir.glob('*/*.bmp')))\n",
        "print(total_train)\n",
        "CLASS_NAMES=np.array(os.listdir(train_dir))\n",
        "print(CLASS_NAMES)"
      ],
      "execution_count": 6,
      "outputs": [
        {
          "output_type": "stream",
          "text": [
            "/content/Dataset_musica_semvalidacao/Treinamento\n",
            "3393\n",
            "['ACCIDENTAL_Flat' 'Sharp' 'Alto' 'Trebble' 'Natural' 'Bass' 'DoubSharp']\n"
          ],
          "name": "stdout"
        }
      ]
    },
    {
      "cell_type": "code",
      "metadata": {
        "id": "3uz2G7nirBc4",
        "colab_type": "code",
        "outputId": "a09367d8-92eb-4522-94b7-1c008fcdccf8",
        "colab": {
          "base_uri": "https://localhost:8080/",
          "height": 51
        }
      },
      "source": [
        "validation_dir = pathlib.Path(\"\"+validationDir)\n",
        "print(validation_dir)\n",
        "total_val = len(list(validation_dir.glob('*/*.bmp')))\n",
        "print(total_val)"
      ],
      "execution_count": 7,
      "outputs": [
        {
          "output_type": "stream",
          "text": [
            "/content/Dataset_musica_semvalidacao/Teste\n",
            "700\n"
          ],
          "name": "stdout"
        }
      ]
    },
    {
      "cell_type": "code",
      "metadata": {
        "id": "HL18ecg9JstD",
        "colab_type": "code",
        "outputId": "50ead7a8-dc6e-4788-9ff8-2ebd0db7dac6",
        "colab": {
          "base_uri": "https://localhost:8080/",
          "height": 68
        }
      },
      "source": [
        "test_dir = pathlib.Path(\"\"+testDir)\n",
        "print(test_dir)\n",
        "total_test = len(list(test_dir.glob('*/*.png')))\n",
        "print(total_test)\n",
        "CLASS_NAMEST=np.array(os.listdir(test_dir))\n",
        "print(CLASS_NAMEST)"
      ],
      "execution_count": 8,
      "outputs": [
        {
          "output_type": "stream",
          "text": [
            "/content/HOMUS/Dataset-Teste\n",
            "2799\n",
            "['ACCIDENTAL_Flat' 'Sharp' 'Alto' 'Trebble' 'Natural' 'Bass' 'DoubSharp']\n"
          ],
          "name": "stdout"
        }
      ]
    },
    {
      "cell_type": "code",
      "metadata": {
        "id": "keXG_gCEtT9R",
        "colab_type": "code",
        "colab": {}
      },
      "source": [
        "batch_size = 32\n",
        "epochs = 15\n",
        "IMG_HEIGHT = 28\n",
        "IMG_WIDTH = 28\n"
      ],
      "execution_count": 0,
      "outputs": []
    },
    {
      "cell_type": "code",
      "metadata": {
        "id": "Yyvb2t70tfkW",
        "colab_type": "code",
        "colab": {}
      },
      "source": [
        "train_image_generator = ImageDataGenerator(rescale=1./255) # Generator for our training data\n",
        "validation_image_generator = ImageDataGenerator(rescale=1./255) # Generator for our validation data\n",
        "test_image_generator = ImageDataGenerator(rescale=1./255)\n"
      ],
      "execution_count": 0,
      "outputs": []
    },
    {
      "cell_type": "code",
      "metadata": {
        "id": "rwDUyysAti6X",
        "colab_type": "code",
        "outputId": "97c62ed3-a597-49c3-cb60-120f4fc2b0a7",
        "colab": {
          "base_uri": "https://localhost:8080/",
          "height": 34
        }
      },
      "source": [
        "train_data_gen = train_image_generator.flow_from_directory(batch_size=batch_size,\n",
        "                                                           directory=train_dir,\n",
        "                                                           shuffle=True,\n",
        "                                                           color_mode=\"grayscale\",\n",
        "                                                           target_size=(IMG_HEIGHT, IMG_WIDTH),\n",
        "                                                           class_mode=\"categorical\")\n"
      ],
      "execution_count": 11,
      "outputs": [
        {
          "output_type": "stream",
          "text": [
            "Found 3393 images belonging to 7 classes.\n"
          ],
          "name": "stdout"
        }
      ]
    },
    {
      "cell_type": "code",
      "metadata": {
        "id": "3SK1yOFn008w",
        "colab_type": "code",
        "outputId": "29282e5a-9dce-4aa3-fb9c-624f0370db72",
        "colab": {
          "base_uri": "https://localhost:8080/",
          "height": 34
        }
      },
      "source": [
        "val_data_gen = validation_image_generator.flow_from_directory(batch_size=batch_size,\n",
        "                                                              directory=validation_dir,\n",
        "                                                              target_size=(IMG_HEIGHT, IMG_WIDTH),\n",
        "                                                              shuffle=False,\n",
        "                                                              color_mode=\"grayscale\",\n",
        "                                                              class_mode=\"categorical\")\n"
      ],
      "execution_count": 12,
      "outputs": [
        {
          "output_type": "stream",
          "text": [
            "Found 700 images belonging to 7 classes.\n"
          ],
          "name": "stdout"
        }
      ]
    },
    {
      "cell_type": "code",
      "metadata": {
        "id": "n36D8tDJMdKm",
        "colab_type": "code",
        "outputId": "d5cb28a0-a5f1-480c-85a5-cef492b60a52",
        "colab": {
          "base_uri": "https://localhost:8080/",
          "height": 34
        }
      },
      "source": [
        "test_data_gen = test_image_generator.flow_from_directory(batch_size=batch_size,\n",
        "                                                              directory=test_dir,\n",
        "                                                              target_size=(IMG_HEIGHT, IMG_WIDTH),\n",
        "                                                              shuffle=False,\n",
        "                                                              color_mode=\"grayscale\",\n",
        "                                                              class_mode=\"categorical\")"
      ],
      "execution_count": 13,
      "outputs": [
        {
          "output_type": "stream",
          "text": [
            "Found 2799 images belonging to 7 classes.\n"
          ],
          "name": "stdout"
        }
      ]
    },
    {
      "cell_type": "code",
      "metadata": {
        "id": "mhRjMBttxWAW",
        "colab_type": "code",
        "outputId": "172bace3-c58f-4946-d34f-2468730ed535",
        "colab": {
          "base_uri": "https://localhost:8080/",
          "height": 136
        }
      },
      "source": [
        "train_data_gen.class_indices"
      ],
      "execution_count": 14,
      "outputs": [
        {
          "output_type": "execute_result",
          "data": {
            "text/plain": [
              "{'ACCIDENTAL_Flat': 0,\n",
              " 'Alto': 1,\n",
              " 'Bass': 2,\n",
              " 'DoubSharp': 3,\n",
              " 'Natural': 4,\n",
              " 'Sharp': 5,\n",
              " 'Trebble': 6}"
            ]
          },
          "metadata": {
            "tags": []
          },
          "execution_count": 14
        }
      ]
    },
    {
      "cell_type": "code",
      "metadata": {
        "id": "M8a6TvXbNI-0",
        "colab_type": "code",
        "outputId": "c1ded199-f54c-413b-a1c4-4e8a6cb8abc2",
        "colab": {
          "base_uri": "https://localhost:8080/",
          "height": 136
        }
      },
      "source": [
        "test_data_gen.class_indices"
      ],
      "execution_count": 15,
      "outputs": [
        {
          "output_type": "execute_result",
          "data": {
            "text/plain": [
              "{'ACCIDENTAL_Flat': 0,\n",
              " 'Alto': 1,\n",
              " 'Bass': 2,\n",
              " 'DoubSharp': 3,\n",
              " 'Natural': 4,\n",
              " 'Sharp': 5,\n",
              " 'Trebble': 6}"
            ]
          },
          "metadata": {
            "tags": []
          },
          "execution_count": 15
        }
      ]
    },
    {
      "cell_type": "code",
      "metadata": {
        "id": "L-f9ln0Vuqit",
        "colab_type": "code",
        "colab": {}
      },
      "source": [
        "x,y=next(train_data_gen)\n"
      ],
      "execution_count": 0,
      "outputs": []
    },
    {
      "cell_type": "code",
      "metadata": {
        "id": "CTLKQSo3y1Ed",
        "colab_type": "code",
        "outputId": "7a79e486-5896-449b-a6c1-11d97f0200ec",
        "colab": {
          "base_uri": "https://localhost:8080/",
          "height": 34
        }
      },
      "source": [
        "fy=np.argmax(y[1])\n",
        "fy"
      ],
      "execution_count": 17,
      "outputs": [
        {
          "output_type": "execute_result",
          "data": {
            "text/plain": [
              "4"
            ]
          },
          "metadata": {
            "tags": []
          },
          "execution_count": 17
        }
      ]
    },
    {
      "cell_type": "code",
      "metadata": {
        "id": "7gnm714eu1Da",
        "colab_type": "code",
        "colab": {}
      },
      "source": [
        "ax=train_data_gen.class_indices"
      ],
      "execution_count": 0,
      "outputs": []
    },
    {
      "cell_type": "code",
      "metadata": {
        "id": "bNM20KZivRsk",
        "colab_type": "code",
        "outputId": "7de6700f-1e56-4ad3-ad97-7eeb60257a56",
        "colab": {
          "base_uri": "https://localhost:8080/",
          "height": 34
        }
      },
      "source": [
        "ax.keys()"
      ],
      "execution_count": 19,
      "outputs": [
        {
          "output_type": "execute_result",
          "data": {
            "text/plain": [
              "dict_keys(['ACCIDENTAL_Flat', 'Alto', 'Bass', 'DoubSharp', 'Natural', 'Sharp', 'Trebble'])"
            ]
          },
          "metadata": {
            "tags": []
          },
          "execution_count": 19
        }
      ]
    },
    {
      "cell_type": "code",
      "metadata": {
        "id": "L1zeTOEN1rmk",
        "colab_type": "code",
        "outputId": "8777f6a5-5311-4789-f8b4-0b465ff8a286",
        "colab": {
          "base_uri": "https://localhost:8080/",
          "height": 34
        }
      },
      "source": [
        "train_data_gen.num_classes"
      ],
      "execution_count": 20,
      "outputs": [
        {
          "output_type": "execute_result",
          "data": {
            "text/plain": [
              "7"
            ]
          },
          "metadata": {
            "tags": []
          },
          "execution_count": 20
        }
      ]
    },
    {
      "cell_type": "code",
      "metadata": {
        "id": "MzlbUnZczXMK",
        "colab_type": "code",
        "outputId": "9aab7720-d616-45cc-f7be-372dd852242e",
        "colab": {
          "base_uri": "https://localhost:8080/",
          "height": 34
        }
      },
      "source": [
        "val_data_gen.num_classes"
      ],
      "execution_count": 21,
      "outputs": [
        {
          "output_type": "execute_result",
          "data": {
            "text/plain": [
              "7"
            ]
          },
          "metadata": {
            "tags": []
          },
          "execution_count": 21
        }
      ]
    },
    {
      "cell_type": "code",
      "metadata": {
        "id": "gdd5K5KUONCG",
        "colab_type": "code",
        "outputId": "7fb4556c-9c33-42bf-898e-82391a4b0440",
        "colab": {
          "base_uri": "https://localhost:8080/",
          "height": 34
        }
      },
      "source": [
        "test_data_gen.num_classes"
      ],
      "execution_count": 22,
      "outputs": [
        {
          "output_type": "execute_result",
          "data": {
            "text/plain": [
              "7"
            ]
          },
          "metadata": {
            "tags": []
          },
          "execution_count": 22
        }
      ]
    },
    {
      "cell_type": "code",
      "metadata": {
        "id": "AlJWBhTjA-u2",
        "colab_type": "code",
        "outputId": "13b43486-9677-4a09-8b09-0423ff64c0bb",
        "colab": {
          "base_uri": "https://localhost:8080/",
          "height": 34
        }
      },
      "source": [
        "len(train_data_gen.labels)"
      ],
      "execution_count": 23,
      "outputs": [
        {
          "output_type": "execute_result",
          "data": {
            "text/plain": [
              "3393"
            ]
          },
          "metadata": {
            "tags": []
          },
          "execution_count": 23
        }
      ]
    },
    {
      "cell_type": "markdown",
      "metadata": {
        "id": "XQ_wo83sEO9q",
        "colab_type": "text"
      },
      "source": [
        "# Rede Neural Convolucional - CNN  "
      ]
    },
    {
      "cell_type": "code",
      "metadata": {
        "id": "W2LQEfGF7NXH",
        "colab_type": "code",
        "colab": {}
      },
      "source": [
        "from tensorflow.keras import datasets, layers, models,optimizers\n",
        "from tensorflow.keras.layers import Activation, Dense\n",
        "# from keras import "
      ],
      "execution_count": 0,
      "outputs": []
    },
    {
      "cell_type": "code",
      "metadata": {
        "id": "kMPUYrpl692r",
        "colab_type": "code",
        "outputId": "095ab770-6ded-4b9f-a14e-43ff31dc7773",
        "colab": {
          "base_uri": "https://localhost:8080/",
          "height": 357
        }
      },
      "source": [
        "model = models.Sequential()\n",
        "model.add(layers.Conv2D(32, (2, 2),padding=\"same\", activation='relu', input_shape=(IMG_HEIGHT, IMG_WIDTH, 1)))\n",
        "model.add(layers.MaxPooling2D((2, 2)))\n",
        "model.add(layers.Conv2D(64, (3, 3),padding=\"same\", activation='relu'))\n",
        "model.add(layers.MaxPooling2D((2, 2)))\n",
        "model.add(layers.Conv2D(128, (3, 3),padding=\"same\", activation='relu'))\n",
        "model.add(layers.MaxPooling2D(2,2))\n",
        "model.summary()"
      ],
      "execution_count": 25,
      "outputs": [
        {
          "output_type": "stream",
          "text": [
            "Model: \"sequential\"\n",
            "_________________________________________________________________\n",
            "Layer (type)                 Output Shape              Param #   \n",
            "=================================================================\n",
            "conv2d (Conv2D)              (None, 28, 28, 32)        160       \n",
            "_________________________________________________________________\n",
            "max_pooling2d (MaxPooling2D) (None, 14, 14, 32)        0         \n",
            "_________________________________________________________________\n",
            "conv2d_1 (Conv2D)            (None, 14, 14, 64)        18496     \n",
            "_________________________________________________________________\n",
            "max_pooling2d_1 (MaxPooling2 (None, 7, 7, 64)          0         \n",
            "_________________________________________________________________\n",
            "conv2d_2 (Conv2D)            (None, 7, 7, 128)         73856     \n",
            "_________________________________________________________________\n",
            "max_pooling2d_2 (MaxPooling2 (None, 3, 3, 128)         0         \n",
            "=================================================================\n",
            "Total params: 92,512\n",
            "Trainable params: 92,512\n",
            "Non-trainable params: 0\n",
            "_________________________________________________________________\n"
          ],
          "name": "stdout"
        }
      ]
    },
    {
      "cell_type": "code",
      "metadata": {
        "id": "sgVDZhkW7KFT",
        "colab_type": "code",
        "outputId": "969c7ca8-653e-4dee-8ad7-8e55b8ffe5e3",
        "colab": {
          "base_uri": "https://localhost:8080/",
          "height": 595
        }
      },
      "source": [
        "model.add(layers.Flatten())\n",
        "model.add(layers.Dropout(0.1))\n",
        "model.add(layers.Dense(128, activation='relu'))\n",
        "model.add(layers.Dense(64,activation='relu'))\n",
        "model.add(layers.Dense(10, activation='relu'))\n",
        "model.add(Dense(7))\n",
        "model.add(Activation('softmax'))\n",
        "model.summary()"
      ],
      "execution_count": 26,
      "outputs": [
        {
          "output_type": "stream",
          "text": [
            "Model: \"sequential\"\n",
            "_________________________________________________________________\n",
            "Layer (type)                 Output Shape              Param #   \n",
            "=================================================================\n",
            "conv2d (Conv2D)              (None, 28, 28, 32)        160       \n",
            "_________________________________________________________________\n",
            "max_pooling2d (MaxPooling2D) (None, 14, 14, 32)        0         \n",
            "_________________________________________________________________\n",
            "conv2d_1 (Conv2D)            (None, 14, 14, 64)        18496     \n",
            "_________________________________________________________________\n",
            "max_pooling2d_1 (MaxPooling2 (None, 7, 7, 64)          0         \n",
            "_________________________________________________________________\n",
            "conv2d_2 (Conv2D)            (None, 7, 7, 128)         73856     \n",
            "_________________________________________________________________\n",
            "max_pooling2d_2 (MaxPooling2 (None, 3, 3, 128)         0         \n",
            "_________________________________________________________________\n",
            "flatten (Flatten)            (None, 1152)              0         \n",
            "_________________________________________________________________\n",
            "dropout (Dropout)            (None, 1152)              0         \n",
            "_________________________________________________________________\n",
            "dense (Dense)                (None, 128)               147584    \n",
            "_________________________________________________________________\n",
            "dense_1 (Dense)              (None, 64)                8256      \n",
            "_________________________________________________________________\n",
            "dense_2 (Dense)              (None, 10)                650       \n",
            "_________________________________________________________________\n",
            "dense_3 (Dense)              (None, 7)                 77        \n",
            "_________________________________________________________________\n",
            "activation (Activation)      (None, 7)                 0         \n",
            "=================================================================\n",
            "Total params: 249,079\n",
            "Trainable params: 249,079\n",
            "Non-trainable params: 0\n",
            "_________________________________________________________________\n"
          ],
          "name": "stdout"
        }
      ]
    },
    {
      "cell_type": "code",
      "metadata": {
        "id": "Z-_60R4zgd_N",
        "colab_type": "code",
        "colab": {}
      },
      "source": [
        "METRICS = [\n",
        "      tf.keras.metrics.TruePositives(name='tp'),\n",
        "      tf.keras.metrics.FalsePositives(name='fp'),\n",
        "      tf.keras.metrics.TrueNegatives(name='tn'),\n",
        "      tf.keras.metrics.FalseNegatives(name='fn'), \n",
        "      tf.keras.metrics.BinaryAccuracy(name='accuracy'),\n",
        "      tf.keras.metrics.Precision(name='precision'),\n",
        "      tf.keras.metrics.Recall(name='recall'),\n",
        "      tf.keras.metrics.AUC(name='auc'),\n",
        "]\n"
      ],
      "execution_count": 0,
      "outputs": []
    },
    {
      "cell_type": "code",
      "metadata": {
        "id": "lmSjzRQc7_Wa",
        "colab_type": "code",
        "colab": {}
      },
      "source": [
        "model.compile(optimizer=\"adam\",\n",
        "              loss=\"categorical_crossentropy\",\n",
        "              metrics=METRICS)\n"
      ],
      "execution_count": 0,
      "outputs": []
    },
    {
      "cell_type": "code",
      "metadata": {
        "id": "IMnX0k30-1HF",
        "colab_type": "code",
        "outputId": "3159a29b-dd17-4f8c-8f1a-8c0455326c3a",
        "colab": {
          "base_uri": "https://localhost:8080/",
          "height": 595
        }
      },
      "source": [
        "model.summary()\n"
      ],
      "execution_count": 29,
      "outputs": [
        {
          "output_type": "stream",
          "text": [
            "Model: \"sequential\"\n",
            "_________________________________________________________________\n",
            "Layer (type)                 Output Shape              Param #   \n",
            "=================================================================\n",
            "conv2d (Conv2D)              (None, 28, 28, 32)        160       \n",
            "_________________________________________________________________\n",
            "max_pooling2d (MaxPooling2D) (None, 14, 14, 32)        0         \n",
            "_________________________________________________________________\n",
            "conv2d_1 (Conv2D)            (None, 14, 14, 64)        18496     \n",
            "_________________________________________________________________\n",
            "max_pooling2d_1 (MaxPooling2 (None, 7, 7, 64)          0         \n",
            "_________________________________________________________________\n",
            "conv2d_2 (Conv2D)            (None, 7, 7, 128)         73856     \n",
            "_________________________________________________________________\n",
            "max_pooling2d_2 (MaxPooling2 (None, 3, 3, 128)         0         \n",
            "_________________________________________________________________\n",
            "flatten (Flatten)            (None, 1152)              0         \n",
            "_________________________________________________________________\n",
            "dropout (Dropout)            (None, 1152)              0         \n",
            "_________________________________________________________________\n",
            "dense (Dense)                (None, 128)               147584    \n",
            "_________________________________________________________________\n",
            "dense_1 (Dense)              (None, 64)                8256      \n",
            "_________________________________________________________________\n",
            "dense_2 (Dense)              (None, 10)                650       \n",
            "_________________________________________________________________\n",
            "dense_3 (Dense)              (None, 7)                 77        \n",
            "_________________________________________________________________\n",
            "activation (Activation)      (None, 7)                 0         \n",
            "=================================================================\n",
            "Total params: 249,079\n",
            "Trainable params: 249,079\n",
            "Non-trainable params: 0\n",
            "_________________________________________________________________\n"
          ],
          "name": "stdout"
        }
      ]
    },
    {
      "cell_type": "code",
      "metadata": {
        "id": "YPgvfCv9-5CP",
        "colab_type": "code",
        "outputId": "8f967271-bdc0-487a-f898-52ef03c254dd",
        "colab": {
          "base_uri": "https://localhost:8080/",
          "height": 547
        }
      },
      "source": [
        "history = model.fit(\n",
        "    train_data_gen,\n",
        "    steps_per_epoch=total_train // batch_size,\n",
        "    epochs=epochs,\n",
        "    validation_data=val_data_gen,\n",
        "    validation_steps=total_val // batch_size\n",
        ")"
      ],
      "execution_count": 30,
      "outputs": [
        {
          "output_type": "stream",
          "text": [
            "Epoch 1/15\n",
            "106/106 [==============================] - 8s 72ms/step - loss: 0.8143 - tp: 1871.0000 - fp: 172.0000 - tn: 19994.0000 - fn: 1490.0000 - accuracy: 0.9294 - precision: 0.9158 - recall: 0.5567 - auc: 0.9451 - val_loss: 0.1443 - val_tp: 639.0000 - val_fp: 22.0000 - val_tn: 4010.0000 - val_fn: 33.0000 - val_accuracy: 0.9883 - val_precision: 0.9667 - val_recall: 0.9509 - val_auc: 0.9980\n",
            "Epoch 2/15\n",
            "106/106 [==============================] - 7s 66ms/step - loss: 0.1137 - tp: 3255.0000 - fp: 102.0000 - tn: 20250.0000 - fn: 137.0000 - accuracy: 0.9899 - precision: 0.9696 - recall: 0.9596 - auc: 0.9981 - val_loss: 0.0424 - val_tp: 662.0000 - val_fp: 5.0000 - val_tn: 4027.0000 - val_fn: 10.0000 - val_accuracy: 0.9968 - val_precision: 0.9925 - val_recall: 0.9851 - val_auc: 0.9998\n",
            "Epoch 3/15\n",
            "106/106 [==============================] - 7s 66ms/step - loss: 0.0645 - tp: 3279.0000 - fp: 63.0000 - tn: 20103.0000 - fn: 82.0000 - accuracy: 0.9938 - precision: 0.9811 - recall: 0.9756 - auc: 0.9994 - val_loss: 0.0446 - val_tp: 666.0000 - val_fp: 6.0000 - val_tn: 4026.0000 - val_fn: 6.0000 - val_accuracy: 0.9974 - val_precision: 0.9911 - val_recall: 0.9911 - val_auc: 0.9991\n",
            "Epoch 4/15\n",
            "106/106 [==============================] - 7s 64ms/step - loss: 0.0288 - tp: 3331.0000 - fp: 24.0000 - tn: 20142.0000 - fn: 30.0000 - accuracy: 0.9977 - precision: 0.9928 - recall: 0.9911 - auc: 0.9999 - val_loss: 0.0697 - val_tp: 654.0000 - val_fp: 17.0000 - val_tn: 4015.0000 - val_fn: 18.0000 - val_accuracy: 0.9926 - val_precision: 0.9747 - val_recall: 0.9732 - val_auc: 0.9996\n",
            "Epoch 5/15\n",
            "106/106 [==============================] - 7s 65ms/step - loss: 0.0284 - tp: 3327.0000 - fp: 31.0000 - tn: 20135.0000 - fn: 34.0000 - accuracy: 0.9972 - precision: 0.9908 - recall: 0.9899 - auc: 0.9999 - val_loss: 0.0309 - val_tp: 663.0000 - val_fp: 7.0000 - val_tn: 4025.0000 - val_fn: 9.0000 - val_accuracy: 0.9966 - val_precision: 0.9896 - val_recall: 0.9866 - val_auc: 0.9992\n",
            "Epoch 6/15\n",
            "106/106 [==============================] - 7s 64ms/step - loss: 0.0155 - tp: 3340.0000 - fp: 20.0000 - tn: 20146.0000 - fn: 21.0000 - accuracy: 0.9983 - precision: 0.9940 - recall: 0.9938 - auc: 1.0000 - val_loss: 0.0473 - val_tp: 662.0000 - val_fp: 9.0000 - val_tn: 4023.0000 - val_fn: 10.0000 - val_accuracy: 0.9960 - val_precision: 0.9866 - val_recall: 0.9851 - val_auc: 0.9990\n",
            "Epoch 7/15\n",
            "106/106 [==============================] - 7s 64ms/step - loss: 0.0183 - tp: 3338.0000 - fp: 19.0000 - tn: 20147.0000 - fn: 23.0000 - accuracy: 0.9982 - precision: 0.9943 - recall: 0.9932 - auc: 1.0000 - val_loss: 0.0209 - val_tp: 665.0000 - val_fp: 5.0000 - val_tn: 4027.0000 - val_fn: 7.0000 - val_accuracy: 0.9974 - val_precision: 0.9925 - val_recall: 0.9896 - val_auc: 1.0000\n",
            "Epoch 8/15\n",
            "106/106 [==============================] - 7s 65ms/step - loss: 0.0145 - tp: 3340.0000 - fp: 16.0000 - tn: 20150.0000 - fn: 21.0000 - accuracy: 0.9984 - precision: 0.9952 - recall: 0.9938 - auc: 0.9998 - val_loss: 0.0293 - val_tp: 664.0000 - val_fp: 8.0000 - val_tn: 4024.0000 - val_fn: 8.0000 - val_accuracy: 0.9966 - val_precision: 0.9881 - val_recall: 0.9881 - val_auc: 0.9992\n",
            "Epoch 9/15\n",
            "106/106 [==============================] - 7s 65ms/step - loss: 0.0139 - tp: 3343.0000 - fp: 15.0000 - tn: 20151.0000 - fn: 18.0000 - accuracy: 0.9986 - precision: 0.9955 - recall: 0.9946 - auc: 1.0000 - val_loss: 0.0173 - val_tp: 669.0000 - val_fp: 3.0000 - val_tn: 4029.0000 - val_fn: 3.0000 - val_accuracy: 0.9987 - val_precision: 0.9955 - val_recall: 0.9955 - val_auc: 1.0000\n",
            "Epoch 10/15\n",
            "106/106 [==============================] - 7s 64ms/step - loss: 0.0030 - tp: 3360.0000 - fp: 1.0000 - tn: 20165.0000 - fn: 1.0000 - accuracy: 0.9999 - precision: 0.9997 - recall: 0.9997 - auc: 1.0000 - val_loss: 0.0197 - val_tp: 668.0000 - val_fp: 4.0000 - val_tn: 4028.0000 - val_fn: 4.0000 - val_accuracy: 0.9983 - val_precision: 0.9940 - val_recall: 0.9940 - val_auc: 1.0000\n",
            "Epoch 11/15\n",
            "106/106 [==============================] - 7s 64ms/step - loss: 0.0187 - tp: 3340.0000 - fp: 17.0000 - tn: 20149.0000 - fn: 21.0000 - accuracy: 0.9984 - precision: 0.9949 - recall: 0.9938 - auc: 0.9998 - val_loss: 0.0166 - val_tp: 669.0000 - val_fp: 3.0000 - val_tn: 4029.0000 - val_fn: 3.0000 - val_accuracy: 0.9987 - val_precision: 0.9955 - val_recall: 0.9955 - val_auc: 1.0000\n",
            "Epoch 12/15\n",
            "106/106 [==============================] - 7s 64ms/step - loss: 0.0018 - tp: 3360.0000 - fp: 1.0000 - tn: 20165.0000 - fn: 1.0000 - accuracy: 0.9999 - precision: 0.9997 - recall: 0.9997 - auc: 1.0000 - val_loss: 0.0161 - val_tp: 669.0000 - val_fp: 3.0000 - val_tn: 4029.0000 - val_fn: 3.0000 - val_accuracy: 0.9987 - val_precision: 0.9955 - val_recall: 0.9955 - val_auc: 1.0000\n",
            "Epoch 13/15\n",
            "106/106 [==============================] - 7s 63ms/step - loss: 3.2458e-04 - tp: 3361.0000 - fp: 0.0000e+00 - tn: 20166.0000 - fn: 0.0000e+00 - accuracy: 1.0000 - precision: 1.0000 - recall: 1.0000 - auc: 1.0000 - val_loss: 0.0172 - val_tp: 669.0000 - val_fp: 2.0000 - val_tn: 4030.0000 - val_fn: 3.0000 - val_accuracy: 0.9989 - val_precision: 0.9970 - val_recall: 0.9955 - val_auc: 0.9991\n",
            "Epoch 14/15\n",
            "106/106 [==============================] - 7s 63ms/step - loss: 1.8843e-04 - tp: 3361.0000 - fp: 0.0000e+00 - tn: 20166.0000 - fn: 0.0000e+00 - accuracy: 1.0000 - precision: 1.0000 - recall: 1.0000 - auc: 1.0000 - val_loss: 0.0184 - val_tp: 668.0000 - val_fp: 3.0000 - val_tn: 4029.0000 - val_fn: 4.0000 - val_accuracy: 0.9985 - val_precision: 0.9955 - val_recall: 0.9940 - val_auc: 0.9991\n",
            "Epoch 15/15\n",
            "106/106 [==============================] - 7s 63ms/step - loss: 6.4441e-04 - tp: 3360.0000 - fp: 1.0000 - tn: 20165.0000 - fn: 1.0000 - accuracy: 0.9999 - precision: 0.9997 - recall: 0.9997 - auc: 1.0000 - val_loss: 0.0215 - val_tp: 670.0000 - val_fp: 2.0000 - val_tn: 4030.0000 - val_fn: 2.0000 - val_accuracy: 0.9991 - val_precision: 0.9970 - val_recall: 0.9970 - val_auc: 0.9983\n"
          ],
          "name": "stdout"
        }
      ]
    },
    {
      "cell_type": "code",
      "metadata": {
        "id": "bj3kH0UC_DT9",
        "colab_type": "code",
        "colab": {}
      },
      "source": [
        "model.save_weights('Teste19.h5') \n",
        "model.save(\"modelo7.h5\")"
      ],
      "execution_count": 0,
      "outputs": []
    },
    {
      "cell_type": "markdown",
      "metadata": {
        "id": "fcxYlbYVkLcl",
        "colab_type": "text"
      },
      "source": [
        "# Resultados visualizar "
      ]
    },
    {
      "cell_type": "code",
      "metadata": {
        "id": "KDHJ0AmtUqki",
        "colab_type": "code",
        "outputId": "7a3019f4-64db-4137-a3e5-eed023b4ea67",
        "colab": {
          "base_uri": "https://localhost:8080/",
          "height": 499
        }
      },
      "source": [
        "acc = history.history['accuracy']\n",
        "val_acc = history.history['val_accuracy']\n",
        "\n",
        "loss=history.history['loss']\n",
        "val_loss=history.history['val_loss']\n",
        "\n",
        "epochs_range = range(epochs)\n",
        "\n",
        "plt.figure(figsize=(8, 8))\n",
        "plt.subplot(1, 2, 1)\n",
        "plt.plot(epochs_range, acc, label='Training Accuracy')\n",
        "plt.plot(epochs_range, val_acc, label='Validation Accuracy')\n",
        "plt.legend(loc='lower right')\n",
        "plt.title('Training and Validation Accuracy')\n",
        "\n",
        "plt.subplot(1, 2, 2)\n",
        "plt.plot(epochs_range, loss, label='Training Loss')\n",
        "plt.plot(epochs_range, val_loss, label='Validation Loss')\n",
        "plt.legend(loc='upper right')\n",
        "plt.title('Training and Validation Loss')\n",
        "plt.show()\n"
      ],
      "execution_count": 32,
      "outputs": [
        {
          "output_type": "display_data",
          "data": {
            "image/png": "[encoded data removed]",
            "text/plain": [
              "<Figure size 576x576 with 2 Axes>"
            ]
          },
          "metadata": {
            "tags": [],
            "needs_background": "light"
          }
        }
      ]
    },
    {
      "cell_type": "markdown",
      "metadata": {
        "id": "QUD4GukYkTaX",
        "colab_type": "text"
      },
      "source": [
        "# Aumento de exemplos e redução de Overfiting "
      ]
    },
    {
      "cell_type": "code",
      "metadata": {
        "id": "579ed11vkYFY",
        "colab_type": "code",
        "colab": {}
      },
      "source": [
        "image_gen = ImageDataGenerator(rescale=1./255, horizontal_flip=True)"
      ],
      "execution_count": 0,
      "outputs": []
    },
    {
      "cell_type": "code",
      "metadata": {
        "id": "H2Jj8xJ1ieZ8",
        "colab_type": "code",
        "outputId": "535fc225-5a49-4b08-fd57-5ff1d69b5106",
        "colab": {
          "base_uri": "https://localhost:8080/",
          "height": 34
        }
      },
      "source": [
        "train_data_gen = image_gen.flow_from_directory(batch_size=batch_size,\n",
        "                                               directory=train_dir,\n",
        "                                               shuffle=True,\n",
        "                                               target_size=(IMG_HEIGHT, IMG_WIDTH))"
      ],
      "execution_count": 34,
      "outputs": [
        {
          "output_type": "stream",
          "text": [
            "Found 3393 images belonging to 7 classes.\n"
          ],
          "name": "stdout"
        }
      ]
    },
    {
      "cell_type": "code",
      "metadata": {
        "id": "85Zd0NPfigbH",
        "colab_type": "code",
        "colab": {}
      },
      "source": [
        "augmented_images = [train_data_gen[0][0][0] for i in range(5)]"
      ],
      "execution_count": 0,
      "outputs": []
    },
    {
      "cell_type": "code",
      "metadata": {
        "id": "R0ZkfMYDisdw",
        "colab_type": "code",
        "colab": {}
      },
      "source": [
        "image_gen = ImageDataGenerator(rescale=1./255, rotation_range=45)"
      ],
      "execution_count": 0,
      "outputs": []
    },
    {
      "cell_type": "code",
      "metadata": {
        "id": "qGzO7kvQjLsO",
        "colab_type": "code",
        "outputId": "dc2ac99d-b9ec-47c0-aa95-16da82f0c21a",
        "colab": {
          "base_uri": "https://localhost:8080/",
          "height": 34
        }
      },
      "source": [
        "train_data_gen = image_gen.flow_from_directory(batch_size=batch_size,\n",
        "                                               directory=train_dir,\n",
        "                                               shuffle=True,\n",
        "                                               target_size=(IMG_HEIGHT, IMG_WIDTH))\n",
        "\n",
        "augmented_images = [train_data_gen[0][0][0] for i in range(5)]"
      ],
      "execution_count": 37,
      "outputs": [
        {
          "output_type": "stream",
          "text": [
            "Found 3393 images belonging to 7 classes.\n"
          ],
          "name": "stdout"
        }
      ]
    },
    {
      "cell_type": "code",
      "metadata": {
        "id": "vTRKpCH6jNMq",
        "colab_type": "code",
        "colab": {}
      },
      "source": [
        "# zoom_range from 0 - 1 where 1 = 100%.\n",
        "image_gen = ImageDataGenerator(rescale=1./255, zoom_range=0.5) # "
      ],
      "execution_count": 0,
      "outputs": []
    },
    {
      "cell_type": "code",
      "metadata": {
        "id": "jjuCDdKOjQ2x",
        "colab_type": "code",
        "outputId": "b5d3e809-a7de-4615-ba92-1828ec13b9bc",
        "colab": {
          "base_uri": "https://localhost:8080/",
          "height": 34
        }
      },
      "source": [
        "train_data_gen = image_gen.flow_from_directory(batch_size=batch_size,\n",
        "                                               directory=train_dir,\n",
        "                                               shuffle=True,\n",
        "                                               target_size=(IMG_HEIGHT, IMG_WIDTH))\n",
        "\n",
        "augmented_images = [train_data_gen[0][0][0] for i in range(5)]"
      ],
      "execution_count": 39,
      "outputs": [
        {
          "output_type": "stream",
          "text": [
            "Found 3393 images belonging to 7 classes.\n"
          ],
          "name": "stdout"
        }
      ]
    },
    {
      "cell_type": "code",
      "metadata": {
        "id": "YMh-9E5YjS8-",
        "colab_type": "code",
        "colab": {}
      },
      "source": [
        "image_gen_train = ImageDataGenerator(\n",
        "                    rescale=1./255,\n",
        "                    rotation_range=45,\n",
        "                    width_shift_range=.15,\n",
        "                    height_shift_range=.15,\n",
        "                    horizontal_flip=True,\n",
        "                    zoom_range=0.5\n",
        "                    )"
      ],
      "execution_count": 0,
      "outputs": []
    },
    {
      "cell_type": "code",
      "metadata": {
        "id": "tPkBpSuqje0d",
        "colab_type": "code",
        "outputId": "5269eeb0-e446-4e75-db2d-4740091563e2",
        "colab": {
          "base_uri": "https://localhost:8080/",
          "height": 34
        }
      },
      "source": [
        "train_data_gen = image_gen_train.flow_from_directory(batch_size=batch_size,\n",
        "                                                           directory=train_dir,\n",
        "                                                           shuffle=True,\n",
        "                                                           color_mode=\"grayscale\",\n",
        "                                                           target_size=(IMG_HEIGHT, IMG_WIDTH),\n",
        "                                                           class_mode=\"categorical\")"
      ],
      "execution_count": 41,
      "outputs": [
        {
          "output_type": "stream",
          "text": [
            "Found 3393 images belonging to 7 classes.\n"
          ],
          "name": "stdout"
        }
      ]
    },
    {
      "cell_type": "code",
      "metadata": {
        "id": "qijyyJtxj6qB",
        "colab_type": "code",
        "colab": {}
      },
      "source": [
        "image_gen_val = ImageDataGenerator(rescale=1./255)"
      ],
      "execution_count": 0,
      "outputs": []
    },
    {
      "cell_type": "code",
      "metadata": {
        "id": "-i0bl5Tpj77L",
        "colab_type": "code",
        "outputId": "562faf79-faf2-48f7-afd6-209c4d74e827",
        "colab": {
          "base_uri": "https://localhost:8080/",
          "height": 34
        }
      },
      "source": [
        "val_data_gen = image_gen_val.flow_from_directory(batch_size=batch_size,\n",
        "                                                  directory=validation_dir,\n",
        "                                                  target_size=(IMG_HEIGHT, IMG_WIDTH),\n",
        "                                                  shuffle=False,\n",
        "                                                  color_mode=\"grayscale\",\n",
        "                                                  class_mode=\"categorical\")"
      ],
      "execution_count": 43,
      "outputs": [
        {
          "output_type": "stream",
          "text": [
            "Found 700 images belonging to 7 classes.\n"
          ],
          "name": "stdout"
        }
      ]
    },
    {
      "cell_type": "markdown",
      "metadata": {
        "id": "-UeZQr69kgFC",
        "colab_type": "text"
      },
      "source": [
        "#Nova CNN"
      ]
    },
    {
      "cell_type": "code",
      "metadata": {
        "colab_type": "code",
        "outputId": "ad49b848-42a7-4a36-eb6b-bc550bb85518",
        "id": "GgijPCdrkwcY",
        "colab": {
          "base_uri": "https://localhost:8080/",
          "height": 391
        }
      },
      "source": [
        "model_new = models.Sequential()\n",
        "model_new.add(layers.Conv2D(32, (2, 2),padding=\"same\", activation='relu', input_shape=(IMG_HEIGHT, IMG_WIDTH, 1)))\n",
        "model_new.add(layers.MaxPooling2D((2, 2)))\n",
        "model_new.add(layers.Dropout(0.2))\n",
        "model_new.add(layers.Conv2D(64, (3, 3),padding=\"same\", activation='relu'))\n",
        "model_new.add(layers.MaxPooling2D((2, 2)))\n",
        "model_new.add(layers.Conv2D(128, (3, 3),padding=\"same\", activation='relu'))\n",
        "model_new.add(layers.MaxPooling2D(2,2))\n",
        "model_new.summary()"
      ],
      "execution_count": 70,
      "outputs": [
        {
          "output_type": "stream",
          "text": [
            "Model: \"sequential_2\"\n",
            "_________________________________________________________________\n",
            "Layer (type)                 Output Shape              Param #   \n",
            "=================================================================\n",
            "conv2d_6 (Conv2D)            (None, 28, 28, 32)        160       \n",
            "_________________________________________________________________\n",
            "max_pooling2d_6 (MaxPooling2 (None, 14, 14, 32)        0         \n",
            "_________________________________________________________________\n",
            "dropout_3 (Dropout)          (None, 14, 14, 32)        0         \n",
            "_________________________________________________________________\n",
            "conv2d_7 (Conv2D)            (None, 14, 14, 64)        18496     \n",
            "_________________________________________________________________\n",
            "max_pooling2d_7 (MaxPooling2 (None, 7, 7, 64)          0         \n",
            "_________________________________________________________________\n",
            "conv2d_8 (Conv2D)            (None, 7, 7, 128)         73856     \n",
            "_________________________________________________________________\n",
            "max_pooling2d_8 (MaxPooling2 (None, 3, 3, 128)         0         \n",
            "=================================================================\n",
            "Total params: 92,512\n",
            "Trainable params: 92,512\n",
            "Non-trainable params: 0\n",
            "_________________________________________________________________\n"
          ],
          "name": "stdout"
        }
      ]
    },
    {
      "cell_type": "code",
      "metadata": {
        "colab_type": "code",
        "outputId": "0fdcd482-2fa5-408f-ac02-0384f6f8b634",
        "id": "3bX3CTLfloIU",
        "colab": {
          "base_uri": "https://localhost:8080/",
          "height": 629
        }
      },
      "source": [
        "model_new.add(layers.Flatten())\n",
        "model_new.add(layers.Dropout(0.1))\n",
        "model_new.add(layers.Dense(128, activation='relu'))\n",
        "model_new.add(layers.Dense(64,activation='relu'))\n",
        "model_new.add(layers.Dense(10, activation='relu'))\n",
        "model_new.add(Dense(7))\n",
        "model_new.add(Activation('softmax'))\n",
        "model_new.summary()"
      ],
      "execution_count": 71,
      "outputs": [
        {
          "output_type": "stream",
          "text": [
            "Model: \"sequential_2\"\n",
            "_________________________________________________________________\n",
            "Layer (type)                 Output Shape              Param #   \n",
            "=================================================================\n",
            "conv2d_6 (Conv2D)            (None, 28, 28, 32)        160       \n",
            "_________________________________________________________________\n",
            "max_pooling2d_6 (MaxPooling2 (None, 14, 14, 32)        0         \n",
            "_________________________________________________________________\n",
            "dropout_3 (Dropout)          (None, 14, 14, 32)        0         \n",
            "_________________________________________________________________\n",
            "conv2d_7 (Conv2D)            (None, 14, 14, 64)        18496     \n",
            "_________________________________________________________________\n",
            "max_pooling2d_7 (MaxPooling2 (None, 7, 7, 64)          0         \n",
            "_________________________________________________________________\n",
            "conv2d_8 (Conv2D)            (None, 7, 7, 128)         73856     \n",
            "_________________________________________________________________\n",
            "max_pooling2d_8 (MaxPooling2 (None, 3, 3, 128)         0         \n",
            "_________________________________________________________________\n",
            "flatten_2 (Flatten)          (None, 1152)              0         \n",
            "_________________________________________________________________\n",
            "dropout_4 (Dropout)          (None, 1152)              0         \n",
            "_________________________________________________________________\n",
            "dense_8 (Dense)              (None, 128)               147584    \n",
            "_________________________________________________________________\n",
            "dense_9 (Dense)              (None, 64)                8256      \n",
            "_________________________________________________________________\n",
            "dense_10 (Dense)             (None, 10)                650       \n",
            "_________________________________________________________________\n",
            "dense_11 (Dense)             (None, 7)                 77        \n",
            "_________________________________________________________________\n",
            "activation_2 (Activation)    (None, 7)                 0         \n",
            "=================================================================\n",
            "Total params: 249,079\n",
            "Trainable params: 249,079\n",
            "Non-trainable params: 0\n",
            "_________________________________________________________________\n"
          ],
          "name": "stdout"
        }
      ]
    },
    {
      "cell_type": "code",
      "metadata": {
        "colab_type": "code",
        "id": "Z1CQuh2Bl23o",
        "outputId": "d9ac322a-e906-4ae0-c267-c5d9360aaf84",
        "colab": {
          "base_uri": "https://localhost:8080/",
          "height": 629
        }
      },
      "source": [
        "model_new.compile(optimizer=\"adam\",\n",
        "              loss=\"categorical_crossentropy\",\n",
        "              metrics=METRICS)\n",
        "model_new.summary()"
      ],
      "execution_count": 72,
      "outputs": [
        {
          "output_type": "stream",
          "text": [
            "Model: \"sequential_2\"\n",
            "_________________________________________________________________\n",
            "Layer (type)                 Output Shape              Param #   \n",
            "=================================================================\n",
            "conv2d_6 (Conv2D)            (None, 28, 28, 32)        160       \n",
            "_________________________________________________________________\n",
            "max_pooling2d_6 (MaxPooling2 (None, 14, 14, 32)        0         \n",
            "_________________________________________________________________\n",
            "dropout_3 (Dropout)          (None, 14, 14, 32)        0         \n",
            "_________________________________________________________________\n",
            "conv2d_7 (Conv2D)            (None, 14, 14, 64)        18496     \n",
            "_________________________________________________________________\n",
            "max_pooling2d_7 (MaxPooling2 (None, 7, 7, 64)          0         \n",
            "_________________________________________________________________\n",
            "conv2d_8 (Conv2D)            (None, 7, 7, 128)         73856     \n",
            "_________________________________________________________________\n",
            "max_pooling2d_8 (MaxPooling2 (None, 3, 3, 128)         0         \n",
            "_________________________________________________________________\n",
            "flatten_2 (Flatten)          (None, 1152)              0         \n",
            "_________________________________________________________________\n",
            "dropout_4 (Dropout)          (None, 1152)              0         \n",
            "_________________________________________________________________\n",
            "dense_8 (Dense)              (None, 128)               147584    \n",
            "_________________________________________________________________\n",
            "dense_9 (Dense)              (None, 64)                8256      \n",
            "_________________________________________________________________\n",
            "dense_10 (Dense)             (None, 10)                650       \n",
            "_________________________________________________________________\n",
            "dense_11 (Dense)             (None, 7)                 77        \n",
            "_________________________________________________________________\n",
            "activation_2 (Activation)    (None, 7)                 0         \n",
            "=================================================================\n",
            "Total params: 249,079\n",
            "Trainable params: 249,079\n",
            "Non-trainable params: 0\n",
            "_________________________________________________________________\n"
          ],
          "name": "stdout"
        }
      ]
    },
    {
      "cell_type": "code",
      "metadata": {
        "id": "Z5fQLwqtmCRT",
        "colab_type": "code",
        "outputId": "19ece14b-40d7-401f-a056-da7794341689",
        "colab": {
          "base_uri": "https://localhost:8080/",
          "height": 547
        }
      },
      "source": [
        "history = model_new.fit_generator(\n",
        "    train_data_gen,\n",
        "    steps_per_epoch=total_train // batch_size,\n",
        "    epochs=15,\n",
        "    validation_data=val_data_gen,\n",
        "    validation_steps=total_val // batch_size\n",
        ")"
      ],
      "execution_count": 73,
      "outputs": [
        {
          "output_type": "stream",
          "text": [
            "Epoch 1/15\n",
            "106/106 [==============================] - 9s 80ms/step - loss: 1.8520 - tp: 634.0000 - fp: 34.0000 - tn: 24164.0000 - fn: 3399.0000 - accuracy: 0.8784 - precision: 0.9491 - recall: 0.1572 - auc: 0.7437 - val_loss: 1.5198 - val_tp: 0.0000e+00 - val_fp: 0.0000e+00 - val_tn: 4008.0000 - val_fn: 668.0000 - val_accuracy: 0.8571 - val_precision: 0.0000e+00 - val_recall: 0.0000e+00 - val_auc: 0.7918\n",
            "Epoch 2/15\n",
            "106/106 [==============================] - 8s 75ms/step - loss: 1.5520 - tp: 166.0000 - fp: 97.0000 - tn: 20069.0000 - fn: 3195.0000 - accuracy: 0.8601 - precision: 0.6312 - recall: 0.0494 - auc: 0.7831 - val_loss: 1.1590 - val_tp: 150.0000 - val_fp: 55.0000 - val_tn: 3953.0000 - val_fn: 518.0000 - val_accuracy: 0.8775 - val_precision: 0.7317 - val_recall: 0.2246 - val_auc: 0.8879\n",
            "Epoch 3/15\n",
            "106/106 [==============================] - 8s 73ms/step - loss: 1.2065 - tp: 1132.0000 - fp: 500.0000 - tn: 19666.0000 - fn: 2229.0000 - accuracy: 0.8840 - precision: 0.6936 - recall: 0.3368 - auc: 0.8766 - val_loss: 0.8313 - val_tp: 410.0000 - val_fp: 72.0000 - val_tn: 3936.0000 - val_fn: 258.0000 - val_accuracy: 0.9294 - val_precision: 0.8506 - val_recall: 0.6138 - val_auc: 0.9413\n",
            "Epoch 4/15\n",
            "106/106 [==============================] - 8s 73ms/step - loss: 1.0939 - tp: 1363.0000 - fp: 523.0000 - tn: 19643.0000 - fn: 1998.0000 - accuracy: 0.8928 - precision: 0.7227 - recall: 0.4055 - auc: 0.9001 - val_loss: 0.5332 - val_tp: 450.0000 - val_fp: 43.0000 - val_tn: 3965.0000 - val_fn: 218.0000 - val_accuracy: 0.9442 - val_precision: 0.9128 - val_recall: 0.6737 - val_auc: 0.9796\n",
            "Epoch 5/15\n",
            "106/106 [==============================] - 8s 73ms/step - loss: 0.9408 - tp: 1645.0000 - fp: 552.0000 - tn: 19614.0000 - fn: 1716.0000 - accuracy: 0.9036 - precision: 0.7487 - recall: 0.4894 - auc: 0.9247 - val_loss: 0.3721 - val_tp: 564.0000 - val_fp: 36.0000 - val_tn: 3972.0000 - val_fn: 104.0000 - val_accuracy: 0.9701 - val_precision: 0.9400 - val_recall: 0.8443 - val_auc: 0.9917\n",
            "Epoch 6/15\n",
            "106/106 [==============================] - 8s 73ms/step - loss: 0.8139 - tp: 1998.0000 - fp: 565.0000 - tn: 19601.0000 - fn: 1363.0000 - accuracy: 0.9181 - precision: 0.7796 - recall: 0.5945 - auc: 0.9443 - val_loss: 0.3152 - val_tp: 575.0000 - val_fp: 57.0000 - val_tn: 3951.0000 - val_fn: 93.0000 - val_accuracy: 0.9679 - val_precision: 0.9098 - val_recall: 0.8608 - val_auc: 0.9927\n",
            "Epoch 7/15\n",
            "106/106 [==============================] - 8s 74ms/step - loss: 0.7545 - tp: 2172.0000 - fp: 579.0000 - tn: 19587.0000 - fn: 1189.0000 - accuracy: 0.9249 - precision: 0.7895 - recall: 0.6462 - auc: 0.9526 - val_loss: 0.2127 - val_tp: 619.0000 - val_fp: 27.0000 - val_tn: 3981.0000 - val_fn: 49.0000 - val_accuracy: 0.9837 - val_precision: 0.9582 - val_recall: 0.9266 - val_auc: 0.9963\n",
            "Epoch 8/15\n",
            "106/106 [==============================] - 8s 73ms/step - loss: 0.6769 - tp: 2318.0000 - fp: 539.0000 - tn: 19627.0000 - fn: 1043.0000 - accuracy: 0.9328 - precision: 0.8113 - recall: 0.6897 - auc: 0.9618 - val_loss: 0.3488 - val_tp: 571.0000 - val_fp: 69.0000 - val_tn: 3939.0000 - val_fn: 97.0000 - val_accuracy: 0.9645 - val_precision: 0.8922 - val_recall: 0.8548 - val_auc: 0.9885\n",
            "Epoch 9/15\n",
            "106/106 [==============================] - 8s 73ms/step - loss: 0.6369 - tp: 2379.0000 - fp: 511.0000 - tn: 19655.0000 - fn: 982.0000 - accuracy: 0.9365 - precision: 0.8232 - recall: 0.7078 - auc: 0.9649 - val_loss: 0.2357 - val_tp: 609.0000 - val_fp: 47.0000 - val_tn: 3961.0000 - val_fn: 59.0000 - val_accuracy: 0.9773 - val_precision: 0.9284 - val_recall: 0.9117 - val_auc: 0.9946\n",
            "Epoch 10/15\n",
            "106/106 [==============================] - 8s 73ms/step - loss: 0.6254 - tp: 2401.0000 - fp: 521.0000 - tn: 19645.0000 - fn: 960.0000 - accuracy: 0.9371 - precision: 0.8217 - recall: 0.7144 - auc: 0.9681 - val_loss: 0.1872 - val_tp: 624.0000 - val_fp: 36.0000 - val_tn: 3972.0000 - val_fn: 44.0000 - val_accuracy: 0.9829 - val_precision: 0.9455 - val_recall: 0.9341 - val_auc: 0.9962\n",
            "Epoch 11/15\n",
            "106/106 [==============================] - 8s 74ms/step - loss: 0.5236 - tp: 2571.0000 - fp: 462.0000 - tn: 19704.0000 - fn: 790.0000 - accuracy: 0.9468 - precision: 0.8477 - recall: 0.7650 - auc: 0.9761 - val_loss: 0.1535 - val_tp: 628.0000 - val_fp: 31.0000 - val_tn: 3977.0000 - val_fn: 40.0000 - val_accuracy: 0.9848 - val_precision: 0.9530 - val_recall: 0.9401 - val_auc: 0.9972\n",
            "Epoch 12/15\n",
            "106/106 [==============================] - 8s 73ms/step - loss: 0.6168 - tp: 2487.0000 - fp: 496.0000 - tn: 19670.0000 - fn: 874.0000 - accuracy: 0.9418 - precision: 0.8337 - recall: 0.7400 - auc: 0.9691 - val_loss: 0.1848 - val_tp: 627.0000 - val_fp: 38.0000 - val_tn: 3970.0000 - val_fn: 41.0000 - val_accuracy: 0.9831 - val_precision: 0.9429 - val_recall: 0.9386 - val_auc: 0.9959\n",
            "Epoch 13/15\n",
            "106/106 [==============================] - 8s 73ms/step - loss: 0.4612 - tp: 2697.0000 - fp: 403.0000 - tn: 19763.0000 - fn: 664.0000 - accuracy: 0.9546 - precision: 0.8700 - recall: 0.8024 - auc: 0.9808 - val_loss: 0.3093 - val_tp: 603.0000 - val_fp: 55.0000 - val_tn: 3953.0000 - val_fn: 65.0000 - val_accuracy: 0.9743 - val_precision: 0.9164 - val_recall: 0.9027 - val_auc: 0.9905\n",
            "Epoch 14/15\n",
            "106/106 [==============================] - 8s 73ms/step - loss: 0.5747 - tp: 2540.0000 - fp: 456.0000 - tn: 19710.0000 - fn: 821.0000 - accuracy: 0.9457 - precision: 0.8478 - recall: 0.7557 - auc: 0.9723 - val_loss: 0.2082 - val_tp: 615.0000 - val_fp: 45.0000 - val_tn: 3963.0000 - val_fn: 53.0000 - val_accuracy: 0.9790 - val_precision: 0.9318 - val_recall: 0.9207 - val_auc: 0.9946\n",
            "Epoch 15/15\n",
            "106/106 [==============================] - 8s 73ms/step - loss: 0.4033 - tp: 2771.0000 - fp: 397.0000 - tn: 19769.0000 - fn: 590.0000 - accuracy: 0.9580 - precision: 0.8747 - recall: 0.8245 - auc: 0.9853 - val_loss: 0.2118 - val_tp: 617.0000 - val_fp: 47.0000 - val_tn: 3961.0000 - val_fn: 51.0000 - val_accuracy: 0.9790 - val_precision: 0.9292 - val_recall: 0.9237 - val_auc: 0.9939\n"
          ],
          "name": "stdout"
        }
      ]
    },
    {
      "cell_type": "code",
      "metadata": {
        "id": "JIhnAudpmqhf",
        "colab_type": "code",
        "colab": {}
      },
      "source": [
        "model_new.save_weights('Teste22.h5') \n",
        "model_new.save(\"modelo10.h5\")"
      ],
      "execution_count": 0,
      "outputs": []
    },
    {
      "cell_type": "code",
      "metadata": {
        "id": "ttMh92nYmJRl",
        "colab_type": "code",
        "outputId": "1ad4c359-bb51-4d00-cdf1-dd4a16004ab0",
        "colab": {
          "base_uri": "https://localhost:8080/",
          "height": 499
        }
      },
      "source": [
        "acc = history.history['accuracy']\n",
        "val_acc = history.history['val_accuracy']\n",
        "\n",
        "loss = history.history['loss']\n",
        "val_loss = history.history['val_loss']\n",
        "\n",
        "epochs_range = range(15)\n",
        "\n",
        "plt.figure(figsize=(8, 8))\n",
        "plt.subplot(1, 2, 1)\n",
        "plt.plot(epochs_range, acc, label='Training Accuracy')\n",
        "plt.plot(epochs_range, val_acc, label='Validation Accuracy')\n",
        "plt.legend(loc='lower right')\n",
        "plt.title('Training and Validation Accuracy')\n",
        "\n",
        "plt.subplot(1, 2, 2)\n",
        "plt.plot(epochs_range, loss, label='Training Loss')\n",
        "plt.plot(epochs_range, val_loss, label='Validation Loss')\n",
        "plt.legend(loc='upper right')\n",
        "plt.title('Training and Validation Loss')\n",
        "plt.show()"
      ],
      "execution_count": 76,
      "outputs": [
        {
          "output_type": "display_data",
          "data": {
            "image/png": "[encoded data removed]",
            "text/plain": [
              "<Figure size 576x576 with 2 Axes>"
            ]
          },
          "metadata": {
            "tags": [],
            "needs_background": "light"
          }
        }
      ]
    },
    {
      "cell_type": "code",
      "metadata": {
        "id": "Ra1OAYJiVI6c",
        "colab_type": "code",
        "colab": {}
      },
      "source": [
        "nb=len(val_data_gen.filenames)"
      ],
      "execution_count": 0,
      "outputs": []
    },
    {
      "cell_type": "code",
      "metadata": {
        "id": "p6z9DWpID7kW",
        "colab_type": "code",
        "colab": {}
      },
      "source": [
        "result=model_new.predict_generator(val_data_gen,steps=np.ceil(nb/batch_size))"
      ],
      "execution_count": 0,
      "outputs": []
    },
    {
      "cell_type": "code",
      "metadata": {
        "id": "aa1d2dzYXMun",
        "colab_type": "code",
        "colab": {}
      },
      "source": [
        "true_labels =val_data_gen.classes"
      ],
      "execution_count": 0,
      "outputs": []
    },
    {
      "cell_type": "code",
      "metadata": {
        "id": "BXjwFTZqT5i0",
        "colab_type": "code",
        "colab": {}
      },
      "source": [
        "y_true = true_labels\n",
        "y_pred = np.array([np.argmax(x) for x in result])"
      ],
      "execution_count": 0,
      "outputs": []
    },
    {
      "cell_type": "code",
      "metadata": {
        "id": "0lElFkabwFAo",
        "colab_type": "code",
        "outputId": "bebc0478-bd98-4d11-b3c0-ee41849b4e0b",
        "colab": {
          "base_uri": "https://localhost:8080/",
          "height": 34
        }
      },
      "source": [
        "y_true.shape"
      ],
      "execution_count": 81,
      "outputs": [
        {
          "output_type": "execute_result",
          "data": {
            "text/plain": [
              "(700,)"
            ]
          },
          "metadata": {
            "tags": []
          },
          "execution_count": 81
        }
      ]
    },
    {
      "cell_type": "code",
      "metadata": {
        "id": "FkyG187hmkim",
        "colab_type": "code",
        "outputId": "492e6e2c-6af9-4a2c-e646-321428ca0da7",
        "colab": {
          "base_uri": "https://localhost:8080/",
          "height": 34
        }
      },
      "source": [
        "y_pred.shape"
      ],
      "execution_count": 82,
      "outputs": [
        {
          "output_type": "execute_result",
          "data": {
            "text/plain": [
              "(700,)"
            ]
          },
          "metadata": {
            "tags": []
          },
          "execution_count": 82
        }
      ]
    },
    {
      "cell_type": "code",
      "metadata": {
        "id": "FIW7b-PIs39G",
        "colab_type": "code",
        "colab": {}
      },
      "source": [
        " axy=test_data_gen.class_indices"
      ],
      "execution_count": 0,
      "outputs": []
    },
    {
      "cell_type": "code",
      "metadata": {
        "id": "sejRffPstZQo",
        "colab_type": "code",
        "colab": {}
      },
      "source": [
        "names=list(axy.keys())"
      ],
      "execution_count": 0,
      "outputs": []
    },
    {
      "cell_type": "code",
      "metadata": {
        "id": "TS-T71aXu2tt",
        "colab_type": "code",
        "colab": {}
      },
      "source": [
        "nomedasclasses = np.array(names)\n"
      ],
      "execution_count": 0,
      "outputs": []
    },
    {
      "cell_type": "code",
      "metadata": {
        "id": "MRxMb08dvEvI",
        "colab_type": "code",
        "outputId": "659ec6f2-8741-43c5-b825-b3a6cfbb57f5",
        "colab": {
          "base_uri": "https://localhost:8080/",
          "height": 34
        }
      },
      "source": [
        "print(nomedasclasses)"
      ],
      "execution_count": 86,
      "outputs": [
        {
          "output_type": "stream",
          "text": [
            "['ACCIDENTAL_Flat' 'Alto' 'Bass' 'DoubSharp' 'Natural' 'Sharp' 'Trebble']\n"
          ],
          "name": "stdout"
        }
      ]
    },
    {
      "cell_type": "code",
      "metadata": {
        "id": "imenCQPsCIPz",
        "colab_type": "code",
        "colab": {}
      },
      "source": [
        "import seaborn as sns\n",
        "\n",
        "import pandas as pd"
      ],
      "execution_count": 0,
      "outputs": []
    },
    {
      "cell_type": "code",
      "metadata": {
        "id": "P92ag2RcFzBs",
        "colab_type": "code",
        "outputId": "cf57e066-8df6-421f-fde6-0eb7743ece5c",
        "colab": {
          "base_uri": "https://localhost:8080/",
          "height": 136
        }
      },
      "source": [
        "val_data_gen.class_indices"
      ],
      "execution_count": 88,
      "outputs": [
        {
          "output_type": "execute_result",
          "data": {
            "text/plain": [
              "{'ACCIDENTAL_Flat': 0,\n",
              " 'Alto': 1,\n",
              " 'Bass': 2,\n",
              " 'DoubSharp': 3,\n",
              " 'Natural': 4,\n",
              " 'Sharp': 5,\n",
              " 'Trebble': 6}"
            ]
          },
          "metadata": {
            "tags": []
          },
          "execution_count": 88
        }
      ]
    },
    {
      "cell_type": "code",
      "metadata": {
        "id": "sfoYKdScTmtc",
        "colab_type": "code",
        "outputId": "3dfb4177-222f-4d09-d202-3418563e5159",
        "colab": {
          "base_uri": "https://localhost:8080/",
          "height": 153
        }
      },
      "source": [
        "tf.math.confusion_matrix(y_true,y_pred)"
      ],
      "execution_count": 89,
      "outputs": [
        {
          "output_type": "execute_result",
          "data": {
            "text/plain": [
              "<tf.Tensor: shape=(7, 7), dtype=int32, numpy=\n",
              "array([[56, 30,  0,  0, 12,  0,  2],\n",
              "       [ 0, 66, 32,  0,  1,  1,  0],\n",
              "       [ 0,  1, 66, 32,  1,  0,  0],\n",
              "       [ 0,  0,  0, 68, 32,  0,  0],\n",
              "       [ 2,  0,  0,  0, 70, 28,  0],\n",
              "       [ 1,  0,  0,  0,  7, 63, 29],\n",
              "       [32, 15,  0,  0,  3,  0, 50]], dtype=int32)>"
            ]
          },
          "metadata": {
            "tags": []
          },
          "execution_count": 89
        }
      ]
    },
    {
      "cell_type": "code",
      "metadata": {
        "id": "wHJjFLOFvWEp",
        "colab_type": "code",
        "outputId": "f1bf5aeb-5302-4387-cc56-55df1037f270",
        "colab": {
          "base_uri": "https://localhost:8080/",
          "height": 599
        }
      },
      "source": [
        "con_mat = tf.math.confusion_matrix(labels=y_true, predictions=y_pred).numpy()\n",
        "con_mat_norm = np.around(con_mat.astype('float') / con_mat.sum(axis=1)[:, np.newaxis], decimals=2)\n",
        "\n",
        "con_mat_df = pd.DataFrame(con_mat_norm,\n",
        "                     index = nomedasclasses, \n",
        "                     columns = nomedasclasses)\n",
        "\n",
        "figure = plt.figure(figsize=(8, 8))\n",
        "sns.heatmap(con_mat_df, annot=True,cmap=plt.cm.Blues)\n",
        "plt.tight_layout()\n",
        "plt.ylabel('True label')\n",
        "plt.xlabel('Predicted label')\n",
        "plt.show()"
      ],
      "execution_count": 90,
      "outputs": [
        {
          "output_type": "display_data",
          "data": {
            "image/png": "[encoded data removed]",
            "text/plain": [
              "<Figure size 576x576 with 2 Axes>"
            ]
          },
          "metadata": {
            "tags": [],
            "needs_background": "light"
          }
        }
      ]
    },
    {
      "cell_type": "markdown",
      "metadata": {
        "id": "M1Tez1EDtTO4",
        "colab_type": "text"
      },
      "source": [
        "# Sklearn"
      ]
    },
    {
      "cell_type": "code",
      "metadata": {
        "id": "09FUU-mdqYwk",
        "colab_type": "code",
        "colab": {}
      },
      "source": [
        "import sklearn\n",
        "from sklearn.metrics import confusion_matrix"
      ],
      "execution_count": 0,
      "outputs": []
    },
    {
      "cell_type": "code",
      "metadata": {
        "id": "oMQoea08qTcK",
        "colab_type": "code",
        "colab": {}
      },
      "source": [
        "cm = confusion_matrix(y_true, y_pred)"
      ],
      "execution_count": 0,
      "outputs": []
    },
    {
      "cell_type": "code",
      "metadata": {
        "id": "2PPbnCY-qWRM",
        "colab_type": "code",
        "outputId": "3b6d5050-cc39-49ce-9f90-f6bccebac1b2",
        "colab": {
          "base_uri": "https://localhost:8080/",
          "height": 136
        }
      },
      "source": [
        "cm"
      ],
      "execution_count": 93,
      "outputs": [
        {
          "output_type": "execute_result",
          "data": {
            "text/plain": [
              "array([[56, 30,  0,  0, 12,  0,  2],\n",
              "       [ 0, 66, 32,  0,  1,  1,  0],\n",
              "       [ 0,  1, 66, 32,  1,  0,  0],\n",
              "       [ 0,  0,  0, 68, 32,  0,  0],\n",
              "       [ 2,  0,  0,  0, 70, 28,  0],\n",
              "       [ 1,  0,  0,  0,  7, 63, 29],\n",
              "       [32, 15,  0,  0,  3,  0, 50]])"
            ]
          },
          "metadata": {
            "tags": []
          },
          "execution_count": 93
        }
      ]
    },
    {
      "cell_type": "code",
      "metadata": {
        "id": "lkveD-fRCXNx",
        "colab_type": "code",
        "outputId": "7112bf7a-cf61-486f-f5a9-5199deff2e9d",
        "colab": {
          "base_uri": "https://localhost:8080/",
          "height": 599
        }
      },
      "source": [
        "con_mat = tf.math.confusion_matrix(labels=y_true, predictions=y_pred).numpy()\n",
        "# con_mat_norm = np.around(con_mat.astype('float') / con_mat.sum(axis=1)[:, np.newaxis], decimals=2)\n",
        "\n",
        "con_mat_df = pd.DataFrame(con_mat,\n",
        "                     index = nomedasclasses, \n",
        "                     columns = nomedasclasses)\n",
        "\n",
        "figure = plt.figure(figsize=(8, 8))\n",
        "sns.heatmap(con_mat_df, annot=True,cmap=plt.cm.Blues)\n",
        "plt.tight_layout()\n",
        "plt.ylabel('True label')\n",
        "plt.xlabel('Predicted label')\n",
        "plt.show()"
      ],
      "execution_count": 94,
      "outputs": [
        {
          "output_type": "display_data",
          "data": {
            "image/png": "[encoded data removed]",
            "text/plain": [
              "<Figure size 576x576 with 2 Axes>"
            ]
          },
          "metadata": {
            "tags": [],
            "needs_background": "light"
          }
        }
      ]
    }
  ]
}