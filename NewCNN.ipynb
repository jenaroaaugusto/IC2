{
  "nbformat": 4,
  "nbformat_minor": 0,
  "metadata": {
    "colab": {
      "name": "NewCNN.ipynb",
      "provenance": [],
      "collapsed_sections": [],
      "toc_visible": true,
      "authorship_tag": "ABX9TyNwOoh8ULVzWcIuEWAZrX7z",
      "include_colab_link": true
    },
    "kernelspec": {
      "name": "python3",
      "display_name": "Python 3"
    }
  },
  "cells": [
    {
      "cell_type": "markdown",
      "metadata": {
        "id": "view-in-github",
        "colab_type": "text"
      },
      "source": [
        "<a href=\"https://colab.research.google.com/github/jenaroaaugusto/IC2/blob/master/NewCNN.ipynb\" target=\"_parent\"><img src=\"https://colab.research.google.com/assets/colab-badge.svg\" alt=\"Open In Colab\"/></a>"
      ]
    },
    {
      "cell_type": "code",
      "metadata": {
        "id": "GrCiEbC7lglr",
        "colab_type": "code",
        "outputId": "35c4962f-7099-483e-fc13-4602f2df5d35",
        "colab": {
          "base_uri": "https://localhost:8080/",
          "height": 34
        }
      },
      "source": [
        "import tensorflow as tf \n",
        "tf.__version__"
      ],
      "execution_count": 1,
      "outputs": [
        {
          "output_type": "execute_result",
          "data": {
            "text/plain": [
              "'2.2.0-rc2'"
            ]
          },
          "metadata": {
            "tags": []
          },
          "execution_count": 1
        }
      ]
    },
    {
      "cell_type": "code",
      "metadata": {
        "id": "hSQpp5o4lwg5",
        "colab_type": "code",
        "colab": {}
      },
      "source": [
        "from __future__ import absolute_import, division, print_function, unicode_literals\n",
        "from tensorflow.keras.models import Sequential\n",
        "from tensorflow.keras.layers import Dense, Conv2D, Flatten, Dropout, MaxPooling2D\n",
        "from tensorflow.keras.preprocessing.image import ImageDataGenerator\n",
        "\n",
        "import os\n",
        "import pathlib\n",
        "import numpy as np\n",
        "import matplotlib.pyplot as plt\n",
        "\n",
        "\n"
      ],
      "execution_count": 0,
      "outputs": []
    },
    {
      "cell_type": "code",
      "metadata": {
        "id": "Hk-LKGzInBhq",
        "colab_type": "code",
        "outputId": "6ecc02a3-7be8-4d16-e8d2-eb2d19144394",
        "colab": {
          "base_uri": "https://localhost:8080/",
          "height": 139
        }
      },
      "source": [
        "!git clone https://github.com/jenaroaaugusto/Dataset_musica_semvalidacao.git"
      ],
      "execution_count": 3,
      "outputs": [
        {
          "output_type": "stream",
          "text": [
            "Cloning into 'Dataset_musica_semvalidacao'...\n",
            "remote: Enumerating objects: 4113, done.\u001b[K\n",
            "remote: Counting objects: 100% (4113/4113), done.\u001b[K\n",
            "remote: Compressing objects: 100% (2690/2690), done.\u001b[K\n",
            "remote: Total 4113 (delta 1421), reused 4113 (delta 1421), pack-reused 0\u001b[K\n",
            "Receiving objects: 100% (4113/4113), 1.44 MiB | 9.91 MiB/s, done.\n",
            "Resolving deltas: 100% (1421/1421), done.\n"
          ],
          "name": "stdout"
        }
      ]
    },
    {
      "cell_type": "code",
      "metadata": {
        "id": "EPIzFO7FncBv",
        "colab_type": "code",
        "colab": {}
      },
      "source": [
        "trainDir = os.path.join('/content/Dataset_musica_semvalidacao', 'Treinamento')\n",
        "validationDir=os.path.join('/content/Dataset_musica_semvalidacao', 'Teste')\n"
      ],
      "execution_count": 0,
      "outputs": []
    },
    {
      "cell_type": "code",
      "metadata": {
        "id": "gWdWcXK6pOXr",
        "colab_type": "code",
        "outputId": "2770194c-1983-4bed-a9df-93f16c75f16a",
        "colab": {
          "base_uri": "https://localhost:8080/",
          "height": 69
        }
      },
      "source": [
        "train_dir = pathlib.Path(\"\"+trainDir)\n",
        "print(train_dir)\n",
        "total_train = len(list(train_dir.glob('*/*.bmp')))\n",
        "print(total_train)\n",
        "CLASS_NAMES=np.array(os.listdir(train_dir))\n",
        "print(CLASS_NAMES)"
      ],
      "execution_count": 5,
      "outputs": [
        {
          "output_type": "stream",
          "text": [
            "/content/Dataset_musica_semvalidacao/Treinamento\n",
            "3393\n",
            "['Bass' 'Trebble' 'Natural' 'DoubSharp' 'ACCIDENTAL_Flat' 'Alto' 'Sharp']\n"
          ],
          "name": "stdout"
        }
      ]
    },
    {
      "cell_type": "code",
      "metadata": {
        "id": "3uz2G7nirBc4",
        "colab_type": "code",
        "outputId": "7f61c842-ca13-4623-d827-6daf163ef18c",
        "colab": {
          "base_uri": "https://localhost:8080/",
          "height": 52
        }
      },
      "source": [
        "validation_dir = pathlib.Path(\"\"+validationDir)\n",
        "print(validation_dir)\n",
        "total_val = len(list(validation_dir.glob('*/*.bmp')))\n",
        "print(total_val)"
      ],
      "execution_count": 6,
      "outputs": [
        {
          "output_type": "stream",
          "text": [
            "/content/Dataset_musica_semvalidacao/Teste\n",
            "700\n"
          ],
          "name": "stdout"
        }
      ]
    },
    {
      "cell_type": "code",
      "metadata": {
        "id": "keXG_gCEtT9R",
        "colab_type": "code",
        "colab": {}
      },
      "source": [
        "batch_size = 32\n",
        "epochs = 15\n",
        "IMG_HEIGHT = 28\n",
        "IMG_WIDTH = 28\n"
      ],
      "execution_count": 0,
      "outputs": []
    },
    {
      "cell_type": "code",
      "metadata": {
        "id": "Yyvb2t70tfkW",
        "colab_type": "code",
        "colab": {}
      },
      "source": [
        "train_image_generator = ImageDataGenerator(rescale=1./255) # Generator for our training data\n",
        "validation_image_generator = ImageDataGenerator(rescale=1./255) # Generator for our validation data\n"
      ],
      "execution_count": 0,
      "outputs": []
    },
    {
      "cell_type": "code",
      "metadata": {
        "id": "rwDUyysAti6X",
        "colab_type": "code",
        "outputId": "57867241-52b5-4368-c30b-19164fbdabf5",
        "colab": {
          "base_uri": "https://localhost:8080/",
          "height": 34
        }
      },
      "source": [
        "train_data_gen = train_image_generator.flow_from_directory(batch_size=batch_size,\n",
        "                                                           directory=train_dir,\n",
        "                                                           shuffle=True,\n",
        "                                                           color_mode=\"grayscale\",\n",
        "                                                           target_size=(IMG_HEIGHT, IMG_WIDTH),\n",
        "                                                           class_mode=\"categorical\")\n"
      ],
      "execution_count": 9,
      "outputs": [
        {
          "output_type": "stream",
          "text": [
            "Found 3393 images belonging to 7 classes.\n"
          ],
          "name": "stdout"
        }
      ]
    },
    {
      "cell_type": "code",
      "metadata": {
        "id": "3SK1yOFn008w",
        "colab_type": "code",
        "outputId": "17c12279-186b-48bc-f96b-ca1b47a96c0d",
        "colab": {
          "base_uri": "https://localhost:8080/",
          "height": 34
        }
      },
      "source": [
        "val_data_gen = validation_image_generator.flow_from_directory(batch_size=batch_size,\n",
        "                                                              directory=validation_dir,\n",
        "                                                              target_size=(IMG_HEIGHT, IMG_WIDTH),\n",
        "                                                              shuffle=True,\n",
        "                                                              color_mode=\"grayscale\",\n",
        "                                                              class_mode=\"categorical\")\n"
      ],
      "execution_count": 10,
      "outputs": [
        {
          "output_type": "stream",
          "text": [
            "Found 700 images belonging to 7 classes.\n"
          ],
          "name": "stdout"
        }
      ]
    },
    {
      "cell_type": "code",
      "metadata": {
        "id": "mhRjMBttxWAW",
        "colab_type": "code",
        "outputId": "f0b23e1d-67df-4cd2-a823-5c04ee77cefc",
        "colab": {
          "base_uri": "https://localhost:8080/",
          "height": 139
        }
      },
      "source": [
        "train_data_gen.class_indices"
      ],
      "execution_count": 11,
      "outputs": [
        {
          "output_type": "execute_result",
          "data": {
            "text/plain": [
              "{'ACCIDENTAL_Flat': 0,\n",
              " 'Alto': 1,\n",
              " 'Bass': 2,\n",
              " 'DoubSharp': 3,\n",
              " 'Natural': 4,\n",
              " 'Sharp': 5,\n",
              " 'Trebble': 6}"
            ]
          },
          "metadata": {
            "tags": []
          },
          "execution_count": 11
        }
      ]
    },
    {
      "cell_type": "code",
      "metadata": {
        "id": "L-f9ln0Vuqit",
        "colab_type": "code",
        "colab": {}
      },
      "source": [
        "x,y=next(train_data_gen)\n"
      ],
      "execution_count": 0,
      "outputs": []
    },
    {
      "cell_type": "code",
      "metadata": {
        "id": "CTLKQSo3y1Ed",
        "colab_type": "code",
        "outputId": "e2013360-216a-475a-8aed-cee6f19fc520",
        "colab": {
          "base_uri": "https://localhost:8080/",
          "height": 34
        }
      },
      "source": [
        "fy=np.argmax(y[1])\n",
        "fy"
      ],
      "execution_count": 13,
      "outputs": [
        {
          "output_type": "execute_result",
          "data": {
            "text/plain": [
              "2"
            ]
          },
          "metadata": {
            "tags": []
          },
          "execution_count": 13
        }
      ]
    },
    {
      "cell_type": "code",
      "metadata": {
        "id": "7gnm714eu1Da",
        "colab_type": "code",
        "colab": {}
      },
      "source": [
        "ax=train_data_gen.class_indices"
      ],
      "execution_count": 0,
      "outputs": []
    },
    {
      "cell_type": "code",
      "metadata": {
        "id": "bNM20KZivRsk",
        "colab_type": "code",
        "outputId": "ab613855-caeb-4603-969d-fca55d86d21a",
        "colab": {
          "base_uri": "https://localhost:8080/",
          "height": 34
        }
      },
      "source": [
        "ax.keys()"
      ],
      "execution_count": 15,
      "outputs": [
        {
          "output_type": "execute_result",
          "data": {
            "text/plain": [
              "dict_keys(['ACCIDENTAL_Flat', 'Alto', 'Bass', 'DoubSharp', 'Natural', 'Sharp', 'Trebble'])"
            ]
          },
          "metadata": {
            "tags": []
          },
          "execution_count": 15
        }
      ]
    },
    {
      "cell_type": "code",
      "metadata": {
        "id": "L1zeTOEN1rmk",
        "colab_type": "code",
        "outputId": "479fa367-b116-4f00-d1f8-a24204d04420",
        "colab": {
          "base_uri": "https://localhost:8080/",
          "height": 34
        }
      },
      "source": [
        "train_data_gen.num_classes"
      ],
      "execution_count": 16,
      "outputs": [
        {
          "output_type": "execute_result",
          "data": {
            "text/plain": [
              "7"
            ]
          },
          "metadata": {
            "tags": []
          },
          "execution_count": 16
        }
      ]
    },
    {
      "cell_type": "code",
      "metadata": {
        "id": "MzlbUnZczXMK",
        "colab_type": "code",
        "outputId": "78314dfd-6625-41e8-95dc-2e3311d6dc0c",
        "colab": {
          "base_uri": "https://localhost:8080/",
          "height": 34
        }
      },
      "source": [
        "val_data_gen.num_classes"
      ],
      "execution_count": 17,
      "outputs": [
        {
          "output_type": "execute_result",
          "data": {
            "text/plain": [
              "7"
            ]
          },
          "metadata": {
            "tags": []
          },
          "execution_count": 17
        }
      ]
    },
    {
      "cell_type": "markdown",
      "metadata": {
        "id": "XQ_wo83sEO9q",
        "colab_type": "text"
      },
      "source": [
        "# Rede Neural Convolucional - CNN  "
      ]
    },
    {
      "cell_type": "code",
      "metadata": {
        "id": "W2LQEfGF7NXH",
        "colab_type": "code",
        "colab": {}
      },
      "source": [
        "from tensorflow.keras import datasets, layers, models,optimizers\n",
        "from tensorflow.keras.layers import Activation, Dense\n",
        "# from keras import "
      ],
      "execution_count": 0,
      "outputs": []
    },
    {
      "cell_type": "code",
      "metadata": {
        "id": "kMPUYrpl692r",
        "colab_type": "code",
        "outputId": "9cf4fdec-2d0d-43fe-fba3-1116be57bb25",
        "colab": {
          "base_uri": "https://localhost:8080/",
          "height": 364
        }
      },
      "source": [
        "model = models.Sequential()\n",
        "model.add(layers.Conv2D(32, (2, 2),padding=\"same\", activation='relu', input_shape=(IMG_HEIGHT, IMG_WIDTH, 1)))\n",
        "model.add(layers.MaxPooling2D((2, 2)))\n",
        "model.add(layers.Conv2D(64, (3, 3),padding=\"same\", activation='relu'))\n",
        "model.add(layers.MaxPooling2D((2, 2)))\n",
        "model.add(layers.Conv2D(128, (3, 3),padding=\"same\", activation='relu'))\n",
        "model.add(layers.MaxPooling2D(2,2))\n",
        "model.summary()"
      ],
      "execution_count": 19,
      "outputs": [
        {
          "output_type": "stream",
          "text": [
            "Model: \"sequential\"\n",
            "_________________________________________________________________\n",
            "Layer (type)                 Output Shape              Param #   \n",
            "=================================================================\n",
            "conv2d (Conv2D)              (None, 28, 28, 32)        160       \n",
            "_________________________________________________________________\n",
            "max_pooling2d (MaxPooling2D) (None, 14, 14, 32)        0         \n",
            "_________________________________________________________________\n",
            "conv2d_1 (Conv2D)            (None, 14, 14, 64)        18496     \n",
            "_________________________________________________________________\n",
            "max_pooling2d_1 (MaxPooling2 (None, 7, 7, 64)          0         \n",
            "_________________________________________________________________\n",
            "conv2d_2 (Conv2D)            (None, 7, 7, 128)         73856     \n",
            "_________________________________________________________________\n",
            "max_pooling2d_2 (MaxPooling2 (None, 3, 3, 128)         0         \n",
            "=================================================================\n",
            "Total params: 92,512\n",
            "Trainable params: 92,512\n",
            "Non-trainable params: 0\n",
            "_________________________________________________________________\n"
          ],
          "name": "stdout"
        }
      ]
    },
    {
      "cell_type": "code",
      "metadata": {
        "id": "sgVDZhkW7KFT",
        "colab_type": "code",
        "outputId": "80bc4acf-275e-4a36-b47b-4a2f19ab6ff0",
        "colab": {
          "base_uri": "https://localhost:8080/",
          "height": 607
        }
      },
      "source": [
        "model.add(layers.Flatten())\n",
        "model.add(layers.Dropout(0.1))\n",
        "model.add(layers.Dense(128, activation='relu'))\n",
        "model.add(layers.Dense(64,activation='relu'))\n",
        "model.add(layers.Dense(10, activation='relu'))\n",
        "model.add(Dense(7))\n",
        "model.add(Activation('softmax'))\n",
        "model.summary()"
      ],
      "execution_count": 20,
      "outputs": [
        {
          "output_type": "stream",
          "text": [
            "Model: \"sequential\"\n",
            "_________________________________________________________________\n",
            "Layer (type)                 Output Shape              Param #   \n",
            "=================================================================\n",
            "conv2d (Conv2D)              (None, 28, 28, 32)        160       \n",
            "_________________________________________________________________\n",
            "max_pooling2d (MaxPooling2D) (None, 14, 14, 32)        0         \n",
            "_________________________________________________________________\n",
            "conv2d_1 (Conv2D)            (None, 14, 14, 64)        18496     \n",
            "_________________________________________________________________\n",
            "max_pooling2d_1 (MaxPooling2 (None, 7, 7, 64)          0         \n",
            "_________________________________________________________________\n",
            "conv2d_2 (Conv2D)            (None, 7, 7, 128)         73856     \n",
            "_________________________________________________________________\n",
            "max_pooling2d_2 (MaxPooling2 (None, 3, 3, 128)         0         \n",
            "_________________________________________________________________\n",
            "flatten (Flatten)            (None, 1152)              0         \n",
            "_________________________________________________________________\n",
            "dropout (Dropout)            (None, 1152)              0         \n",
            "_________________________________________________________________\n",
            "dense (Dense)                (None, 128)               147584    \n",
            "_________________________________________________________________\n",
            "dense_1 (Dense)              (None, 64)                8256      \n",
            "_________________________________________________________________\n",
            "dense_2 (Dense)              (None, 10)                650       \n",
            "_________________________________________________________________\n",
            "dense_3 (Dense)              (None, 7)                 77        \n",
            "_________________________________________________________________\n",
            "activation (Activation)      (None, 7)                 0         \n",
            "=================================================================\n",
            "Total params: 249,079\n",
            "Trainable params: 249,079\n",
            "Non-trainable params: 0\n",
            "_________________________________________________________________\n"
          ],
          "name": "stdout"
        }
      ]
    },
    {
      "cell_type": "code",
      "metadata": {
        "id": "Z-_60R4zgd_N",
        "colab_type": "code",
        "colab": {}
      },
      "source": [
        "METRICS = [\n",
        "      tf.keras.metrics.TruePositives(name='tp'),\n",
        "      tf.keras.metrics.FalsePositives(name='fp'),\n",
        "      tf.keras.metrics.TrueNegatives(name='tn'),\n",
        "      tf.keras.metrics.FalseNegatives(name='fn'), \n",
        "      tf.keras.metrics.BinaryAccuracy(name='accuracy'),\n",
        "      tf.keras.metrics.Precision(name='precision'),\n",
        "      tf.keras.metrics.Recall(name='recall'),\n",
        "      tf.keras.metrics.AUC(name='auc'),\n",
        "]\n"
      ],
      "execution_count": 0,
      "outputs": []
    },
    {
      "cell_type": "code",
      "metadata": {
        "id": "lmSjzRQc7_Wa",
        "colab_type": "code",
        "colab": {}
      },
      "source": [
        "model.compile(optimizer=\"adam\",\n",
        "              loss=\"categorical_crossentropy\",\n",
        "              metrics=METRICS)\n"
      ],
      "execution_count": 0,
      "outputs": []
    },
    {
      "cell_type": "code",
      "metadata": {
        "id": "IMnX0k30-1HF",
        "colab_type": "code",
        "outputId": "b8ad8ea8-572a-46b1-8e90-308f1728a702",
        "colab": {
          "base_uri": "https://localhost:8080/",
          "height": 607
        }
      },
      "source": [
        "model.summary()\n"
      ],
      "execution_count": 23,
      "outputs": [
        {
          "output_type": "stream",
          "text": [
            "Model: \"sequential\"\n",
            "_________________________________________________________________\n",
            "Layer (type)                 Output Shape              Param #   \n",
            "=================================================================\n",
            "conv2d (Conv2D)              (None, 28, 28, 32)        160       \n",
            "_________________________________________________________________\n",
            "max_pooling2d (MaxPooling2D) (None, 14, 14, 32)        0         \n",
            "_________________________________________________________________\n",
            "conv2d_1 (Conv2D)            (None, 14, 14, 64)        18496     \n",
            "_________________________________________________________________\n",
            "max_pooling2d_1 (MaxPooling2 (None, 7, 7, 64)          0         \n",
            "_________________________________________________________________\n",
            "conv2d_2 (Conv2D)            (None, 7, 7, 128)         73856     \n",
            "_________________________________________________________________\n",
            "max_pooling2d_2 (MaxPooling2 (None, 3, 3, 128)         0         \n",
            "_________________________________________________________________\n",
            "flatten (Flatten)            (None, 1152)              0         \n",
            "_________________________________________________________________\n",
            "dropout (Dropout)            (None, 1152)              0         \n",
            "_________________________________________________________________\n",
            "dense (Dense)                (None, 128)               147584    \n",
            "_________________________________________________________________\n",
            "dense_1 (Dense)              (None, 64)                8256      \n",
            "_________________________________________________________________\n",
            "dense_2 (Dense)              (None, 10)                650       \n",
            "_________________________________________________________________\n",
            "dense_3 (Dense)              (None, 7)                 77        \n",
            "_________________________________________________________________\n",
            "activation (Activation)      (None, 7)                 0         \n",
            "=================================================================\n",
            "Total params: 249,079\n",
            "Trainable params: 249,079\n",
            "Non-trainable params: 0\n",
            "_________________________________________________________________\n"
          ],
          "name": "stdout"
        }
      ]
    },
    {
      "cell_type": "code",
      "metadata": {
        "id": "YPgvfCv9-5CP",
        "colab_type": "code",
        "outputId": "d352b7a4-f3f1-4f1a-d027-bde4bc0a6bce",
        "colab": {
          "base_uri": "https://localhost:8080/",
          "height": 558
        }
      },
      "source": [
        "\n",
        "history = model.fit(\n",
        "    train_data_gen,\n",
        "    steps_per_epoch=total_train // batch_size,\n",
        "    epochs=epochs,\n",
        "    validation_data=val_data_gen,\n",
        "    validation_steps=total_val // batch_size\n",
        ")"
      ],
      "execution_count": 24,
      "outputs": [
        {
          "output_type": "stream",
          "text": [
            "Epoch 1/15\n",
            "106/106 [==============================] - 8s 75ms/step - loss: 0.6917 - tp: 2106.0000 - fp: 214.0000 - tn: 19952.0000 - fn: 1255.0000 - accuracy: 0.9376 - precision: 0.9078 - recall: 0.6266 - auc: 0.9605 - val_loss: 0.1946 - val_tp: 618.0000 - val_fp: 31.0000 - val_tn: 4001.0000 - val_fn: 54.0000 - val_accuracy: 0.9819 - val_precision: 0.9522 - val_recall: 0.9196 - val_auc: 0.9969\n",
            "Epoch 2/15\n",
            "106/106 [==============================] - 7s 68ms/step - loss: 0.1820 - tp: 3153.0000 - fp: 141.0000 - tn: 20211.0000 - fn: 239.0000 - accuracy: 0.9840 - precision: 0.9572 - recall: 0.9295 - auc: 0.9961 - val_loss: 0.0796 - val_tp: 655.0000 - val_fp: 13.0000 - val_tn: 4019.0000 - val_fn: 17.0000 - val_accuracy: 0.9936 - val_precision: 0.9805 - val_recall: 0.9747 - val_auc: 0.9987\n",
            "Epoch 3/15\n",
            "106/106 [==============================] - 7s 68ms/step - loss: 0.0534 - tp: 3298.0000 - fp: 49.0000 - tn: 20117.0000 - fn: 63.0000 - accuracy: 0.9952 - precision: 0.9854 - recall: 0.9813 - auc: 0.9996 - val_loss: 0.0368 - val_tp: 666.0000 - val_fp: 5.0000 - val_tn: 4027.0000 - val_fn: 6.0000 - val_accuracy: 0.9977 - val_precision: 0.9925 - val_recall: 0.9911 - val_auc: 0.9991\n",
            "Epoch 4/15\n",
            "106/106 [==============================] - 7s 67ms/step - loss: 0.0347 - tp: 3326.0000 - fp: 32.0000 - tn: 20134.0000 - fn: 35.0000 - accuracy: 0.9972 - precision: 0.9905 - recall: 0.9896 - auc: 0.9995 - val_loss: 0.0340 - val_tp: 666.0000 - val_fp: 6.0000 - val_tn: 4026.0000 - val_fn: 6.0000 - val_accuracy: 0.9974 - val_precision: 0.9911 - val_recall: 0.9911 - val_auc: 0.9991\n",
            "Epoch 5/15\n",
            "106/106 [==============================] - 7s 67ms/step - loss: 0.0196 - tp: 3338.0000 - fp: 15.0000 - tn: 20151.0000 - fn: 23.0000 - accuracy: 0.9984 - precision: 0.9955 - recall: 0.9932 - auc: 1.0000 - val_loss: 0.0290 - val_tp: 666.0000 - val_fp: 5.0000 - val_tn: 4027.0000 - val_fn: 6.0000 - val_accuracy: 0.9977 - val_precision: 0.9925 - val_recall: 0.9911 - val_auc: 0.9992\n",
            "Epoch 6/15\n",
            "106/106 [==============================] - 7s 67ms/step - loss: 0.0139 - tp: 3348.0000 - fp: 10.0000 - tn: 20156.0000 - fn: 13.0000 - accuracy: 0.9990 - precision: 0.9970 - recall: 0.9961 - auc: 1.0000 - val_loss: 0.0336 - val_tp: 667.0000 - val_fp: 5.0000 - val_tn: 4027.0000 - val_fn: 5.0000 - val_accuracy: 0.9979 - val_precision: 0.9926 - val_recall: 0.9926 - val_auc: 0.9982\n",
            "Epoch 7/15\n",
            "106/106 [==============================] - 7s 68ms/step - loss: 0.0059 - tp: 3356.0000 - fp: 3.0000 - tn: 20163.0000 - fn: 5.0000 - accuracy: 0.9997 - precision: 0.9991 - recall: 0.9985 - auc: 1.0000 - val_loss: 0.0218 - val_tp: 669.0000 - val_fp: 3.0000 - val_tn: 4029.0000 - val_fn: 3.0000 - val_accuracy: 0.9987 - val_precision: 0.9955 - val_recall: 0.9955 - val_auc: 0.9991\n",
            "Epoch 8/15\n",
            "106/106 [==============================] - 7s 68ms/step - loss: 0.0059 - tp: 3356.0000 - fp: 4.0000 - tn: 20162.0000 - fn: 5.0000 - accuracy: 0.9996 - precision: 0.9988 - recall: 0.9985 - auc: 0.9998 - val_loss: 0.0310 - val_tp: 666.0000 - val_fp: 5.0000 - val_tn: 4027.0000 - val_fn: 6.0000 - val_accuracy: 0.9977 - val_precision: 0.9925 - val_recall: 0.9911 - val_auc: 0.9999\n",
            "Epoch 9/15\n",
            "106/106 [==============================] - 7s 68ms/step - loss: 0.0045 - tp: 3357.0000 - fp: 2.0000 - tn: 20164.0000 - fn: 4.0000 - accuracy: 0.9997 - precision: 0.9994 - recall: 0.9988 - auc: 1.0000 - val_loss: 0.0175 - val_tp: 669.0000 - val_fp: 2.0000 - val_tn: 4030.0000 - val_fn: 3.0000 - val_accuracy: 0.9989 - val_precision: 0.9970 - val_recall: 0.9955 - val_auc: 0.9991\n",
            "Epoch 10/15\n",
            "106/106 [==============================] - 7s 68ms/step - loss: 0.0140 - tp: 3344.0000 - fp: 17.0000 - tn: 20149.0000 - fn: 17.0000 - accuracy: 0.9986 - precision: 0.9949 - recall: 0.9949 - auc: 1.0000 - val_loss: 0.1728 - val_tp: 640.0000 - val_fp: 23.0000 - val_tn: 4009.0000 - val_fn: 32.0000 - val_accuracy: 0.9883 - val_precision: 0.9653 - val_recall: 0.9524 - val_auc: 0.9940\n",
            "Epoch 11/15\n",
            "106/106 [==============================] - 7s 68ms/step - loss: 0.0178 - tp: 3339.0000 - fp: 18.0000 - tn: 20148.0000 - fn: 22.0000 - accuracy: 0.9983 - precision: 0.9946 - recall: 0.9935 - auc: 1.0000 - val_loss: 0.0196 - val_tp: 668.0000 - val_fp: 3.0000 - val_tn: 4029.0000 - val_fn: 4.0000 - val_accuracy: 0.9985 - val_precision: 0.9955 - val_recall: 0.9940 - val_auc: 0.9992\n",
            "Epoch 12/15\n",
            "106/106 [==============================] - 7s 66ms/step - loss: 0.0279 - tp: 3337.0000 - fp: 23.0000 - tn: 20143.0000 - fn: 24.0000 - accuracy: 0.9980 - precision: 0.9932 - recall: 0.9929 - auc: 0.9997 - val_loss: 0.0524 - val_tp: 664.0000 - val_fp: 7.0000 - val_tn: 4025.0000 - val_fn: 8.0000 - val_accuracy: 0.9968 - val_precision: 0.9896 - val_recall: 0.9881 - val_auc: 0.9983\n",
            "Epoch 13/15\n",
            "106/106 [==============================] - 7s 66ms/step - loss: 0.0101 - tp: 3350.0000 - fp: 10.0000 - tn: 20156.0000 - fn: 11.0000 - accuracy: 0.9991 - precision: 0.9970 - recall: 0.9967 - auc: 1.0000 - val_loss: 0.0322 - val_tp: 665.0000 - val_fp: 6.0000 - val_tn: 4026.0000 - val_fn: 7.0000 - val_accuracy: 0.9972 - val_precision: 0.9911 - val_recall: 0.9896 - val_auc: 0.9999\n",
            "Epoch 14/15\n",
            "106/106 [==============================] - 7s 66ms/step - loss: 0.0216 - tp: 3333.0000 - fp: 24.0000 - tn: 20142.0000 - fn: 28.0000 - accuracy: 0.9978 - precision: 0.9929 - recall: 0.9917 - auc: 1.0000 - val_loss: 0.0197 - val_tp: 669.0000 - val_fp: 3.0000 - val_tn: 4029.0000 - val_fn: 3.0000 - val_accuracy: 0.9987 - val_precision: 0.9955 - val_recall: 0.9955 - val_auc: 0.9992\n",
            "Epoch 15/15\n",
            "106/106 [==============================] - 7s 67ms/step - loss: 0.0051 - tp: 3354.0000 - fp: 6.0000 - tn: 20160.0000 - fn: 7.0000 - accuracy: 0.9994 - precision: 0.9982 - recall: 0.9979 - auc: 1.0000 - val_loss: 0.0211 - val_tp: 669.0000 - val_fp: 3.0000 - val_tn: 4029.0000 - val_fn: 3.0000 - val_accuracy: 0.9987 - val_precision: 0.9955 - val_recall: 0.9955 - val_auc: 0.9991\n"
          ],
          "name": "stdout"
        }
      ]
    },
    {
      "cell_type": "code",
      "metadata": {
        "id": "bj3kH0UC_DT9",
        "colab_type": "code",
        "colab": {}
      },
      "source": [
        "model.save_weights('Teste14.h5') \n",
        "model.save(\"modelo2.h5\")"
      ],
      "execution_count": 0,
      "outputs": []
    },
    {
      "cell_type": "markdown",
      "metadata": {
        "id": "fcxYlbYVkLcl",
        "colab_type": "text"
      },
      "source": [
        "# Resultados visualizar "
      ]
    },
    {
      "cell_type": "code",
      "metadata": {
        "id": "KDHJ0AmtUqki",
        "colab_type": "code",
        "outputId": "dd688762-b72d-42a0-dfbd-0d68ca97f0b4",
        "colab": {
          "base_uri": "https://localhost:8080/",
          "height": 499
        }
      },
      "source": [
        "acc = history.history['accuracy']\n",
        "val_acc = history.history['val_accuracy']\n",
        "\n",
        "loss=history.history['loss']\n",
        "val_loss=history.history['val_loss']\n",
        "\n",
        "epochs_range = range(epochs)\n",
        "\n",
        "plt.figure(figsize=(8, 8))\n",
        "plt.subplot(1, 2, 1)\n",
        "plt.plot(epochs_range, acc, label='Training Accuracy')\n",
        "plt.plot(epochs_range, val_acc, label='Validation Accuracy')\n",
        "plt.legend(loc='lower right')\n",
        "plt.title('Training and Validation Accuracy')\n",
        "\n",
        "plt.subplot(1, 2, 2)\n",
        "plt.plot(epochs_range, loss, label='Training Loss')\n",
        "plt.plot(epochs_range, val_loss, label='Validation Loss')\n",
        "plt.legend(loc='upper right')\n",
        "plt.title('Training and Validation Loss')\n",
        "plt.show()\n"
      ],
      "execution_count": 26,
      "outputs": [
        {
          "output_type": "display_data",
          "data": {
            "image/png": "[encoded data removed]",
            "text/plain": [
              "<Figure size 576x576 with 2 Axes>"
            ]
          },
          "metadata": {
            "tags": []
          }
        }
      ]
    },
    {
      "cell_type": "code",
      "metadata": {
        "id": "579ed11vkYFY",
        "colab_type": "code",
        "colab": {}
      },
      "source": [
        "image_gen = ImageDataGenerator(rescale=1./255, horizontal_flip=True)"
      ],
      "execution_count": 0,
      "outputs": []
    },
    {
      "cell_type": "markdown",
      "metadata": {
        "id": "QUD4GukYkTaX",
        "colab_type": "text"
      },
      "source": [
        "# Aumento de exemplos e redução de Overfiting "
      ]
    },
    {
      "cell_type": "code",
      "metadata": {
        "id": "H2Jj8xJ1ieZ8",
        "colab_type": "code",
        "colab": {
          "base_uri": "https://localhost:8080/",
          "height": 34
        },
        "outputId": "e80487d7-73ce-4bbd-e6f5-5e0332952040"
      },
      "source": [
        "train_data_gen = image_gen.flow_from_directory(batch_size=batch_size,\n",
        "                                               directory=train_dir,\n",
        "                                               shuffle=True,\n",
        "                                               target_size=(IMG_HEIGHT, IMG_WIDTH))"
      ],
      "execution_count": 28,
      "outputs": [
        {
          "output_type": "stream",
          "text": [
            "Found 3393 images belonging to 7 classes.\n"
          ],
          "name": "stdout"
        }
      ]
    },
    {
      "cell_type": "code",
      "metadata": {
        "id": "85Zd0NPfigbH",
        "colab_type": "code",
        "colab": {}
      },
      "source": [
        "augmented_images = [train_data_gen[0][0][0] for i in range(5)]"
      ],
      "execution_count": 0,
      "outputs": []
    },
    {
      "cell_type": "code",
      "metadata": {
        "id": "R0ZkfMYDisdw",
        "colab_type": "code",
        "colab": {}
      },
      "source": [
        "image_gen = ImageDataGenerator(rescale=1./255, rotation_range=45)"
      ],
      "execution_count": 0,
      "outputs": []
    },
    {
      "cell_type": "code",
      "metadata": {
        "id": "qGzO7kvQjLsO",
        "colab_type": "code",
        "colab": {
          "base_uri": "https://localhost:8080/",
          "height": 34
        },
        "outputId": "ddc58189-dab2-4135-aa71-2530e5dfc0fd"
      },
      "source": [
        "train_data_gen = image_gen.flow_from_directory(batch_size=batch_size,\n",
        "                                               directory=train_dir,\n",
        "                                               shuffle=True,\n",
        "                                               target_size=(IMG_HEIGHT, IMG_WIDTH))\n",
        "\n",
        "augmented_images = [train_data_gen[0][0][0] for i in range(5)]"
      ],
      "execution_count": 32,
      "outputs": [
        {
          "output_type": "stream",
          "text": [
            "Found 3393 images belonging to 7 classes.\n"
          ],
          "name": "stdout"
        }
      ]
    },
    {
      "cell_type": "code",
      "metadata": {
        "id": "vTRKpCH6jNMq",
        "colab_type": "code",
        "colab": {}
      },
      "source": [
        "# zoom_range from 0 - 1 where 1 = 100%.\n",
        "image_gen = ImageDataGenerator(rescale=1./255, zoom_range=0.5) # "
      ],
      "execution_count": 0,
      "outputs": []
    },
    {
      "cell_type": "code",
      "metadata": {
        "id": "jjuCDdKOjQ2x",
        "colab_type": "code",
        "colab": {
          "base_uri": "https://localhost:8080/",
          "height": 34
        },
        "outputId": "12862b42-0a26-475e-8883-0eb8e6839476"
      },
      "source": [
        "train_data_gen = image_gen.flow_from_directory(batch_size=batch_size,\n",
        "                                               directory=train_dir,\n",
        "                                               shuffle=True,\n",
        "                                               target_size=(IMG_HEIGHT, IMG_WIDTH))\n",
        "\n",
        "augmented_images = [train_data_gen[0][0][0] for i in range(5)]"
      ],
      "execution_count": 34,
      "outputs": [
        {
          "output_type": "stream",
          "text": [
            "Found 3393 images belonging to 7 classes.\n"
          ],
          "name": "stdout"
        }
      ]
    },
    {
      "cell_type": "code",
      "metadata": {
        "id": "YMh-9E5YjS8-",
        "colab_type": "code",
        "colab": {}
      },
      "source": [
        "image_gen_train = ImageDataGenerator(\n",
        "                    rescale=1./255,\n",
        "                    rotation_range=45,\n",
        "                    width_shift_range=.15,\n",
        "                    height_shift_range=.15,\n",
        "                    horizontal_flip=True,\n",
        "                    zoom_range=0.5\n",
        "                    )"
      ],
      "execution_count": 0,
      "outputs": []
    },
    {
      "cell_type": "code",
      "metadata": {
        "id": "tPkBpSuqje0d",
        "colab_type": "code",
        "colab": {
          "base_uri": "https://localhost:8080/",
          "height": 34
        },
        "outputId": "d86b89fd-b539-40f6-a9c3-c1ab7936a770"
      },
      "source": [
        "train_data_gen = image_gen_train.flow_from_directory(batch_size=batch_size,\n",
        "                                                           directory=train_dir,\n",
        "                                                           shuffle=True,\n",
        "                                                           color_mode=\"grayscale\",\n",
        "                                                           target_size=(IMG_HEIGHT, IMG_WIDTH),\n",
        "                                                           class_mode=\"categorical\")"
      ],
      "execution_count": 36,
      "outputs": [
        {
          "output_type": "stream",
          "text": [
            "Found 3393 images belonging to 7 classes.\n"
          ],
          "name": "stdout"
        }
      ]
    },
    {
      "cell_type": "code",
      "metadata": {
        "id": "qijyyJtxj6qB",
        "colab_type": "code",
        "colab": {}
      },
      "source": [
        "image_gen_val = ImageDataGenerator(rescale=1./255)"
      ],
      "execution_count": 0,
      "outputs": []
    },
    {
      "cell_type": "code",
      "metadata": {
        "id": "-i0bl5Tpj77L",
        "colab_type": "code",
        "colab": {
          "base_uri": "https://localhost:8080/",
          "height": 34
        },
        "outputId": "aa0877c5-ac22-4870-cbea-e2520c04cabd"
      },
      "source": [
        "val_data_gen = image_gen_val.flow_from_directory(batch_size=batch_size,\n",
        "                                                  directory=validation_dir,\n",
        "                                                  target_size=(IMG_HEIGHT, IMG_WIDTH),\n",
        "                                                  shuffle=True,\n",
        "                                                  color_mode=\"grayscale\",\n",
        "                                                  class_mode=\"categorical\")"
      ],
      "execution_count": 38,
      "outputs": [
        {
          "output_type": "stream",
          "text": [
            "Found 700 images belonging to 7 classes.\n"
          ],
          "name": "stdout"
        }
      ]
    },
    {
      "cell_type": "code",
      "metadata": {
        "id": "iYbEwty5kDES",
        "colab_type": "code",
        "colab": {}
      },
      "source": [
        ""
      ],
      "execution_count": 0,
      "outputs": []
    },
    {
      "cell_type": "markdown",
      "metadata": {
        "id": "-UeZQr69kgFC",
        "colab_type": "text"
      },
      "source": [
        "#Nova CNN"
      ]
    },
    {
      "cell_type": "code",
      "metadata": {
        "colab_type": "code",
        "outputId": "d610e398-5b9e-44ff-d73b-bc27f0e51a28",
        "id": "GgijPCdrkwcY",
        "colab": {
          "base_uri": "https://localhost:8080/",
          "height": 399
        }
      },
      "source": [
        "model_new = models.Sequential()\n",
        "model_new.add(layers.Conv2D(32, (2, 2),padding=\"same\", activation='relu', input_shape=(IMG_HEIGHT, IMG_WIDTH, 1)))\n",
        "model_new.add(layers.MaxPooling2D((2, 2)))\n",
        "model_new.add(layers.Dropout(0.2))\n",
        "model_new.add(layers.Conv2D(64, (3, 3),padding=\"same\", activation='relu'))\n",
        "model_new.add(layers.MaxPooling2D((2, 2)))\n",
        "model_new.add(layers.Conv2D(128, (3, 3),padding=\"same\", activation='relu'))\n",
        "model_new.add(layers.MaxPooling2D(2,2))\n",
        "model_new.summary()"
      ],
      "execution_count": 39,
      "outputs": [
        {
          "output_type": "stream",
          "text": [
            "Model: \"sequential_1\"\n",
            "_________________________________________________________________\n",
            "Layer (type)                 Output Shape              Param #   \n",
            "=================================================================\n",
            "conv2d_3 (Conv2D)            (None, 28, 28, 32)        160       \n",
            "_________________________________________________________________\n",
            "max_pooling2d_3 (MaxPooling2 (None, 14, 14, 32)        0         \n",
            "_________________________________________________________________\n",
            "dropout_1 (Dropout)          (None, 14, 14, 32)        0         \n",
            "_________________________________________________________________\n",
            "conv2d_4 (Conv2D)            (None, 14, 14, 64)        18496     \n",
            "_________________________________________________________________\n",
            "max_pooling2d_4 (MaxPooling2 (None, 7, 7, 64)          0         \n",
            "_________________________________________________________________\n",
            "conv2d_5 (Conv2D)            (None, 7, 7, 128)         73856     \n",
            "_________________________________________________________________\n",
            "max_pooling2d_5 (MaxPooling2 (None, 3, 3, 128)         0         \n",
            "=================================================================\n",
            "Total params: 92,512\n",
            "Trainable params: 92,512\n",
            "Non-trainable params: 0\n",
            "_________________________________________________________________\n"
          ],
          "name": "stdout"
        }
      ]
    },
    {
      "cell_type": "code",
      "metadata": {
        "colab_type": "code",
        "outputId": "285cf1dc-c913-4395-c339-213d3643f95d",
        "id": "3bX3CTLfloIU",
        "colab": {
          "base_uri": "https://localhost:8080/",
          "height": 642
        }
      },
      "source": [
        "model_new.add(layers.Flatten())\n",
        "model_new.add(layers.Dropout(0.1))\n",
        "model_new.add(layers.Dense(128, activation='relu'))\n",
        "model_new.add(layers.Dense(64,activation='relu'))\n",
        "model_new.add(layers.Dense(10, activation='relu'))\n",
        "model_new.add(Dense(7))\n",
        "model_new.add(Activation('softmax'))\n",
        "model_new.summary()"
      ],
      "execution_count": 40,
      "outputs": [
        {
          "output_type": "stream",
          "text": [
            "Model: \"sequential_1\"\n",
            "_________________________________________________________________\n",
            "Layer (type)                 Output Shape              Param #   \n",
            "=================================================================\n",
            "conv2d_3 (Conv2D)            (None, 28, 28, 32)        160       \n",
            "_________________________________________________________________\n",
            "max_pooling2d_3 (MaxPooling2 (None, 14, 14, 32)        0         \n",
            "_________________________________________________________________\n",
            "dropout_1 (Dropout)          (None, 14, 14, 32)        0         \n",
            "_________________________________________________________________\n",
            "conv2d_4 (Conv2D)            (None, 14, 14, 64)        18496     \n",
            "_________________________________________________________________\n",
            "max_pooling2d_4 (MaxPooling2 (None, 7, 7, 64)          0         \n",
            "_________________________________________________________________\n",
            "conv2d_5 (Conv2D)            (None, 7, 7, 128)         73856     \n",
            "_________________________________________________________________\n",
            "max_pooling2d_5 (MaxPooling2 (None, 3, 3, 128)         0         \n",
            "_________________________________________________________________\n",
            "flatten_1 (Flatten)          (None, 1152)              0         \n",
            "_________________________________________________________________\n",
            "dropout_2 (Dropout)          (None, 1152)              0         \n",
            "_________________________________________________________________\n",
            "dense_4 (Dense)              (None, 128)               147584    \n",
            "_________________________________________________________________\n",
            "dense_5 (Dense)              (None, 64)                8256      \n",
            "_________________________________________________________________\n",
            "dense_6 (Dense)              (None, 10)                650       \n",
            "_________________________________________________________________\n",
            "dense_7 (Dense)              (None, 7)                 77        \n",
            "_________________________________________________________________\n",
            "activation_1 (Activation)    (None, 7)                 0         \n",
            "=================================================================\n",
            "Total params: 249,079\n",
            "Trainable params: 249,079\n",
            "Non-trainable params: 0\n",
            "_________________________________________________________________\n"
          ],
          "name": "stdout"
        }
      ]
    },
    {
      "cell_type": "code",
      "metadata": {
        "colab_type": "code",
        "id": "Z1CQuh2Bl23o",
        "colab": {
          "base_uri": "https://localhost:8080/",
          "height": 642
        },
        "outputId": "52e7bd5e-6ec0-4435-d6a5-9eebe8d2695a"
      },
      "source": [
        "model_new.compile(optimizer=\"adam\",\n",
        "              loss=\"categorical_crossentropy\",\n",
        "              metrics=METRICS)\n",
        "model_new.summary()"
      ],
      "execution_count": 41,
      "outputs": [
        {
          "output_type": "stream",
          "text": [
            "Model: \"sequential_1\"\n",
            "_________________________________________________________________\n",
            "Layer (type)                 Output Shape              Param #   \n",
            "=================================================================\n",
            "conv2d_3 (Conv2D)            (None, 28, 28, 32)        160       \n",
            "_________________________________________________________________\n",
            "max_pooling2d_3 (MaxPooling2 (None, 14, 14, 32)        0         \n",
            "_________________________________________________________________\n",
            "dropout_1 (Dropout)          (None, 14, 14, 32)        0         \n",
            "_________________________________________________________________\n",
            "conv2d_4 (Conv2D)            (None, 14, 14, 64)        18496     \n",
            "_________________________________________________________________\n",
            "max_pooling2d_4 (MaxPooling2 (None, 7, 7, 64)          0         \n",
            "_________________________________________________________________\n",
            "conv2d_5 (Conv2D)            (None, 7, 7, 128)         73856     \n",
            "_________________________________________________________________\n",
            "max_pooling2d_5 (MaxPooling2 (None, 3, 3, 128)         0         \n",
            "_________________________________________________________________\n",
            "flatten_1 (Flatten)          (None, 1152)              0         \n",
            "_________________________________________________________________\n",
            "dropout_2 (Dropout)          (None, 1152)              0         \n",
            "_________________________________________________________________\n",
            "dense_4 (Dense)              (None, 128)               147584    \n",
            "_________________________________________________________________\n",
            "dense_5 (Dense)              (None, 64)                8256      \n",
            "_________________________________________________________________\n",
            "dense_6 (Dense)              (None, 10)                650       \n",
            "_________________________________________________________________\n",
            "dense_7 (Dense)              (None, 7)                 77        \n",
            "_________________________________________________________________\n",
            "activation_1 (Activation)    (None, 7)                 0         \n",
            "=================================================================\n",
            "Total params: 249,079\n",
            "Trainable params: 249,079\n",
            "Non-trainable params: 0\n",
            "_________________________________________________________________\n"
          ],
          "name": "stdout"
        }
      ]
    },
    {
      "cell_type": "code",
      "metadata": {
        "id": "Z5fQLwqtmCRT",
        "colab_type": "code",
        "colab": {
          "base_uri": "https://localhost:8080/",
          "height": 610
        },
        "outputId": "4010d576-c7b0-4d54-c27f-642fab1c559a"
      },
      "source": [
        "history = model_new.fit_generator(\n",
        "    train_data_gen,\n",
        "    steps_per_epoch=total_train // batch_size,\n",
        "    epochs=epochs,\n",
        "    validation_data=val_data_gen,\n",
        "    validation_steps=total_val // batch_size\n",
        ")"
      ],
      "execution_count": 42,
      "outputs": [
        {
          "output_type": "stream",
          "text": [
            "WARNING:tensorflow:From <ipython-input-42-2401ab36538a>:6: Model.fit_generator (from tensorflow.python.keras.engine.training) is deprecated and will be removed in a future version.\n",
            "Instructions for updating:\n",
            "Please use Model.fit, which supports generators.\n",
            "Epoch 1/15\n",
            "106/106 [==============================] - 9s 86ms/step - loss: 1.8201 - tp: 734.0000 - fp: 32.0000 - tn: 24352.0000 - fn: 3330.0000 - accuracy: 0.8818 - precision: 0.9582 - recall: 0.1806 - auc: 0.7612 - val_loss: 1.5214 - val_tp: 107.0000 - val_fp: 19.0000 - val_tn: 4013.0000 - val_fn: 565.0000 - val_accuracy: 0.8759 - val_precision: 0.8492 - val_recall: 0.1592 - val_auc: 0.7798\n",
            "Epoch 2/15\n",
            "106/106 [==============================] - 8s 78ms/step - loss: 1.4844 - tp: 601.0000 - fp: 235.0000 - tn: 19931.0000 - fn: 2760.0000 - accuracy: 0.8727 - precision: 0.7189 - recall: 0.1788 - auc: 0.8002 - val_loss: 1.2850 - val_tp: 279.0000 - val_fp: 105.0000 - val_tn: 3927.0000 - val_fn: 393.0000 - val_accuracy: 0.8941 - val_precision: 0.7266 - val_recall: 0.4152 - val_auc: 0.8590\n",
            "Epoch 3/15\n",
            "106/106 [==============================] - 8s 77ms/step - loss: 1.2054 - tp: 1296.0000 - fp: 451.0000 - tn: 19715.0000 - fn: 2065.0000 - accuracy: 0.8931 - precision: 0.7418 - recall: 0.3856 - auc: 0.8746 - val_loss: 0.7190 - val_tp: 442.0000 - val_fp: 46.0000 - val_tn: 3986.0000 - val_fn: 230.0000 - val_accuracy: 0.9413 - val_precision: 0.9057 - val_recall: 0.6577 - val_auc: 0.9614\n",
            "Epoch 4/15\n",
            "106/106 [==============================] - 8s 77ms/step - loss: 0.9886 - tp: 1717.0000 - fp: 514.0000 - tn: 19652.0000 - fn: 1644.0000 - accuracy: 0.9083 - precision: 0.7696 - recall: 0.5109 - auc: 0.9176 - val_loss: 0.4428 - val_tp: 525.0000 - val_fp: 54.0000 - val_tn: 3978.0000 - val_fn: 147.0000 - val_accuracy: 0.9573 - val_precision: 0.9067 - val_recall: 0.7812 - val_auc: 0.9852\n",
            "Epoch 5/15\n",
            "106/106 [==============================] - 8s 78ms/step - loss: 0.8424 - tp: 1937.0000 - fp: 580.0000 - tn: 19586.0000 - fn: 1424.0000 - accuracy: 0.9148 - precision: 0.7696 - recall: 0.5763 - auc: 0.9399 - val_loss: 0.3982 - val_tp: 546.0000 - val_fp: 69.0000 - val_tn: 3963.0000 - val_fn: 126.0000 - val_accuracy: 0.9585 - val_precision: 0.8878 - val_recall: 0.8125 - val_auc: 0.9874\n",
            "Epoch 6/15\n",
            "106/106 [==============================] - 8s 77ms/step - loss: 0.8083 - tp: 2054.0000 - fp: 574.0000 - tn: 19592.0000 - fn: 1307.0000 - accuracy: 0.9200 - precision: 0.7816 - recall: 0.6111 - auc: 0.9445 - val_loss: 0.2489 - val_tp: 602.0000 - val_fp: 49.0000 - val_tn: 3983.0000 - val_fn: 70.0000 - val_accuracy: 0.9747 - val_precision: 0.9247 - val_recall: 0.8958 - val_auc: 0.9952\n",
            "Epoch 7/15\n",
            "106/106 [==============================] - 8s 78ms/step - loss: 0.7609 - tp: 2190.0000 - fp: 588.0000 - tn: 19578.0000 - fn: 1171.0000 - accuracy: 0.9252 - precision: 0.7883 - recall: 0.6516 - auc: 0.9523 - val_loss: 0.2222 - val_tp: 612.0000 - val_fp: 42.0000 - val_tn: 3990.0000 - val_fn: 60.0000 - val_accuracy: 0.9783 - val_precision: 0.9358 - val_recall: 0.9107 - val_auc: 0.9965\n",
            "Epoch 8/15\n",
            "106/106 [==============================] - 8s 78ms/step - loss: 0.6501 - tp: 2378.0000 - fp: 524.0000 - tn: 19642.0000 - fn: 983.0000 - accuracy: 0.9359 - precision: 0.8194 - recall: 0.7075 - auc: 0.9641 - val_loss: 0.2179 - val_tp: 606.0000 - val_fp: 48.0000 - val_tn: 3984.0000 - val_fn: 66.0000 - val_accuracy: 0.9758 - val_precision: 0.9266 - val_recall: 0.9018 - val_auc: 0.9961\n",
            "Epoch 9/15\n",
            "106/106 [==============================] - 8s 77ms/step - loss: 0.5861 - tp: 2488.0000 - fp: 500.0000 - tn: 19666.0000 - fn: 873.0000 - accuracy: 0.9416 - precision: 0.8327 - recall: 0.7403 - auc: 0.9708 - val_loss: 0.2846 - val_tp: 598.0000 - val_fp: 53.0000 - val_tn: 3979.0000 - val_fn: 74.0000 - val_accuracy: 0.9730 - val_precision: 0.9186 - val_recall: 0.8899 - val_auc: 0.9915\n",
            "Epoch 10/15\n",
            "106/106 [==============================] - 8s 78ms/step - loss: 0.5575 - tp: 2540.0000 - fp: 487.0000 - tn: 19679.0000 - fn: 821.0000 - accuracy: 0.9444 - precision: 0.8391 - recall: 0.7557 - auc: 0.9728 - val_loss: 0.2382 - val_tp: 611.0000 - val_fp: 46.0000 - val_tn: 3986.0000 - val_fn: 61.0000 - val_accuracy: 0.9773 - val_precision: 0.9300 - val_recall: 0.9092 - val_auc: 0.9945\n",
            "Epoch 11/15\n",
            "106/106 [==============================] - 8s 78ms/step - loss: 0.4991 - tp: 2631.0000 - fp: 451.0000 - tn: 19715.0000 - fn: 730.0000 - accuracy: 0.9498 - precision: 0.8537 - recall: 0.7828 - auc: 0.9779 - val_loss: 0.1630 - val_tp: 627.0000 - val_fp: 34.0000 - val_tn: 3998.0000 - val_fn: 45.0000 - val_accuracy: 0.9832 - val_precision: 0.9486 - val_recall: 0.9330 - val_auc: 0.9977\n",
            "Epoch 12/15\n",
            "106/106 [==============================] - 8s 78ms/step - loss: 0.5119 - tp: 2620.0000 - fp: 462.0000 - tn: 19704.0000 - fn: 741.0000 - accuracy: 0.9489 - precision: 0.8501 - recall: 0.7795 - auc: 0.9772 - val_loss: 0.2302 - val_tp: 610.0000 - val_fp: 53.0000 - val_tn: 3979.0000 - val_fn: 62.0000 - val_accuracy: 0.9756 - val_precision: 0.9201 - val_recall: 0.9077 - val_auc: 0.9946\n",
            "Epoch 13/15\n",
            "106/106 [==============================] - 8s 78ms/step - loss: 0.4617 - tp: 2688.0000 - fp: 407.0000 - tn: 19759.0000 - fn: 673.0000 - accuracy: 0.9541 - precision: 0.8685 - recall: 0.7998 - auc: 0.9805 - val_loss: 0.2162 - val_tp: 611.0000 - val_fp: 50.0000 - val_tn: 3982.0000 - val_fn: 61.0000 - val_accuracy: 0.9764 - val_precision: 0.9244 - val_recall: 0.9092 - val_auc: 0.9953\n",
            "Epoch 14/15\n",
            "106/106 [==============================] - 8s 78ms/step - loss: 0.4590 - tp: 2692.0000 - fp: 420.0000 - tn: 19746.0000 - fn: 669.0000 - accuracy: 0.9537 - precision: 0.8650 - recall: 0.8010 - auc: 0.9804 - val_loss: 0.1401 - val_tp: 639.0000 - val_fp: 27.0000 - val_tn: 4005.0000 - val_fn: 33.0000 - val_accuracy: 0.9872 - val_precision: 0.9595 - val_recall: 0.9509 - val_auc: 0.9974\n",
            "Epoch 15/15\n",
            "106/106 [==============================] - 8s 78ms/step - loss: 0.4110 - tp: 2772.0000 - fp: 363.0000 - tn: 19803.0000 - fn: 589.0000 - accuracy: 0.9595 - precision: 0.8842 - recall: 0.8248 - auc: 0.9848 - val_loss: 0.1640 - val_tp: 633.0000 - val_fp: 31.0000 - val_tn: 4001.0000 - val_fn: 39.0000 - val_accuracy: 0.9851 - val_precision: 0.9533 - val_recall: 0.9420 - val_auc: 0.9970\n"
          ],
          "name": "stdout"
        }
      ]
    },
    {
      "cell_type": "code",
      "metadata": {
        "id": "JIhnAudpmqhf",
        "colab_type": "code",
        "colab": {}
      },
      "source": [
        "model_new.save_weights('Teste15.h5') \n",
        "model_new.save(\"modelo3.h5\")"
      ],
      "execution_count": 0,
      "outputs": []
    },
    {
      "cell_type": "code",
      "metadata": {
        "id": "ttMh92nYmJRl",
        "colab_type": "code",
        "colab": {
          "base_uri": "https://localhost:8080/",
          "height": 499
        },
        "outputId": "1d0947fa-d393-42b0-c70f-e2be8fcbcbb7"
      },
      "source": [
        "acc = history.history['accuracy']\n",
        "val_acc = history.history['val_accuracy']\n",
        "\n",
        "loss = history.history['loss']\n",
        "val_loss = history.history['val_loss']\n",
        "\n",
        "epochs_range = range(epochs)\n",
        "\n",
        "plt.figure(figsize=(8, 8))\n",
        "plt.subplot(1, 2, 1)\n",
        "plt.plot(epochs_range, acc, label='Training Accuracy')\n",
        "plt.plot(epochs_range, val_acc, label='Validation Accuracy')\n",
        "plt.legend(loc='lower right')\n",
        "plt.title('Training and Validation Accuracy')\n",
        "\n",
        "plt.subplot(1, 2, 2)\n",
        "plt.plot(epochs_range, loss, label='Training Loss')\n",
        "plt.plot(epochs_range, val_loss, label='Validation Loss')\n",
        "plt.legend(loc='upper right')\n",
        "plt.title('Training and Validation Loss')\n",
        "plt.show()"
      ],
      "execution_count": 44,
      "outputs": [
        {
          "output_type": "display_data",
          "data": {
            "image/png": "[encoded data removed]",
            "text/plain": [
              "<Figure size 576x576 with 2 Axes>"
            ]
          },
          "metadata": {
            "tags": []
          }
        }
      ]
    },
    {
      "cell_type": "code",
      "metadata": {
        "id": "lEEmFVvgm5Yl",
        "colab_type": "code",
        "colab": {}
      },
      "source": [
        ""
      ],
      "execution_count": 0,
      "outputs": []
    }
  ]
}