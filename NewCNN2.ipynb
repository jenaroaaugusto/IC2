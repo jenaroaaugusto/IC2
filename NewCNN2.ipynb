{
  "nbformat": 4,
  "nbformat_minor": 0,
  "metadata": {
    "colab": {
      "name": "NewCNN.ipynb",
      "provenance": [],
      "collapsed_sections": [],
      "toc_visible": true,
      "authorship_tag": "ABX9TyM5cGH0eriCBGqM+OtRYDQZ",
      "include_colab_link": true
    },
    "kernelspec": {
      "name": "python3",
      "display_name": "Python 3"
    }
  },
  "cells": [
    {
      "cell_type": "markdown",
      "metadata": {
        "id": "view-in-github",
        "colab_type": "text"
      },
      "source": [
        "<a href=\"https://colab.research.google.com/github/jenaroaaugusto/IC2/blob/master/NewCNN2.ipynb\" target=\"_parent\"><img src=\"https://colab.research.google.com/assets/colab-badge.svg\" alt=\"Open In Colab\"/></a>"
      ]
    },
    {
      "cell_type": "code",
      "metadata": {
        "id": "GrCiEbC7lglr",
        "colab_type": "code",
        "colab": {
          "base_uri": "https://localhost:8080/",
          "height": 34
        },
        "outputId": "4cee01e1-d1f5-46b7-8d0c-c440b3d9db17"
      },
      "source": [
        "import tensorflow as tf \n",
        "tf.__version__"
      ],
      "execution_count": 2,
      "outputs": [
        {
          "output_type": "execute_result",
          "data": {
            "text/plain": [
              "'2.2.0-rc2'"
            ]
          },
          "metadata": {
            "tags": []
          },
          "execution_count": 2
        }
      ]
    },
    {
      "cell_type": "code",
      "metadata": {
        "id": "hSQpp5o4lwg5",
        "colab_type": "code",
        "colab": {}
      },
      "source": [
        "from __future__ import absolute_import, division, print_function, unicode_literals\n",
        "from tensorflow.keras.models import Sequential\n",
        "from tensorflow.keras.layers import Dense, Conv2D, Flatten, Dropout, MaxPooling2D\n",
        "from tensorflow.keras.preprocessing.image import ImageDataGenerator\n",
        "\n",
        "import os\n",
        "import pathlib\n",
        "import numpy as np\n",
        "import matplotlib.pyplot as plt\n",
        "\n",
        "\n"
      ],
      "execution_count": 0,
      "outputs": []
    },
    {
      "cell_type": "code",
      "metadata": {
        "id": "Hk-LKGzInBhq",
        "colab_type": "code",
        "colab": {
          "base_uri": "https://localhost:8080/",
          "height": 34
        },
        "outputId": "5a304369-620f-4d69-baf0-88a4184ec7f4"
      },
      "source": [
        "!git clone https://github.com/jenaroaaugusto/Dataset_musica_semvalidacao.git"
      ],
      "execution_count": 4,
      "outputs": [
        {
          "output_type": "stream",
          "text": [
            "fatal: destination path 'Dataset_musica_semvalidacao' already exists and is not an empty directory.\n"
          ],
          "name": "stdout"
        }
      ]
    },
    {
      "cell_type": "code",
      "metadata": {
        "id": "EPIzFO7FncBv",
        "colab_type": "code",
        "colab": {}
      },
      "source": [
        "trainDir = os.path.join('/content/Dataset_musica_semvalidacao', 'Treinamento')\n",
        "validationDir=os.path.join('/content/Dataset_musica_semvalidacao', 'Teste')\n"
      ],
      "execution_count": 0,
      "outputs": []
    },
    {
      "cell_type": "code",
      "metadata": {
        "id": "gWdWcXK6pOXr",
        "colab_type": "code",
        "colab": {
          "base_uri": "https://localhost:8080/",
          "height": 69
        },
        "outputId": "354d22c8-dca6-409a-863d-bba503f3d12e"
      },
      "source": [
        "train_dir = pathlib.Path(\"\"+trainDir)\n",
        "print(train_dir)\n",
        "total_train = len(list(train_dir.glob('*/*.bmp')))\n",
        "print(total_train)\n",
        "CLASS_NAMES=np.array(os.listdir(train_dir))\n",
        "print(CLASS_NAMES)"
      ],
      "execution_count": 6,
      "outputs": [
        {
          "output_type": "stream",
          "text": [
            "/content/Dataset_musica_semvalidacao/Treinamento\n",
            "3393\n",
            "['ACCIDENTAL_Flat' 'Natural' 'DoubSharp' 'Alto' 'Bass' 'Trebble' 'Sharp']\n"
          ],
          "name": "stdout"
        }
      ]
    },
    {
      "cell_type": "code",
      "metadata": {
        "id": "3uz2G7nirBc4",
        "colab_type": "code",
        "colab": {
          "base_uri": "https://localhost:8080/",
          "height": 52
        },
        "outputId": "7f8339d0-30ba-4bc9-df84-901524a539a6"
      },
      "source": [
        "validation_dir = pathlib.Path(\"\"+validationDir)\n",
        "print(validation_dir)\n",
        "total_val = len(list(validation_dir.glob('*/*.bmp')))\n",
        "print(total_val)"
      ],
      "execution_count": 7,
      "outputs": [
        {
          "output_type": "stream",
          "text": [
            "/content/Dataset_musica_semvalidacao/Teste\n",
            "700\n"
          ],
          "name": "stdout"
        }
      ]
    },
    {
      "cell_type": "code",
      "metadata": {
        "id": "keXG_gCEtT9R",
        "colab_type": "code",
        "colab": {}
      },
      "source": [
        "batch_size = 32\n",
        "epochs = 15\n",
        "IMG_HEIGHT = 28\n",
        "IMG_WIDTH = 28\n"
      ],
      "execution_count": 0,
      "outputs": []
    },
    {
      "cell_type": "code",
      "metadata": {
        "id": "Yyvb2t70tfkW",
        "colab_type": "code",
        "colab": {}
      },
      "source": [
        "train_image_generator = ImageDataGenerator(rescale=1./255) # Generator for our training data\n",
        "validation_image_generator = ImageDataGenerator(rescale=1./255) # Generator for our validation data\n"
      ],
      "execution_count": 0,
      "outputs": []
    },
    {
      "cell_type": "code",
      "metadata": {
        "id": "rwDUyysAti6X",
        "colab_type": "code",
        "colab": {
          "base_uri": "https://localhost:8080/",
          "height": 34
        },
        "outputId": "69e10f87-e69f-40a7-dfd6-bb22b3c84041"
      },
      "source": [
        "train_data_gen = train_image_generator.flow_from_directory(batch_size=batch_size,\n",
        "                                                           directory=train_dir,\n",
        "                                                           shuffle=True,\n",
        "                                                           color_mode=\"grayscale\",\n",
        "                                                           target_size=(IMG_HEIGHT, IMG_WIDTH),\n",
        "                                                           class_mode=\"categorical\")\n"
      ],
      "execution_count": 10,
      "outputs": [
        {
          "output_type": "stream",
          "text": [
            "Found 3393 images belonging to 7 classes.\n"
          ],
          "name": "stdout"
        }
      ]
    },
    {
      "cell_type": "code",
      "metadata": {
        "id": "3SK1yOFn008w",
        "colab_type": "code",
        "colab": {
          "base_uri": "https://localhost:8080/",
          "height": 34
        },
        "outputId": "c4fb46b1-b0a4-4548-db06-574a0dc2d082"
      },
      "source": [
        "val_data_gen = validation_image_generator.flow_from_directory(batch_size=batch_size,\n",
        "                                                              directory=validation_dir,\n",
        "                                                              target_size=(IMG_HEIGHT, IMG_WIDTH),\n",
        "                                                              shuffle=True,\n",
        "                                                              color_mode=\"grayscale\",\n",
        "                                                              class_mode=\"categorical\")\n"
      ],
      "execution_count": 11,
      "outputs": [
        {
          "output_type": "stream",
          "text": [
            "Found 700 images belonging to 7 classes.\n"
          ],
          "name": "stdout"
        }
      ]
    },
    {
      "cell_type": "code",
      "metadata": {
        "id": "mhRjMBttxWAW",
        "colab_type": "code",
        "colab": {
          "base_uri": "https://localhost:8080/",
          "height": 139
        },
        "outputId": "6142e201-042e-4915-bbf7-529bfb685e92"
      },
      "source": [
        "train_data_gen.class_indices"
      ],
      "execution_count": 12,
      "outputs": [
        {
          "output_type": "execute_result",
          "data": {
            "text/plain": [
              "{'ACCIDENTAL_Flat': 0,\n",
              " 'Alto': 1,\n",
              " 'Bass': 2,\n",
              " 'DoubSharp': 3,\n",
              " 'Natural': 4,\n",
              " 'Sharp': 5,\n",
              " 'Trebble': 6}"
            ]
          },
          "metadata": {
            "tags": []
          },
          "execution_count": 12
        }
      ]
    },
    {
      "cell_type": "code",
      "metadata": {
        "id": "L-f9ln0Vuqit",
        "colab_type": "code",
        "colab": {}
      },
      "source": [
        "x,y=next(train_data_gen)\n"
      ],
      "execution_count": 0,
      "outputs": []
    },
    {
      "cell_type": "code",
      "metadata": {
        "id": "CTLKQSo3y1Ed",
        "colab_type": "code",
        "colab": {
          "base_uri": "https://localhost:8080/",
          "height": 34
        },
        "outputId": "7090d4f9-bd12-4b85-caf8-abec702c205e"
      },
      "source": [
        "fy=np.argmax(y[1])\n",
        "fy"
      ],
      "execution_count": 14,
      "outputs": [
        {
          "output_type": "execute_result",
          "data": {
            "text/plain": [
              "0"
            ]
          },
          "metadata": {
            "tags": []
          },
          "execution_count": 14
        }
      ]
    },
    {
      "cell_type": "code",
      "metadata": {
        "id": "7gnm714eu1Da",
        "colab_type": "code",
        "colab": {}
      },
      "source": [
        "ax=train_data_gen.class_indices"
      ],
      "execution_count": 0,
      "outputs": []
    },
    {
      "cell_type": "code",
      "metadata": {
        "id": "bNM20KZivRsk",
        "colab_type": "code",
        "colab": {
          "base_uri": "https://localhost:8080/",
          "height": 34
        },
        "outputId": "4d780351-a689-492c-cfa3-778e8c5f9b49"
      },
      "source": [
        "ax.keys()"
      ],
      "execution_count": 16,
      "outputs": [
        {
          "output_type": "execute_result",
          "data": {
            "text/plain": [
              "dict_keys(['ACCIDENTAL_Flat', 'Alto', 'Bass', 'DoubSharp', 'Natural', 'Sharp', 'Trebble'])"
            ]
          },
          "metadata": {
            "tags": []
          },
          "execution_count": 16
        }
      ]
    },
    {
      "cell_type": "code",
      "metadata": {
        "id": "L1zeTOEN1rmk",
        "colab_type": "code",
        "colab": {
          "base_uri": "https://localhost:8080/",
          "height": 34
        },
        "outputId": "f76772ce-80e3-4a0c-f742-ffd38ddb2705"
      },
      "source": [
        "train_data_gen.num_classes"
      ],
      "execution_count": 17,
      "outputs": [
        {
          "output_type": "execute_result",
          "data": {
            "text/plain": [
              "7"
            ]
          },
          "metadata": {
            "tags": []
          },
          "execution_count": 17
        }
      ]
    },
    {
      "cell_type": "code",
      "metadata": {
        "id": "MzlbUnZczXMK",
        "colab_type": "code",
        "colab": {
          "base_uri": "https://localhost:8080/",
          "height": 34
        },
        "outputId": "7ab4b50f-711f-475e-a7ca-cbf87297ff63"
      },
      "source": [
        "val_data_gen.num_classes"
      ],
      "execution_count": 18,
      "outputs": [
        {
          "output_type": "execute_result",
          "data": {
            "text/plain": [
              "7"
            ]
          },
          "metadata": {
            "tags": []
          },
          "execution_count": 18
        }
      ]
    },
    {
      "cell_type": "markdown",
      "metadata": {
        "id": "XQ_wo83sEO9q",
        "colab_type": "text"
      },
      "source": [
        "# Rede Neural Convolucional - CNN  "
      ]
    },
    {
      "cell_type": "code",
      "metadata": {
        "id": "W2LQEfGF7NXH",
        "colab_type": "code",
        "colab": {}
      },
      "source": [
        "from tensorflow.keras import datasets, layers, models,optimizers\n",
        "from tensorflow.keras.layers import Activation, Dense\n",
        "# from keras import "
      ],
      "execution_count": 0,
      "outputs": []
    },
    {
      "cell_type": "code",
      "metadata": {
        "id": "kMPUYrpl692r",
        "colab_type": "code",
        "colab": {
          "base_uri": "https://localhost:8080/",
          "height": 364
        },
        "outputId": "36ee257a-1434-45a4-d21a-f364d4faf4cf"
      },
      "source": [
        "model = models.Sequential()\n",
        "model.add(layers.Conv2D(32, (2, 2),padding=\"same\", activation='relu', input_shape=(IMG_HEIGHT, IMG_WIDTH, 1)))\n",
        "model.add(layers.MaxPooling2D((2, 2)))\n",
        "model.add(layers.Conv2D(64, (3, 3),padding=\"same\", activation='relu'))\n",
        "model.add(layers.MaxPooling2D((2, 2)))\n",
        "model.add(layers.Conv2D(128, (3, 3),padding=\"same\", activation='relu'))\n",
        "model.add(layers.MaxPooling2D(2,2))\n",
        "model.summary()"
      ],
      "execution_count": 77,
      "outputs": [
        {
          "output_type": "stream",
          "text": [
            "Model: \"sequential_7\"\n",
            "_________________________________________________________________\n",
            "Layer (type)                 Output Shape              Param #   \n",
            "=================================================================\n",
            "conv2d_21 (Conv2D)           (None, 28, 28, 32)        160       \n",
            "_________________________________________________________________\n",
            "max_pooling2d_21 (MaxPooling (None, 14, 14, 32)        0         \n",
            "_________________________________________________________________\n",
            "conv2d_22 (Conv2D)           (None, 14, 14, 64)        18496     \n",
            "_________________________________________________________________\n",
            "max_pooling2d_22 (MaxPooling (None, 7, 7, 64)          0         \n",
            "_________________________________________________________________\n",
            "conv2d_23 (Conv2D)           (None, 7, 7, 128)         73856     \n",
            "_________________________________________________________________\n",
            "max_pooling2d_23 (MaxPooling (None, 3, 3, 128)         0         \n",
            "=================================================================\n",
            "Total params: 92,512\n",
            "Trainable params: 92,512\n",
            "Non-trainable params: 0\n",
            "_________________________________________________________________\n"
          ],
          "name": "stdout"
        }
      ]
    },
    {
      "cell_type": "code",
      "metadata": {
        "id": "sgVDZhkW7KFT",
        "colab_type": "code",
        "colab": {
          "base_uri": "https://localhost:8080/",
          "height": 607
        },
        "outputId": "a996a4b8-3f47-4a1b-d192-aeff3c8a43e9"
      },
      "source": [
        "model.add(layers.Flatten())\n",
        "model.add(layers.Dropout(0.1))\n",
        "model.add(layers.Dense(128, activation='relu'))\n",
        "model.add(layers.Dense(64,activation='relu'))\n",
        "model.add(layers.Dense(10, activation='relu'))\n",
        "model.add(Dense(7))\n",
        "model.add(Activation('softmax'))\n",
        "model.summary()"
      ],
      "execution_count": 78,
      "outputs": [
        {
          "output_type": "stream",
          "text": [
            "Model: \"sequential_7\"\n",
            "_________________________________________________________________\n",
            "Layer (type)                 Output Shape              Param #   \n",
            "=================================================================\n",
            "conv2d_21 (Conv2D)           (None, 28, 28, 32)        160       \n",
            "_________________________________________________________________\n",
            "max_pooling2d_21 (MaxPooling (None, 14, 14, 32)        0         \n",
            "_________________________________________________________________\n",
            "conv2d_22 (Conv2D)           (None, 14, 14, 64)        18496     \n",
            "_________________________________________________________________\n",
            "max_pooling2d_22 (MaxPooling (None, 7, 7, 64)          0         \n",
            "_________________________________________________________________\n",
            "conv2d_23 (Conv2D)           (None, 7, 7, 128)         73856     \n",
            "_________________________________________________________________\n",
            "max_pooling2d_23 (MaxPooling (None, 3, 3, 128)         0         \n",
            "_________________________________________________________________\n",
            "flatten_10 (Flatten)         (None, 1152)              0         \n",
            "_________________________________________________________________\n",
            "dropout_10 (Dropout)         (None, 1152)              0         \n",
            "_________________________________________________________________\n",
            "dense_40 (Dense)             (None, 128)               147584    \n",
            "_________________________________________________________________\n",
            "dense_41 (Dense)             (None, 64)                8256      \n",
            "_________________________________________________________________\n",
            "dense_42 (Dense)             (None, 10)                650       \n",
            "_________________________________________________________________\n",
            "dense_43 (Dense)             (None, 7)                 77        \n",
            "_________________________________________________________________\n",
            "activation_5 (Activation)    (None, 7)                 0         \n",
            "=================================================================\n",
            "Total params: 249,079\n",
            "Trainable params: 249,079\n",
            "Non-trainable params: 0\n",
            "_________________________________________________________________\n"
          ],
          "name": "stdout"
        }
      ]
    },
    {
      "cell_type": "code",
      "metadata": {
        "id": "vrI1aNErch8b",
        "colab_type": "code",
        "colab": {}
      },
      "source": [
        "\n"
      ],
      "execution_count": 0,
      "outputs": []
    },
    {
      "cell_type": "code",
      "metadata": {
        "id": "lmSjzRQc7_Wa",
        "colab_type": "code",
        "colab": {}
      },
      "source": [
        "model.compile(optimizer=\"adam\",\n",
        "              loss=\"categorical_crossentropy\",\n",
        "              metrics=['accuracy'])\n"
      ],
      "execution_count": 0,
      "outputs": []
    },
    {
      "cell_type": "code",
      "metadata": {
        "id": "IMnX0k30-1HF",
        "colab_type": "code",
        "colab": {
          "base_uri": "https://localhost:8080/",
          "height": 607
        },
        "outputId": "0e39c097-3572-4213-98bb-ee6bade6f2bc"
      },
      "source": [
        "model.summary()\n"
      ],
      "execution_count": 80,
      "outputs": [
        {
          "output_type": "stream",
          "text": [
            "Model: \"sequential_7\"\n",
            "_________________________________________________________________\n",
            "Layer (type)                 Output Shape              Param #   \n",
            "=================================================================\n",
            "conv2d_21 (Conv2D)           (None, 28, 28, 32)        160       \n",
            "_________________________________________________________________\n",
            "max_pooling2d_21 (MaxPooling (None, 14, 14, 32)        0         \n",
            "_________________________________________________________________\n",
            "conv2d_22 (Conv2D)           (None, 14, 14, 64)        18496     \n",
            "_________________________________________________________________\n",
            "max_pooling2d_22 (MaxPooling (None, 7, 7, 64)          0         \n",
            "_________________________________________________________________\n",
            "conv2d_23 (Conv2D)           (None, 7, 7, 128)         73856     \n",
            "_________________________________________________________________\n",
            "max_pooling2d_23 (MaxPooling (None, 3, 3, 128)         0         \n",
            "_________________________________________________________________\n",
            "flatten_10 (Flatten)         (None, 1152)              0         \n",
            "_________________________________________________________________\n",
            "dropout_10 (Dropout)         (None, 1152)              0         \n",
            "_________________________________________________________________\n",
            "dense_40 (Dense)             (None, 128)               147584    \n",
            "_________________________________________________________________\n",
            "dense_41 (Dense)             (None, 64)                8256      \n",
            "_________________________________________________________________\n",
            "dense_42 (Dense)             (None, 10)                650       \n",
            "_________________________________________________________________\n",
            "dense_43 (Dense)             (None, 7)                 77        \n",
            "_________________________________________________________________\n",
            "activation_5 (Activation)    (None, 7)                 0         \n",
            "=================================================================\n",
            "Total params: 249,079\n",
            "Trainable params: 249,079\n",
            "Non-trainable params: 0\n",
            "_________________________________________________________________\n"
          ],
          "name": "stdout"
        }
      ]
    },
    {
      "cell_type": "code",
      "metadata": {
        "id": "YPgvfCv9-5CP",
        "colab_type": "code",
        "colab": {
          "base_uri": "https://localhost:8080/",
          "height": 538
        },
        "outputId": "1caa5912-0fc5-4ff8-976d-b18eac187237"
      },
      "source": [
        "\n",
        "history = model.fit(\n",
        "    train_data_gen,\n",
        "    steps_per_epoch=total_train // batch_size,\n",
        "    epochs=epochs,\n",
        "    validation_data=val_data_gen,\n",
        "    validation_steps=total_val // batch_size\n",
        ")"
      ],
      "execution_count": 81,
      "outputs": [
        {
          "output_type": "stream",
          "text": [
            "Epoch 1/15\n",
            "106/106 [==============================] - 7s 66ms/step - loss: 0.9365 - accuracy: 0.6558 - val_loss: 0.1644 - val_accuracy: 0.9554\n",
            "Epoch 2/15\n",
            "106/106 [==============================] - 7s 65ms/step - loss: 0.1505 - accuracy: 0.9566 - val_loss: 0.0555 - val_accuracy: 0.9836\n",
            "Epoch 3/15\n",
            "106/106 [==============================] - 7s 65ms/step - loss: 0.0472 - accuracy: 0.9851 - val_loss: 0.0439 - val_accuracy: 0.9851\n",
            "Epoch 4/15\n",
            "106/106 [==============================] - 7s 65ms/step - loss: 0.0589 - accuracy: 0.9813 - val_loss: 0.0328 - val_accuracy: 0.9881\n",
            "Epoch 5/15\n",
            "106/106 [==============================] - 7s 65ms/step - loss: 0.0079 - accuracy: 0.9982 - val_loss: 0.0230 - val_accuracy: 0.9911\n",
            "Epoch 6/15\n",
            "106/106 [==============================] - 7s 65ms/step - loss: 0.0094 - accuracy: 0.9976 - val_loss: 0.0353 - val_accuracy: 0.9866\n",
            "Epoch 7/15\n",
            "106/106 [==============================] - 7s 65ms/step - loss: 0.0075 - accuracy: 0.9973 - val_loss: 0.0347 - val_accuracy: 0.9896\n",
            "Epoch 8/15\n",
            "106/106 [==============================] - 7s 65ms/step - loss: 0.0392 - accuracy: 0.9848 - val_loss: 0.0472 - val_accuracy: 0.9836\n",
            "Epoch 9/15\n",
            "106/106 [==============================] - 7s 64ms/step - loss: 0.0127 - accuracy: 0.9967 - val_loss: 0.0174 - val_accuracy: 0.9970\n",
            "Epoch 10/15\n",
            "106/106 [==============================] - 7s 65ms/step - loss: 0.0019 - accuracy: 0.9997 - val_loss: 0.0302 - val_accuracy: 0.9911\n",
            "Epoch 11/15\n",
            "106/106 [==============================] - 7s 65ms/step - loss: 0.0020 - accuracy: 0.9997 - val_loss: 0.0163 - val_accuracy: 0.9970\n",
            "Epoch 12/15\n",
            "106/106 [==============================] - 7s 65ms/step - loss: 0.0051 - accuracy: 0.9985 - val_loss: 0.0212 - val_accuracy: 0.9955\n",
            "Epoch 13/15\n",
            "106/106 [==============================] - 7s 66ms/step - loss: 0.0023 - accuracy: 0.9991 - val_loss: 0.0226 - val_accuracy: 0.9955\n",
            "Epoch 14/15\n",
            "106/106 [==============================] - 7s 65ms/step - loss: 0.0251 - accuracy: 0.9923 - val_loss: 0.0218 - val_accuracy: 0.9926\n",
            "Epoch 15/15\n",
            "106/106 [==============================] - 7s 65ms/step - loss: 0.0101 - accuracy: 0.9967 - val_loss: 0.0305 - val_accuracy: 0.9940\n"
          ],
          "name": "stdout"
        }
      ]
    },
    {
      "cell_type": "code",
      "metadata": {
        "id": "bj3kH0UC_DT9",
        "colab_type": "code",
        "colab": {}
      },
      "source": [
        "model.save_weights('Teste12.h5') "
      ],
      "execution_count": 0,
      "outputs": []
    },
    {
      "cell_type": "code",
      "metadata": {
        "id": "KDHJ0AmtUqki",
        "colab_type": "code",
        "colab": {
          "base_uri": "https://localhost:8080/",
          "height": 499
        },
        "outputId": "491f3c27-393c-45ad-f0d6-1854155209ac"
      },
      "source": [
        "acc = history.history['accuracy']\n",
        "val_acc = history.history['val_accuracy']\n",
        "\n",
        "loss=history.history['loss']\n",
        "val_loss=history.history['val_loss']\n",
        "\n",
        "epochs_range = range(epochs)\n",
        "\n",
        "plt.figure(figsize=(8, 8))\n",
        "plt.subplot(1, 2, 1)\n",
        "plt.plot(epochs_range, acc, label='Training Accuracy')\n",
        "plt.plot(epochs_range, val_acc, label='Validation Accuracy')\n",
        "plt.legend(loc='lower right')\n",
        "plt.title('Training and Validation Accuracy')\n",
        "\n",
        "plt.subplot(1, 2, 2)\n",
        "plt.plot(epochs_range, loss, label='Training Loss')\n",
        "plt.plot(epochs_range, val_loss, label='Validation Loss')\n",
        "plt.legend(loc='upper right')\n",
        "plt.title('Training and Validation Loss')\n",
        "plt.show()\n"
      ],
      "execution_count": 84,
      "outputs": [
        {
          "output_type": "display_data",
          "data": {
            "image/png": "[encoded data removed]",
            "text/plain": [
              "<Figure size 576x576 with 2 Axes>"
            ]
          },
          "metadata": {
            "tags": []
          }
        }
      ]
    },
    {
      "cell_type": "code",
      "metadata": {
        "id": "DCk5VVbfUytQ",
        "colab_type": "code",
        "colab": {}
      },
      "source": [
        ""
      ],
      "execution_count": 0,
      "outputs": []
    }
  ]
}